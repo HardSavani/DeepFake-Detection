{
  "nbformat": 4,
  "nbformat_minor": 0,
  "metadata": {
    "colab": {
      "name": "DLIB_DeepFake",
      "provenance": [],
      "collapsed_sections": [],
      "machine_shape": "hm"
    },
    "kernelspec": {
      "name": "python3",
      "display_name": "Python 3"
    },
    "language_info": {
      "name": "python"
    },
    "accelerator": "GPU"
  },
  "cells": [
    {
      "cell_type": "code",
      "metadata": {
        "colab": {
          "base_uri": "https://localhost:8080/"
        },
        "id": "OpoX3ys6bsw9",
        "outputId": "f7f8bda3-53fb-4dae-c698-c74e475e6c61"
      },
      "source": [
        "!pip install mediapipe"
      ],
      "execution_count": null,
      "outputs": [
        {
          "output_type": "stream",
          "text": [
            "Collecting mediapipe\n",
            "\u001b[?25l  Downloading https://files.pythonhosted.org/packages/51/a9/423f5c7ac68ba94821656af72151887c7a22f7ef66ff6ec5edd8c577dbda/mediapipe-0.8.4.2-cp37-cp37m-manylinux_2_17_x86_64.manylinux2014_x86_64.whl (36.1MB)\n",
            "\u001b[K     |████████████████████████████████| 36.1MB 65.1MB/s \n",
            "\u001b[?25hRequirement already satisfied: numpy in /usr/local/lib/python3.7/dist-packages (from mediapipe) (1.19.5)\n",
            "Requirement already satisfied: protobuf>=3.11.4 in /usr/local/lib/python3.7/dist-packages (from mediapipe) (3.12.4)\n",
            "Requirement already satisfied: attrs>=19.1.0 in /usr/local/lib/python3.7/dist-packages (from mediapipe) (21.2.0)\n",
            "Requirement already satisfied: opencv-contrib-python in /usr/local/lib/python3.7/dist-packages (from mediapipe) (4.1.2.30)\n",
            "Requirement already satisfied: wheel in /usr/local/lib/python3.7/dist-packages (from mediapipe) (0.36.2)\n",
            "Requirement already satisfied: six in /usr/local/lib/python3.7/dist-packages (from mediapipe) (1.15.0)\n",
            "Requirement already satisfied: absl-py in /usr/local/lib/python3.7/dist-packages (from mediapipe) (0.12.0)\n",
            "Requirement already satisfied: setuptools in /usr/local/lib/python3.7/dist-packages (from protobuf>=3.11.4->mediapipe) (56.1.0)\n",
            "Installing collected packages: mediapipe\n",
            "Successfully installed mediapipe-0.8.4.2\n"
          ],
          "name": "stdout"
        }
      ]
    },
    {
      "cell_type": "code",
      "metadata": {
        "id": "Yt81fYgE__zC"
      },
      "source": [
        "import pandas as pd\n",
        "import numpy as np\n",
        "import PIL\n",
        "from PIL import Image\n",
        "import cv2\n",
        "import os\n",
        "\n",
        "from matplotlib import pyplot as plt\n",
        "from google.colab.patches import cv2_imshow\n",
        "\n",
        "import dlib\n",
        "from skimage import io\n",
        "import matplotlib.pyplot as plt\n",
        "from numpy import asarray\n"
      ],
      "execution_count": null,
      "outputs": []
    },
    {
      "cell_type": "code",
      "metadata": {
        "colab": {
          "base_uri": "https://localhost:8080/"
        },
        "id": "MGNbDlUBweCH",
        "outputId": "d21f1fd8-c7c7-41db-ff2d-3c924c2eb64f"
      },
      "source": [
        "from google.colab import drive\n",
        "drive.mount('/content/drive')"
      ],
      "execution_count": null,
      "outputs": [
        {
          "output_type": "stream",
          "text": [
            "Drive already mounted at /content/drive; to attempt to forcibly remount, call drive.mount(\"/content/drive\", force_remount=True).\n"
          ],
          "name": "stdout"
        }
      ]
    },
    {
      "cell_type": "code",
      "metadata": {
        "id": "O8fA4EhaFb6x"
      },
      "source": [
        "imgPath=[]\n",
        "resize= 1\n",
        "frame_count_real = []\n",
        "frame_count_fake = []\n",
        "\n",
        "\n",
        "# Function to extract frames\n",
        "def FrameCapture(path,globalCount,type_dataset,label):\n",
        "    frame_count=[]\n",
        "    imgPath = []\n",
        "    temp = 0\n",
        "    v_cap = cv2.VideoCapture(path)\n",
        "    v_len = int(v_cap.get(cv2.CAP_PROP_FRAME_COUNT))\n",
        "    \n",
        "    # Pick 'n_frames' evenly spaced frames to sample\n",
        "    sample = np.linspace(0, v_len - 1, n_frames).astype(int) #Index in sample array are the frames which will be extracted.\n",
        "\n",
        "    # Loop through frames\n",
        "    \n",
        "    frames = []\n",
        "    for j in range(v_len):\n",
        "        success = v_cap.grab()\n",
        "        if j in sample:\n",
        "            # Load frame\n",
        "            success, frame = v_cap.read()\n",
        "            if not success:\n",
        "                \n",
        "                continue\n",
        "            \n",
        "            frame = Image.fromarray(frame)\n",
        "            \n",
        "            # Resize frame to desired size\n",
        "            if resize is not None:\n",
        "                frame = frame.resize([int(d * resize) for d in frame.size])\n",
        "                frame = np.asarray(frame)\n",
        "            frames.append(frame)\n",
        "    \n",
        "    # Used as counter variable\n",
        "  \n",
        "    # checks whether frames were extracted\n",
        "    count = globalCount\n",
        "    currentCount = 0\n",
        "    success = 1\n",
        "  \n",
        "    while success and currentCount<min(n_frames,len(frames)):\n",
        "  \n",
        "        \n",
        "        cv2.imwrite(\"All_Images/\" + str(type_dataset) + \"_\"+ str(label) + \"_frame%d.jpg\" % (count//n_frames),frames[int(currentCount)])\n",
        "\n",
        "        imgPath.append(\"All_Images/\" + str(type_dataset) + \"_\"+ str(label) + \"_frame%d.jpg\"%(count//n_frames))\n",
        "  \n",
        "        count += n_frames\n",
        "        currentCount += 1\n",
        "      \n",
        "    if(type_dataset==\"Test\"):\n",
        "      frame_count.append(currentCount)\n",
        "\n",
        "    return imgPath,count,frame_count\n",
        "\n"
      ],
      "execution_count": null,
      "outputs": []
    },
    {
      "cell_type": "code",
      "metadata": {
        "id": "oEGyvztH7-3g"
      },
      "source": [
        "import os\n",
        "\n",
        "\n",
        "n_frames = 32\n",
        "resize= 1\n",
        "\n",
        "def captureFrame(type_dataset,label):\n",
        "  imgPath = []\n",
        "  frame_count = []\n",
        "  count = 0\n",
        "  video_label=[]\n",
        "  for file in os.listdir(\"/content/drive/MyDrive/Deepfake_Mix/\"+str(type_dataset)+\"/\"+str(label)):\n",
        "      path=os.path.join(\"/content/drive/MyDrive/Deepfake_Mix/\"+str(type_dataset)+\"/\"+str(label), file)\n",
        "      temp , count ,x= FrameCapture(path,count,type_dataset,label)\n",
        "      imgPath = imgPath +  temp\n",
        "      if (type_dataset == 'Test'):\n",
        "        frame_count.append(x[0])\n",
        "        if label=='Fake':\n",
        "          video_label.append(0)\n",
        "        else:\n",
        "          video_label.append(1)\n",
        "  return imgPath,frame_count,video_label"
      ],
      "execution_count": null,
      "outputs": []
    },
    {
      "cell_type": "code",
      "metadata": {
        "id": "U8Jqqhj4CZM4"
      },
      "source": [
        "imgPath_train_fake,  frame_count_train_fake, _= captureFrame(\"Train\",\"Fake\")\n",
        "imgPath_train_real,  frame_count_train_real, _= captureFrame(\"Train\",\"Real\")\n",
        "imgPath_val_fake,  frame_count_val_fake, video_label_val_fake= captureFrame(\"Val\",\"Fake\")\n",
        "imgPath_val_real,  frame_count_val_real, video_label_val_real= captureFrame(\"Val\",\"Real\")\n",
        "imgPath_test_fake,  frame_count_test_fake, video_label_test_fake= captureFrame(\"Test\",\"Fake\")\n",
        "imgPath_test_real,  frame_count_test_real, video_label_test_real= captureFrame(\"Test\",\"Real\")"
      ],
      "execution_count": null,
      "outputs": []
    },
    {
      "cell_type": "code",
      "metadata": {
        "colab": {
          "base_uri": "https://localhost:8080/"
        },
        "id": "agUvBFhfCrcO",
        "outputId": "dd40b395-ea89-47be-b321-246fe34d2cf1"
      },
      "source": [
        "print(len(imgPath_train_fake))\n",
        "print(len(imgPath_train_real))\n",
        "print(imgPath_val_fake)\n",
        "print(imgPath_val_real)\n",
        "print(len(imgPath_test_fake))\n",
        "print(len(imgPath_test_real))"
      ],
      "execution_count": null,
      "outputs": [
        {
          "output_type": "stream",
          "text": [
            "1348\n",
            "1456\n",
            "['All_Images/Val_Fake_frame0.jpg', 'All_Images/Val_Fake_frame1.jpg', 'All_Images/Val_Fake_frame2.jpg', 'All_Images/Val_Fake_frame3.jpg', 'All_Images/Val_Fake_frame4.jpg', 'All_Images/Val_Fake_frame5.jpg', 'All_Images/Val_Fake_frame6.jpg', 'All_Images/Val_Fake_frame7.jpg', 'All_Images/Val_Fake_frame8.jpg', 'All_Images/Val_Fake_frame9.jpg', 'All_Images/Val_Fake_frame10.jpg', 'All_Images/Val_Fake_frame11.jpg', 'All_Images/Val_Fake_frame12.jpg', 'All_Images/Val_Fake_frame13.jpg', 'All_Images/Val_Fake_frame14.jpg', 'All_Images/Val_Fake_frame15.jpg', 'All_Images/Val_Fake_frame16.jpg', 'All_Images/Val_Fake_frame17.jpg', 'All_Images/Val_Fake_frame18.jpg', 'All_Images/Val_Fake_frame19.jpg', 'All_Images/Val_Fake_frame20.jpg', 'All_Images/Val_Fake_frame21.jpg', 'All_Images/Val_Fake_frame22.jpg', 'All_Images/Val_Fake_frame23.jpg', 'All_Images/Val_Fake_frame24.jpg', 'All_Images/Val_Fake_frame25.jpg', 'All_Images/Val_Fake_frame26.jpg', 'All_Images/Val_Fake_frame27.jpg', 'All_Images/Val_Fake_frame28.jpg', 'All_Images/Val_Fake_frame29.jpg', 'All_Images/Val_Fake_frame30.jpg', 'All_Images/Val_Fake_frame31.jpg', 'All_Images/Val_Fake_frame32.jpg', 'All_Images/Val_Fake_frame33.jpg', 'All_Images/Val_Fake_frame34.jpg', 'All_Images/Val_Fake_frame35.jpg', 'All_Images/Val_Fake_frame36.jpg', 'All_Images/Val_Fake_frame37.jpg', 'All_Images/Val_Fake_frame38.jpg', 'All_Images/Val_Fake_frame39.jpg', 'All_Images/Val_Fake_frame40.jpg', 'All_Images/Val_Fake_frame41.jpg', 'All_Images/Val_Fake_frame42.jpg', 'All_Images/Val_Fake_frame43.jpg', 'All_Images/Val_Fake_frame44.jpg', 'All_Images/Val_Fake_frame45.jpg', 'All_Images/Val_Fake_frame46.jpg', 'All_Images/Val_Fake_frame47.jpg', 'All_Images/Val_Fake_frame48.jpg', 'All_Images/Val_Fake_frame49.jpg', 'All_Images/Val_Fake_frame50.jpg', 'All_Images/Val_Fake_frame51.jpg', 'All_Images/Val_Fake_frame52.jpg', 'All_Images/Val_Fake_frame53.jpg', 'All_Images/Val_Fake_frame54.jpg', 'All_Images/Val_Fake_frame55.jpg', 'All_Images/Val_Fake_frame56.jpg', 'All_Images/Val_Fake_frame57.jpg', 'All_Images/Val_Fake_frame58.jpg', 'All_Images/Val_Fake_frame59.jpg', 'All_Images/Val_Fake_frame60.jpg', 'All_Images/Val_Fake_frame61.jpg', 'All_Images/Val_Fake_frame62.jpg', 'All_Images/Val_Fake_frame63.jpg', 'All_Images/Val_Fake_frame64.jpg', 'All_Images/Val_Fake_frame65.jpg', 'All_Images/Val_Fake_frame66.jpg', 'All_Images/Val_Fake_frame67.jpg', 'All_Images/Val_Fake_frame68.jpg', 'All_Images/Val_Fake_frame69.jpg', 'All_Images/Val_Fake_frame70.jpg', 'All_Images/Val_Fake_frame71.jpg', 'All_Images/Val_Fake_frame72.jpg', 'All_Images/Val_Fake_frame73.jpg', 'All_Images/Val_Fake_frame74.jpg', 'All_Images/Val_Fake_frame75.jpg', 'All_Images/Val_Fake_frame76.jpg', 'All_Images/Val_Fake_frame77.jpg', 'All_Images/Val_Fake_frame78.jpg', 'All_Images/Val_Fake_frame79.jpg', 'All_Images/Val_Fake_frame80.jpg', 'All_Images/Val_Fake_frame81.jpg', 'All_Images/Val_Fake_frame82.jpg', 'All_Images/Val_Fake_frame83.jpg', 'All_Images/Val_Fake_frame84.jpg', 'All_Images/Val_Fake_frame85.jpg', 'All_Images/Val_Fake_frame86.jpg', 'All_Images/Val_Fake_frame87.jpg', 'All_Images/Val_Fake_frame88.jpg', 'All_Images/Val_Fake_frame89.jpg', 'All_Images/Val_Fake_frame90.jpg', 'All_Images/Val_Fake_frame91.jpg', 'All_Images/Val_Fake_frame92.jpg', 'All_Images/Val_Fake_frame93.jpg', 'All_Images/Val_Fake_frame94.jpg', 'All_Images/Val_Fake_frame95.jpg', 'All_Images/Val_Fake_frame96.jpg', 'All_Images/Val_Fake_frame97.jpg', 'All_Images/Val_Fake_frame98.jpg', 'All_Images/Val_Fake_frame99.jpg', 'All_Images/Val_Fake_frame100.jpg', 'All_Images/Val_Fake_frame101.jpg', 'All_Images/Val_Fake_frame102.jpg', 'All_Images/Val_Fake_frame103.jpg', 'All_Images/Val_Fake_frame104.jpg', 'All_Images/Val_Fake_frame105.jpg', 'All_Images/Val_Fake_frame106.jpg', 'All_Images/Val_Fake_frame107.jpg', 'All_Images/Val_Fake_frame108.jpg', 'All_Images/Val_Fake_frame109.jpg', 'All_Images/Val_Fake_frame110.jpg', 'All_Images/Val_Fake_frame111.jpg', 'All_Images/Val_Fake_frame112.jpg', 'All_Images/Val_Fake_frame113.jpg', 'All_Images/Val_Fake_frame114.jpg', 'All_Images/Val_Fake_frame115.jpg', 'All_Images/Val_Fake_frame116.jpg', 'All_Images/Val_Fake_frame117.jpg', 'All_Images/Val_Fake_frame118.jpg', 'All_Images/Val_Fake_frame119.jpg', 'All_Images/Val_Fake_frame120.jpg', 'All_Images/Val_Fake_frame121.jpg', 'All_Images/Val_Fake_frame122.jpg', 'All_Images/Val_Fake_frame123.jpg', 'All_Images/Val_Fake_frame124.jpg', 'All_Images/Val_Fake_frame125.jpg', 'All_Images/Val_Fake_frame126.jpg', 'All_Images/Val_Fake_frame127.jpg', 'All_Images/Val_Fake_frame128.jpg', 'All_Images/Val_Fake_frame129.jpg', 'All_Images/Val_Fake_frame130.jpg', 'All_Images/Val_Fake_frame131.jpg', 'All_Images/Val_Fake_frame132.jpg', 'All_Images/Val_Fake_frame133.jpg', 'All_Images/Val_Fake_frame134.jpg', 'All_Images/Val_Fake_frame135.jpg', 'All_Images/Val_Fake_frame136.jpg', 'All_Images/Val_Fake_frame137.jpg', 'All_Images/Val_Fake_frame138.jpg', 'All_Images/Val_Fake_frame139.jpg', 'All_Images/Val_Fake_frame140.jpg', 'All_Images/Val_Fake_frame141.jpg', 'All_Images/Val_Fake_frame142.jpg', 'All_Images/Val_Fake_frame143.jpg', 'All_Images/Val_Fake_frame144.jpg', 'All_Images/Val_Fake_frame145.jpg', 'All_Images/Val_Fake_frame146.jpg', 'All_Images/Val_Fake_frame147.jpg', 'All_Images/Val_Fake_frame148.jpg', 'All_Images/Val_Fake_frame149.jpg', 'All_Images/Val_Fake_frame150.jpg', 'All_Images/Val_Fake_frame151.jpg', 'All_Images/Val_Fake_frame152.jpg', 'All_Images/Val_Fake_frame153.jpg', 'All_Images/Val_Fake_frame154.jpg', 'All_Images/Val_Fake_frame155.jpg', 'All_Images/Val_Fake_frame156.jpg', 'All_Images/Val_Fake_frame157.jpg', 'All_Images/Val_Fake_frame158.jpg', 'All_Images/Val_Fake_frame159.jpg', 'All_Images/Val_Fake_frame160.jpg', 'All_Images/Val_Fake_frame161.jpg', 'All_Images/Val_Fake_frame162.jpg', 'All_Images/Val_Fake_frame163.jpg', 'All_Images/Val_Fake_frame164.jpg', 'All_Images/Val_Fake_frame165.jpg', 'All_Images/Val_Fake_frame166.jpg', 'All_Images/Val_Fake_frame167.jpg', 'All_Images/Val_Fake_frame168.jpg', 'All_Images/Val_Fake_frame169.jpg', 'All_Images/Val_Fake_frame170.jpg', 'All_Images/Val_Fake_frame171.jpg', 'All_Images/Val_Fake_frame172.jpg', 'All_Images/Val_Fake_frame173.jpg', 'All_Images/Val_Fake_frame174.jpg', 'All_Images/Val_Fake_frame175.jpg', 'All_Images/Val_Fake_frame176.jpg', 'All_Images/Val_Fake_frame177.jpg', 'All_Images/Val_Fake_frame178.jpg', 'All_Images/Val_Fake_frame179.jpg', 'All_Images/Val_Fake_frame180.jpg', 'All_Images/Val_Fake_frame181.jpg', 'All_Images/Val_Fake_frame182.jpg', 'All_Images/Val_Fake_frame183.jpg', 'All_Images/Val_Fake_frame184.jpg', 'All_Images/Val_Fake_frame185.jpg', 'All_Images/Val_Fake_frame186.jpg', 'All_Images/Val_Fake_frame187.jpg', 'All_Images/Val_Fake_frame188.jpg', 'All_Images/Val_Fake_frame189.jpg', 'All_Images/Val_Fake_frame190.jpg', 'All_Images/Val_Fake_frame191.jpg', 'All_Images/Val_Fake_frame192.jpg', 'All_Images/Val_Fake_frame193.jpg', 'All_Images/Val_Fake_frame194.jpg', 'All_Images/Val_Fake_frame195.jpg', 'All_Images/Val_Fake_frame196.jpg', 'All_Images/Val_Fake_frame197.jpg', 'All_Images/Val_Fake_frame198.jpg', 'All_Images/Val_Fake_frame199.jpg', 'All_Images/Val_Fake_frame200.jpg', 'All_Images/Val_Fake_frame201.jpg', 'All_Images/Val_Fake_frame202.jpg', 'All_Images/Val_Fake_frame203.jpg', 'All_Images/Val_Fake_frame204.jpg', 'All_Images/Val_Fake_frame205.jpg', 'All_Images/Val_Fake_frame206.jpg', 'All_Images/Val_Fake_frame207.jpg', 'All_Images/Val_Fake_frame208.jpg', 'All_Images/Val_Fake_frame209.jpg', 'All_Images/Val_Fake_frame210.jpg', 'All_Images/Val_Fake_frame211.jpg', 'All_Images/Val_Fake_frame212.jpg', 'All_Images/Val_Fake_frame213.jpg', 'All_Images/Val_Fake_frame214.jpg', 'All_Images/Val_Fake_frame215.jpg', 'All_Images/Val_Fake_frame216.jpg', 'All_Images/Val_Fake_frame217.jpg', 'All_Images/Val_Fake_frame218.jpg', 'All_Images/Val_Fake_frame219.jpg', 'All_Images/Val_Fake_frame220.jpg', 'All_Images/Val_Fake_frame221.jpg', 'All_Images/Val_Fake_frame222.jpg', 'All_Images/Val_Fake_frame223.jpg', 'All_Images/Val_Fake_frame224.jpg', 'All_Images/Val_Fake_frame225.jpg', 'All_Images/Val_Fake_frame226.jpg', 'All_Images/Val_Fake_frame227.jpg', 'All_Images/Val_Fake_frame228.jpg', 'All_Images/Val_Fake_frame229.jpg', 'All_Images/Val_Fake_frame230.jpg', 'All_Images/Val_Fake_frame231.jpg', 'All_Images/Val_Fake_frame232.jpg', 'All_Images/Val_Fake_frame233.jpg', 'All_Images/Val_Fake_frame234.jpg', 'All_Images/Val_Fake_frame235.jpg', 'All_Images/Val_Fake_frame236.jpg', 'All_Images/Val_Fake_frame237.jpg', 'All_Images/Val_Fake_frame238.jpg', 'All_Images/Val_Fake_frame239.jpg', 'All_Images/Val_Fake_frame240.jpg', 'All_Images/Val_Fake_frame241.jpg', 'All_Images/Val_Fake_frame242.jpg', 'All_Images/Val_Fake_frame243.jpg', 'All_Images/Val_Fake_frame244.jpg', 'All_Images/Val_Fake_frame245.jpg', 'All_Images/Val_Fake_frame246.jpg', 'All_Images/Val_Fake_frame247.jpg', 'All_Images/Val_Fake_frame248.jpg', 'All_Images/Val_Fake_frame249.jpg', 'All_Images/Val_Fake_frame250.jpg', 'All_Images/Val_Fake_frame251.jpg', 'All_Images/Val_Fake_frame252.jpg', 'All_Images/Val_Fake_frame253.jpg', 'All_Images/Val_Fake_frame254.jpg', 'All_Images/Val_Fake_frame255.jpg', 'All_Images/Val_Fake_frame256.jpg', 'All_Images/Val_Fake_frame257.jpg', 'All_Images/Val_Fake_frame258.jpg', 'All_Images/Val_Fake_frame259.jpg', 'All_Images/Val_Fake_frame260.jpg', 'All_Images/Val_Fake_frame261.jpg', 'All_Images/Val_Fake_frame262.jpg', 'All_Images/Val_Fake_frame263.jpg', 'All_Images/Val_Fake_frame264.jpg', 'All_Images/Val_Fake_frame265.jpg', 'All_Images/Val_Fake_frame266.jpg', 'All_Images/Val_Fake_frame267.jpg', 'All_Images/Val_Fake_frame268.jpg', 'All_Images/Val_Fake_frame269.jpg', 'All_Images/Val_Fake_frame270.jpg', 'All_Images/Val_Fake_frame271.jpg', 'All_Images/Val_Fake_frame272.jpg', 'All_Images/Val_Fake_frame273.jpg', 'All_Images/Val_Fake_frame274.jpg', 'All_Images/Val_Fake_frame275.jpg', 'All_Images/Val_Fake_frame276.jpg', 'All_Images/Val_Fake_frame277.jpg', 'All_Images/Val_Fake_frame278.jpg', 'All_Images/Val_Fake_frame279.jpg', 'All_Images/Val_Fake_frame280.jpg', 'All_Images/Val_Fake_frame281.jpg', 'All_Images/Val_Fake_frame282.jpg', 'All_Images/Val_Fake_frame283.jpg', 'All_Images/Val_Fake_frame284.jpg', 'All_Images/Val_Fake_frame285.jpg', 'All_Images/Val_Fake_frame286.jpg', 'All_Images/Val_Fake_frame287.jpg', 'All_Images/Val_Fake_frame288.jpg', 'All_Images/Val_Fake_frame289.jpg', 'All_Images/Val_Fake_frame290.jpg', 'All_Images/Val_Fake_frame291.jpg', 'All_Images/Val_Fake_frame292.jpg', 'All_Images/Val_Fake_frame293.jpg', 'All_Images/Val_Fake_frame294.jpg', 'All_Images/Val_Fake_frame295.jpg', 'All_Images/Val_Fake_frame296.jpg', 'All_Images/Val_Fake_frame297.jpg', 'All_Images/Val_Fake_frame298.jpg', 'All_Images/Val_Fake_frame299.jpg', 'All_Images/Val_Fake_frame300.jpg', 'All_Images/Val_Fake_frame301.jpg', 'All_Images/Val_Fake_frame302.jpg', 'All_Images/Val_Fake_frame303.jpg', 'All_Images/Val_Fake_frame304.jpg', 'All_Images/Val_Fake_frame305.jpg', 'All_Images/Val_Fake_frame306.jpg', 'All_Images/Val_Fake_frame307.jpg', 'All_Images/Val_Fake_frame308.jpg', 'All_Images/Val_Fake_frame309.jpg', 'All_Images/Val_Fake_frame310.jpg', 'All_Images/Val_Fake_frame311.jpg', 'All_Images/Val_Fake_frame312.jpg', 'All_Images/Val_Fake_frame313.jpg', 'All_Images/Val_Fake_frame314.jpg', 'All_Images/Val_Fake_frame315.jpg', 'All_Images/Val_Fake_frame316.jpg', 'All_Images/Val_Fake_frame317.jpg', 'All_Images/Val_Fake_frame318.jpg', 'All_Images/Val_Fake_frame319.jpg', 'All_Images/Val_Fake_frame320.jpg', 'All_Images/Val_Fake_frame321.jpg', 'All_Images/Val_Fake_frame322.jpg', 'All_Images/Val_Fake_frame323.jpg', 'All_Images/Val_Fake_frame324.jpg', 'All_Images/Val_Fake_frame325.jpg', 'All_Images/Val_Fake_frame326.jpg', 'All_Images/Val_Fake_frame327.jpg', 'All_Images/Val_Fake_frame328.jpg', 'All_Images/Val_Fake_frame329.jpg', 'All_Images/Val_Fake_frame330.jpg', 'All_Images/Val_Fake_frame331.jpg', 'All_Images/Val_Fake_frame332.jpg', 'All_Images/Val_Fake_frame333.jpg', 'All_Images/Val_Fake_frame334.jpg', 'All_Images/Val_Fake_frame335.jpg', 'All_Images/Val_Fake_frame336.jpg', 'All_Images/Val_Fake_frame337.jpg', 'All_Images/Val_Fake_frame338.jpg', 'All_Images/Val_Fake_frame339.jpg', 'All_Images/Val_Fake_frame340.jpg', 'All_Images/Val_Fake_frame341.jpg', 'All_Images/Val_Fake_frame342.jpg', 'All_Images/Val_Fake_frame343.jpg', 'All_Images/Val_Fake_frame344.jpg', 'All_Images/Val_Fake_frame345.jpg', 'All_Images/Val_Fake_frame346.jpg', 'All_Images/Val_Fake_frame347.jpg', 'All_Images/Val_Fake_frame348.jpg', 'All_Images/Val_Fake_frame349.jpg', 'All_Images/Val_Fake_frame350.jpg', 'All_Images/Val_Fake_frame351.jpg', 'All_Images/Val_Fake_frame352.jpg', 'All_Images/Val_Fake_frame353.jpg', 'All_Images/Val_Fake_frame354.jpg', 'All_Images/Val_Fake_frame355.jpg', 'All_Images/Val_Fake_frame356.jpg', 'All_Images/Val_Fake_frame357.jpg', 'All_Images/Val_Fake_frame358.jpg', 'All_Images/Val_Fake_frame359.jpg', 'All_Images/Val_Fake_frame360.jpg', 'All_Images/Val_Fake_frame361.jpg', 'All_Images/Val_Fake_frame362.jpg', 'All_Images/Val_Fake_frame363.jpg', 'All_Images/Val_Fake_frame364.jpg', 'All_Images/Val_Fake_frame365.jpg', 'All_Images/Val_Fake_frame366.jpg', 'All_Images/Val_Fake_frame367.jpg', 'All_Images/Val_Fake_frame368.jpg', 'All_Images/Val_Fake_frame369.jpg', 'All_Images/Val_Fake_frame370.jpg', 'All_Images/Val_Fake_frame371.jpg', 'All_Images/Val_Fake_frame372.jpg', 'All_Images/Val_Fake_frame373.jpg', 'All_Images/Val_Fake_frame374.jpg', 'All_Images/Val_Fake_frame375.jpg', 'All_Images/Val_Fake_frame376.jpg', 'All_Images/Val_Fake_frame377.jpg', 'All_Images/Val_Fake_frame378.jpg', 'All_Images/Val_Fake_frame379.jpg', 'All_Images/Val_Fake_frame380.jpg', 'All_Images/Val_Fake_frame381.jpg', 'All_Images/Val_Fake_frame382.jpg', 'All_Images/Val_Fake_frame383.jpg', 'All_Images/Val_Fake_frame384.jpg', 'All_Images/Val_Fake_frame385.jpg', 'All_Images/Val_Fake_frame386.jpg', 'All_Images/Val_Fake_frame387.jpg', 'All_Images/Val_Fake_frame388.jpg', 'All_Images/Val_Fake_frame389.jpg', 'All_Images/Val_Fake_frame390.jpg', 'All_Images/Val_Fake_frame391.jpg', 'All_Images/Val_Fake_frame392.jpg', 'All_Images/Val_Fake_frame393.jpg', 'All_Images/Val_Fake_frame394.jpg', 'All_Images/Val_Fake_frame395.jpg', 'All_Images/Val_Fake_frame396.jpg', 'All_Images/Val_Fake_frame397.jpg', 'All_Images/Val_Fake_frame398.jpg', 'All_Images/Val_Fake_frame399.jpg', 'All_Images/Val_Fake_frame400.jpg', 'All_Images/Val_Fake_frame401.jpg', 'All_Images/Val_Fake_frame402.jpg', 'All_Images/Val_Fake_frame403.jpg', 'All_Images/Val_Fake_frame404.jpg', 'All_Images/Val_Fake_frame405.jpg', 'All_Images/Val_Fake_frame406.jpg', 'All_Images/Val_Fake_frame407.jpg', 'All_Images/Val_Fake_frame408.jpg', 'All_Images/Val_Fake_frame409.jpg', 'All_Images/Val_Fake_frame410.jpg', 'All_Images/Val_Fake_frame411.jpg', 'All_Images/Val_Fake_frame412.jpg', 'All_Images/Val_Fake_frame413.jpg', 'All_Images/Val_Fake_frame414.jpg', 'All_Images/Val_Fake_frame415.jpg', 'All_Images/Val_Fake_frame416.jpg', 'All_Images/Val_Fake_frame417.jpg', 'All_Images/Val_Fake_frame418.jpg', 'All_Images/Val_Fake_frame419.jpg', 'All_Images/Val_Fake_frame420.jpg', 'All_Images/Val_Fake_frame421.jpg', 'All_Images/Val_Fake_frame422.jpg', 'All_Images/Val_Fake_frame423.jpg', 'All_Images/Val_Fake_frame424.jpg', 'All_Images/Val_Fake_frame425.jpg', 'All_Images/Val_Fake_frame426.jpg', 'All_Images/Val_Fake_frame427.jpg', 'All_Images/Val_Fake_frame428.jpg', 'All_Images/Val_Fake_frame429.jpg', 'All_Images/Val_Fake_frame430.jpg', 'All_Images/Val_Fake_frame431.jpg', 'All_Images/Val_Fake_frame432.jpg', 'All_Images/Val_Fake_frame433.jpg', 'All_Images/Val_Fake_frame434.jpg', 'All_Images/Val_Fake_frame435.jpg', 'All_Images/Val_Fake_frame436.jpg', 'All_Images/Val_Fake_frame437.jpg', 'All_Images/Val_Fake_frame438.jpg', 'All_Images/Val_Fake_frame439.jpg', 'All_Images/Val_Fake_frame440.jpg', 'All_Images/Val_Fake_frame441.jpg', 'All_Images/Val_Fake_frame442.jpg', 'All_Images/Val_Fake_frame443.jpg', 'All_Images/Val_Fake_frame444.jpg', 'All_Images/Val_Fake_frame445.jpg', 'All_Images/Val_Fake_frame446.jpg', 'All_Images/Val_Fake_frame447.jpg', 'All_Images/Val_Fake_frame448.jpg', 'All_Images/Val_Fake_frame449.jpg', 'All_Images/Val_Fake_frame450.jpg', 'All_Images/Val_Fake_frame451.jpg', 'All_Images/Val_Fake_frame452.jpg', 'All_Images/Val_Fake_frame453.jpg', 'All_Images/Val_Fake_frame454.jpg', 'All_Images/Val_Fake_frame455.jpg', 'All_Images/Val_Fake_frame456.jpg', 'All_Images/Val_Fake_frame457.jpg', 'All_Images/Val_Fake_frame458.jpg', 'All_Images/Val_Fake_frame459.jpg', 'All_Images/Val_Fake_frame460.jpg', 'All_Images/Val_Fake_frame461.jpg', 'All_Images/Val_Fake_frame462.jpg', 'All_Images/Val_Fake_frame463.jpg', 'All_Images/Val_Fake_frame464.jpg', 'All_Images/Val_Fake_frame465.jpg', 'All_Images/Val_Fake_frame466.jpg', 'All_Images/Val_Fake_frame467.jpg', 'All_Images/Val_Fake_frame468.jpg', 'All_Images/Val_Fake_frame469.jpg', 'All_Images/Val_Fake_frame470.jpg', 'All_Images/Val_Fake_frame471.jpg', 'All_Images/Val_Fake_frame472.jpg', 'All_Images/Val_Fake_frame473.jpg', 'All_Images/Val_Fake_frame474.jpg', 'All_Images/Val_Fake_frame475.jpg', 'All_Images/Val_Fake_frame476.jpg', 'All_Images/Val_Fake_frame477.jpg', 'All_Images/Val_Fake_frame478.jpg', 'All_Images/Val_Fake_frame479.jpg', 'All_Images/Val_Fake_frame480.jpg', 'All_Images/Val_Fake_frame481.jpg', 'All_Images/Val_Fake_frame482.jpg', 'All_Images/Val_Fake_frame483.jpg', 'All_Images/Val_Fake_frame484.jpg', 'All_Images/Val_Fake_frame485.jpg', 'All_Images/Val_Fake_frame486.jpg', 'All_Images/Val_Fake_frame487.jpg', 'All_Images/Val_Fake_frame488.jpg', 'All_Images/Val_Fake_frame489.jpg', 'All_Images/Val_Fake_frame490.jpg', 'All_Images/Val_Fake_frame491.jpg', 'All_Images/Val_Fake_frame492.jpg', 'All_Images/Val_Fake_frame493.jpg', 'All_Images/Val_Fake_frame494.jpg', 'All_Images/Val_Fake_frame495.jpg', 'All_Images/Val_Fake_frame496.jpg', 'All_Images/Val_Fake_frame497.jpg', 'All_Images/Val_Fake_frame498.jpg', 'All_Images/Val_Fake_frame499.jpg', 'All_Images/Val_Fake_frame500.jpg', 'All_Images/Val_Fake_frame501.jpg', 'All_Images/Val_Fake_frame502.jpg', 'All_Images/Val_Fake_frame503.jpg', 'All_Images/Val_Fake_frame504.jpg', 'All_Images/Val_Fake_frame505.jpg', 'All_Images/Val_Fake_frame506.jpg', 'All_Images/Val_Fake_frame507.jpg', 'All_Images/Val_Fake_frame508.jpg', 'All_Images/Val_Fake_frame509.jpg', 'All_Images/Val_Fake_frame510.jpg', 'All_Images/Val_Fake_frame511.jpg', 'All_Images/Val_Fake_frame512.jpg', 'All_Images/Val_Fake_frame513.jpg', 'All_Images/Val_Fake_frame514.jpg', 'All_Images/Val_Fake_frame515.jpg', 'All_Images/Val_Fake_frame516.jpg', 'All_Images/Val_Fake_frame517.jpg', 'All_Images/Val_Fake_frame518.jpg', 'All_Images/Val_Fake_frame519.jpg', 'All_Images/Val_Fake_frame520.jpg', 'All_Images/Val_Fake_frame521.jpg', 'All_Images/Val_Fake_frame522.jpg', 'All_Images/Val_Fake_frame523.jpg', 'All_Images/Val_Fake_frame524.jpg', 'All_Images/Val_Fake_frame525.jpg', 'All_Images/Val_Fake_frame526.jpg', 'All_Images/Val_Fake_frame527.jpg', 'All_Images/Val_Fake_frame528.jpg', 'All_Images/Val_Fake_frame529.jpg', 'All_Images/Val_Fake_frame530.jpg', 'All_Images/Val_Fake_frame531.jpg', 'All_Images/Val_Fake_frame532.jpg', 'All_Images/Val_Fake_frame533.jpg', 'All_Images/Val_Fake_frame534.jpg', 'All_Images/Val_Fake_frame535.jpg', 'All_Images/Val_Fake_frame536.jpg', 'All_Images/Val_Fake_frame537.jpg', 'All_Images/Val_Fake_frame538.jpg', 'All_Images/Val_Fake_frame539.jpg', 'All_Images/Val_Fake_frame540.jpg', 'All_Images/Val_Fake_frame541.jpg', 'All_Images/Val_Fake_frame542.jpg', 'All_Images/Val_Fake_frame543.jpg', 'All_Images/Val_Fake_frame544.jpg', 'All_Images/Val_Fake_frame545.jpg', 'All_Images/Val_Fake_frame546.jpg', 'All_Images/Val_Fake_frame547.jpg', 'All_Images/Val_Fake_frame548.jpg', 'All_Images/Val_Fake_frame549.jpg', 'All_Images/Val_Fake_frame550.jpg', 'All_Images/Val_Fake_frame551.jpg', 'All_Images/Val_Fake_frame552.jpg', 'All_Images/Val_Fake_frame553.jpg', 'All_Images/Val_Fake_frame554.jpg', 'All_Images/Val_Fake_frame555.jpg', 'All_Images/Val_Fake_frame556.jpg', 'All_Images/Val_Fake_frame557.jpg', 'All_Images/Val_Fake_frame558.jpg', 'All_Images/Val_Fake_frame559.jpg', 'All_Images/Val_Fake_frame560.jpg', 'All_Images/Val_Fake_frame561.jpg', 'All_Images/Val_Fake_frame562.jpg', 'All_Images/Val_Fake_frame563.jpg', 'All_Images/Val_Fake_frame564.jpg', 'All_Images/Val_Fake_frame565.jpg', 'All_Images/Val_Fake_frame566.jpg', 'All_Images/Val_Fake_frame567.jpg', 'All_Images/Val_Fake_frame568.jpg', 'All_Images/Val_Fake_frame569.jpg', 'All_Images/Val_Fake_frame570.jpg', 'All_Images/Val_Fake_frame571.jpg', 'All_Images/Val_Fake_frame572.jpg', 'All_Images/Val_Fake_frame573.jpg', 'All_Images/Val_Fake_frame574.jpg', 'All_Images/Val_Fake_frame575.jpg', 'All_Images/Val_Fake_frame576.jpg', 'All_Images/Val_Fake_frame577.jpg', 'All_Images/Val_Fake_frame578.jpg', 'All_Images/Val_Fake_frame579.jpg', 'All_Images/Val_Fake_frame580.jpg', 'All_Images/Val_Fake_frame581.jpg', 'All_Images/Val_Fake_frame582.jpg', 'All_Images/Val_Fake_frame583.jpg', 'All_Images/Val_Fake_frame584.jpg', 'All_Images/Val_Fake_frame585.jpg', 'All_Images/Val_Fake_frame586.jpg', 'All_Images/Val_Fake_frame587.jpg', 'All_Images/Val_Fake_frame588.jpg', 'All_Images/Val_Fake_frame589.jpg', 'All_Images/Val_Fake_frame590.jpg', 'All_Images/Val_Fake_frame591.jpg', 'All_Images/Val_Fake_frame592.jpg', 'All_Images/Val_Fake_frame593.jpg', 'All_Images/Val_Fake_frame594.jpg', 'All_Images/Val_Fake_frame595.jpg', 'All_Images/Val_Fake_frame596.jpg', 'All_Images/Val_Fake_frame597.jpg', 'All_Images/Val_Fake_frame598.jpg', 'All_Images/Val_Fake_frame599.jpg', 'All_Images/Val_Fake_frame600.jpg', 'All_Images/Val_Fake_frame601.jpg', 'All_Images/Val_Fake_frame602.jpg', 'All_Images/Val_Fake_frame603.jpg', 'All_Images/Val_Fake_frame604.jpg', 'All_Images/Val_Fake_frame605.jpg', 'All_Images/Val_Fake_frame606.jpg', 'All_Images/Val_Fake_frame607.jpg', 'All_Images/Val_Fake_frame608.jpg', 'All_Images/Val_Fake_frame609.jpg', 'All_Images/Val_Fake_frame610.jpg', 'All_Images/Val_Fake_frame611.jpg', 'All_Images/Val_Fake_frame612.jpg', 'All_Images/Val_Fake_frame613.jpg', 'All_Images/Val_Fake_frame614.jpg', 'All_Images/Val_Fake_frame615.jpg', 'All_Images/Val_Fake_frame616.jpg', 'All_Images/Val_Fake_frame617.jpg', 'All_Images/Val_Fake_frame618.jpg', 'All_Images/Val_Fake_frame619.jpg', 'All_Images/Val_Fake_frame620.jpg', 'All_Images/Val_Fake_frame621.jpg', 'All_Images/Val_Fake_frame622.jpg', 'All_Images/Val_Fake_frame623.jpg', 'All_Images/Val_Fake_frame624.jpg', 'All_Images/Val_Fake_frame625.jpg', 'All_Images/Val_Fake_frame626.jpg', 'All_Images/Val_Fake_frame627.jpg', 'All_Images/Val_Fake_frame628.jpg', 'All_Images/Val_Fake_frame629.jpg', 'All_Images/Val_Fake_frame630.jpg', 'All_Images/Val_Fake_frame631.jpg', 'All_Images/Val_Fake_frame632.jpg', 'All_Images/Val_Fake_frame633.jpg', 'All_Images/Val_Fake_frame634.jpg', 'All_Images/Val_Fake_frame635.jpg', 'All_Images/Val_Fake_frame636.jpg', 'All_Images/Val_Fake_frame637.jpg', 'All_Images/Val_Fake_frame638.jpg', 'All_Images/Val_Fake_frame639.jpg', 'All_Images/Val_Fake_frame640.jpg', 'All_Images/Val_Fake_frame641.jpg', 'All_Images/Val_Fake_frame642.jpg', 'All_Images/Val_Fake_frame643.jpg', 'All_Images/Val_Fake_frame644.jpg', 'All_Images/Val_Fake_frame645.jpg', 'All_Images/Val_Fake_frame646.jpg', 'All_Images/Val_Fake_frame647.jpg', 'All_Images/Val_Fake_frame648.jpg', 'All_Images/Val_Fake_frame649.jpg', 'All_Images/Val_Fake_frame650.jpg', 'All_Images/Val_Fake_frame651.jpg']\n",
            "['All_Images/Val_Real_frame0.jpg', 'All_Images/Val_Real_frame1.jpg', 'All_Images/Val_Real_frame2.jpg', 'All_Images/Val_Real_frame3.jpg', 'All_Images/Val_Real_frame4.jpg', 'All_Images/Val_Real_frame5.jpg', 'All_Images/Val_Real_frame6.jpg', 'All_Images/Val_Real_frame7.jpg', 'All_Images/Val_Real_frame8.jpg', 'All_Images/Val_Real_frame9.jpg', 'All_Images/Val_Real_frame10.jpg', 'All_Images/Val_Real_frame11.jpg', 'All_Images/Val_Real_frame12.jpg', 'All_Images/Val_Real_frame13.jpg', 'All_Images/Val_Real_frame14.jpg', 'All_Images/Val_Real_frame15.jpg', 'All_Images/Val_Real_frame16.jpg', 'All_Images/Val_Real_frame17.jpg', 'All_Images/Val_Real_frame18.jpg', 'All_Images/Val_Real_frame19.jpg', 'All_Images/Val_Real_frame20.jpg', 'All_Images/Val_Real_frame21.jpg', 'All_Images/Val_Real_frame22.jpg', 'All_Images/Val_Real_frame23.jpg', 'All_Images/Val_Real_frame24.jpg', 'All_Images/Val_Real_frame25.jpg', 'All_Images/Val_Real_frame26.jpg', 'All_Images/Val_Real_frame27.jpg', 'All_Images/Val_Real_frame28.jpg', 'All_Images/Val_Real_frame29.jpg', 'All_Images/Val_Real_frame30.jpg', 'All_Images/Val_Real_frame31.jpg', 'All_Images/Val_Real_frame32.jpg', 'All_Images/Val_Real_frame33.jpg', 'All_Images/Val_Real_frame34.jpg', 'All_Images/Val_Real_frame35.jpg', 'All_Images/Val_Real_frame36.jpg', 'All_Images/Val_Real_frame37.jpg', 'All_Images/Val_Real_frame38.jpg', 'All_Images/Val_Real_frame39.jpg', 'All_Images/Val_Real_frame40.jpg', 'All_Images/Val_Real_frame41.jpg', 'All_Images/Val_Real_frame42.jpg', 'All_Images/Val_Real_frame43.jpg', 'All_Images/Val_Real_frame44.jpg', 'All_Images/Val_Real_frame45.jpg', 'All_Images/Val_Real_frame46.jpg', 'All_Images/Val_Real_frame47.jpg', 'All_Images/Val_Real_frame48.jpg', 'All_Images/Val_Real_frame49.jpg', 'All_Images/Val_Real_frame50.jpg', 'All_Images/Val_Real_frame51.jpg', 'All_Images/Val_Real_frame52.jpg', 'All_Images/Val_Real_frame53.jpg', 'All_Images/Val_Real_frame54.jpg', 'All_Images/Val_Real_frame55.jpg', 'All_Images/Val_Real_frame56.jpg', 'All_Images/Val_Real_frame57.jpg', 'All_Images/Val_Real_frame58.jpg', 'All_Images/Val_Real_frame59.jpg', 'All_Images/Val_Real_frame60.jpg', 'All_Images/Val_Real_frame61.jpg', 'All_Images/Val_Real_frame62.jpg', 'All_Images/Val_Real_frame63.jpg', 'All_Images/Val_Real_frame64.jpg', 'All_Images/Val_Real_frame65.jpg', 'All_Images/Val_Real_frame66.jpg', 'All_Images/Val_Real_frame67.jpg', 'All_Images/Val_Real_frame68.jpg', 'All_Images/Val_Real_frame69.jpg', 'All_Images/Val_Real_frame70.jpg', 'All_Images/Val_Real_frame71.jpg', 'All_Images/Val_Real_frame72.jpg', 'All_Images/Val_Real_frame73.jpg', 'All_Images/Val_Real_frame74.jpg', 'All_Images/Val_Real_frame75.jpg', 'All_Images/Val_Real_frame76.jpg', 'All_Images/Val_Real_frame77.jpg', 'All_Images/Val_Real_frame78.jpg', 'All_Images/Val_Real_frame79.jpg', 'All_Images/Val_Real_frame80.jpg', 'All_Images/Val_Real_frame81.jpg', 'All_Images/Val_Real_frame82.jpg', 'All_Images/Val_Real_frame83.jpg', 'All_Images/Val_Real_frame84.jpg', 'All_Images/Val_Real_frame85.jpg', 'All_Images/Val_Real_frame86.jpg', 'All_Images/Val_Real_frame87.jpg', 'All_Images/Val_Real_frame88.jpg', 'All_Images/Val_Real_frame89.jpg', 'All_Images/Val_Real_frame90.jpg', 'All_Images/Val_Real_frame91.jpg', 'All_Images/Val_Real_frame92.jpg', 'All_Images/Val_Real_frame93.jpg', 'All_Images/Val_Real_frame94.jpg', 'All_Images/Val_Real_frame95.jpg', 'All_Images/Val_Real_frame96.jpg', 'All_Images/Val_Real_frame97.jpg', 'All_Images/Val_Real_frame98.jpg', 'All_Images/Val_Real_frame99.jpg', 'All_Images/Val_Real_frame100.jpg', 'All_Images/Val_Real_frame101.jpg', 'All_Images/Val_Real_frame102.jpg', 'All_Images/Val_Real_frame103.jpg', 'All_Images/Val_Real_frame104.jpg', 'All_Images/Val_Real_frame105.jpg', 'All_Images/Val_Real_frame106.jpg', 'All_Images/Val_Real_frame107.jpg', 'All_Images/Val_Real_frame108.jpg', 'All_Images/Val_Real_frame109.jpg', 'All_Images/Val_Real_frame110.jpg', 'All_Images/Val_Real_frame111.jpg', 'All_Images/Val_Real_frame112.jpg', 'All_Images/Val_Real_frame113.jpg', 'All_Images/Val_Real_frame114.jpg', 'All_Images/Val_Real_frame115.jpg', 'All_Images/Val_Real_frame116.jpg', 'All_Images/Val_Real_frame117.jpg', 'All_Images/Val_Real_frame118.jpg', 'All_Images/Val_Real_frame119.jpg', 'All_Images/Val_Real_frame120.jpg', 'All_Images/Val_Real_frame121.jpg', 'All_Images/Val_Real_frame122.jpg', 'All_Images/Val_Real_frame123.jpg', 'All_Images/Val_Real_frame124.jpg', 'All_Images/Val_Real_frame125.jpg', 'All_Images/Val_Real_frame126.jpg', 'All_Images/Val_Real_frame127.jpg', 'All_Images/Val_Real_frame128.jpg', 'All_Images/Val_Real_frame129.jpg', 'All_Images/Val_Real_frame130.jpg', 'All_Images/Val_Real_frame131.jpg', 'All_Images/Val_Real_frame132.jpg', 'All_Images/Val_Real_frame133.jpg', 'All_Images/Val_Real_frame134.jpg', 'All_Images/Val_Real_frame135.jpg', 'All_Images/Val_Real_frame136.jpg', 'All_Images/Val_Real_frame137.jpg', 'All_Images/Val_Real_frame138.jpg', 'All_Images/Val_Real_frame139.jpg', 'All_Images/Val_Real_frame140.jpg', 'All_Images/Val_Real_frame141.jpg', 'All_Images/Val_Real_frame142.jpg', 'All_Images/Val_Real_frame143.jpg', 'All_Images/Val_Real_frame144.jpg', 'All_Images/Val_Real_frame145.jpg', 'All_Images/Val_Real_frame146.jpg', 'All_Images/Val_Real_frame147.jpg', 'All_Images/Val_Real_frame148.jpg', 'All_Images/Val_Real_frame149.jpg', 'All_Images/Val_Real_frame150.jpg', 'All_Images/Val_Real_frame151.jpg', 'All_Images/Val_Real_frame152.jpg', 'All_Images/Val_Real_frame153.jpg', 'All_Images/Val_Real_frame154.jpg', 'All_Images/Val_Real_frame155.jpg', 'All_Images/Val_Real_frame156.jpg', 'All_Images/Val_Real_frame157.jpg', 'All_Images/Val_Real_frame158.jpg', 'All_Images/Val_Real_frame159.jpg', 'All_Images/Val_Real_frame160.jpg', 'All_Images/Val_Real_frame161.jpg', 'All_Images/Val_Real_frame162.jpg', 'All_Images/Val_Real_frame163.jpg', 'All_Images/Val_Real_frame164.jpg', 'All_Images/Val_Real_frame165.jpg', 'All_Images/Val_Real_frame166.jpg', 'All_Images/Val_Real_frame167.jpg', 'All_Images/Val_Real_frame168.jpg', 'All_Images/Val_Real_frame169.jpg', 'All_Images/Val_Real_frame170.jpg', 'All_Images/Val_Real_frame171.jpg', 'All_Images/Val_Real_frame172.jpg', 'All_Images/Val_Real_frame173.jpg', 'All_Images/Val_Real_frame174.jpg', 'All_Images/Val_Real_frame175.jpg', 'All_Images/Val_Real_frame176.jpg', 'All_Images/Val_Real_frame177.jpg', 'All_Images/Val_Real_frame178.jpg', 'All_Images/Val_Real_frame179.jpg', 'All_Images/Val_Real_frame180.jpg', 'All_Images/Val_Real_frame181.jpg', 'All_Images/Val_Real_frame182.jpg', 'All_Images/Val_Real_frame183.jpg', 'All_Images/Val_Real_frame184.jpg', 'All_Images/Val_Real_frame185.jpg', 'All_Images/Val_Real_frame186.jpg', 'All_Images/Val_Real_frame187.jpg', 'All_Images/Val_Real_frame188.jpg', 'All_Images/Val_Real_frame189.jpg', 'All_Images/Val_Real_frame190.jpg', 'All_Images/Val_Real_frame191.jpg', 'All_Images/Val_Real_frame192.jpg', 'All_Images/Val_Real_frame193.jpg', 'All_Images/Val_Real_frame194.jpg', 'All_Images/Val_Real_frame195.jpg', 'All_Images/Val_Real_frame196.jpg', 'All_Images/Val_Real_frame197.jpg', 'All_Images/Val_Real_frame198.jpg', 'All_Images/Val_Real_frame199.jpg', 'All_Images/Val_Real_frame200.jpg', 'All_Images/Val_Real_frame201.jpg', 'All_Images/Val_Real_frame202.jpg', 'All_Images/Val_Real_frame203.jpg', 'All_Images/Val_Real_frame204.jpg', 'All_Images/Val_Real_frame205.jpg', 'All_Images/Val_Real_frame206.jpg', 'All_Images/Val_Real_frame207.jpg', 'All_Images/Val_Real_frame208.jpg', 'All_Images/Val_Real_frame209.jpg', 'All_Images/Val_Real_frame210.jpg', 'All_Images/Val_Real_frame211.jpg', 'All_Images/Val_Real_frame212.jpg', 'All_Images/Val_Real_frame213.jpg', 'All_Images/Val_Real_frame214.jpg', 'All_Images/Val_Real_frame215.jpg', 'All_Images/Val_Real_frame216.jpg', 'All_Images/Val_Real_frame217.jpg', 'All_Images/Val_Real_frame218.jpg', 'All_Images/Val_Real_frame219.jpg', 'All_Images/Val_Real_frame220.jpg', 'All_Images/Val_Real_frame221.jpg', 'All_Images/Val_Real_frame222.jpg', 'All_Images/Val_Real_frame223.jpg', 'All_Images/Val_Real_frame224.jpg', 'All_Images/Val_Real_frame225.jpg', 'All_Images/Val_Real_frame226.jpg', 'All_Images/Val_Real_frame227.jpg', 'All_Images/Val_Real_frame228.jpg', 'All_Images/Val_Real_frame229.jpg', 'All_Images/Val_Real_frame230.jpg', 'All_Images/Val_Real_frame231.jpg', 'All_Images/Val_Real_frame232.jpg', 'All_Images/Val_Real_frame233.jpg', 'All_Images/Val_Real_frame234.jpg', 'All_Images/Val_Real_frame235.jpg', 'All_Images/Val_Real_frame236.jpg', 'All_Images/Val_Real_frame237.jpg', 'All_Images/Val_Real_frame238.jpg', 'All_Images/Val_Real_frame239.jpg', 'All_Images/Val_Real_frame240.jpg', 'All_Images/Val_Real_frame241.jpg', 'All_Images/Val_Real_frame242.jpg', 'All_Images/Val_Real_frame243.jpg', 'All_Images/Val_Real_frame244.jpg', 'All_Images/Val_Real_frame245.jpg', 'All_Images/Val_Real_frame246.jpg', 'All_Images/Val_Real_frame247.jpg', 'All_Images/Val_Real_frame248.jpg', 'All_Images/Val_Real_frame249.jpg', 'All_Images/Val_Real_frame250.jpg', 'All_Images/Val_Real_frame251.jpg', 'All_Images/Val_Real_frame252.jpg', 'All_Images/Val_Real_frame253.jpg', 'All_Images/Val_Real_frame254.jpg', 'All_Images/Val_Real_frame255.jpg', 'All_Images/Val_Real_frame256.jpg', 'All_Images/Val_Real_frame257.jpg', 'All_Images/Val_Real_frame258.jpg', 'All_Images/Val_Real_frame259.jpg', 'All_Images/Val_Real_frame260.jpg', 'All_Images/Val_Real_frame261.jpg', 'All_Images/Val_Real_frame262.jpg', 'All_Images/Val_Real_frame263.jpg', 'All_Images/Val_Real_frame264.jpg', 'All_Images/Val_Real_frame265.jpg', 'All_Images/Val_Real_frame266.jpg', 'All_Images/Val_Real_frame267.jpg', 'All_Images/Val_Real_frame268.jpg', 'All_Images/Val_Real_frame269.jpg', 'All_Images/Val_Real_frame270.jpg', 'All_Images/Val_Real_frame271.jpg', 'All_Images/Val_Real_frame272.jpg', 'All_Images/Val_Real_frame273.jpg', 'All_Images/Val_Real_frame274.jpg', 'All_Images/Val_Real_frame275.jpg', 'All_Images/Val_Real_frame276.jpg', 'All_Images/Val_Real_frame277.jpg', 'All_Images/Val_Real_frame278.jpg', 'All_Images/Val_Real_frame279.jpg', 'All_Images/Val_Real_frame280.jpg', 'All_Images/Val_Real_frame281.jpg', 'All_Images/Val_Real_frame282.jpg', 'All_Images/Val_Real_frame283.jpg', 'All_Images/Val_Real_frame284.jpg', 'All_Images/Val_Real_frame285.jpg', 'All_Images/Val_Real_frame286.jpg', 'All_Images/Val_Real_frame287.jpg', 'All_Images/Val_Real_frame288.jpg', 'All_Images/Val_Real_frame289.jpg', 'All_Images/Val_Real_frame290.jpg', 'All_Images/Val_Real_frame291.jpg', 'All_Images/Val_Real_frame292.jpg', 'All_Images/Val_Real_frame293.jpg', 'All_Images/Val_Real_frame294.jpg', 'All_Images/Val_Real_frame295.jpg', 'All_Images/Val_Real_frame296.jpg', 'All_Images/Val_Real_frame297.jpg', 'All_Images/Val_Real_frame298.jpg', 'All_Images/Val_Real_frame299.jpg', 'All_Images/Val_Real_frame300.jpg', 'All_Images/Val_Real_frame301.jpg', 'All_Images/Val_Real_frame302.jpg', 'All_Images/Val_Real_frame303.jpg', 'All_Images/Val_Real_frame304.jpg', 'All_Images/Val_Real_frame305.jpg', 'All_Images/Val_Real_frame306.jpg', 'All_Images/Val_Real_frame307.jpg', 'All_Images/Val_Real_frame308.jpg', 'All_Images/Val_Real_frame309.jpg', 'All_Images/Val_Real_frame310.jpg', 'All_Images/Val_Real_frame311.jpg', 'All_Images/Val_Real_frame312.jpg', 'All_Images/Val_Real_frame313.jpg', 'All_Images/Val_Real_frame314.jpg', 'All_Images/Val_Real_frame315.jpg', 'All_Images/Val_Real_frame316.jpg', 'All_Images/Val_Real_frame317.jpg', 'All_Images/Val_Real_frame318.jpg', 'All_Images/Val_Real_frame319.jpg', 'All_Images/Val_Real_frame320.jpg', 'All_Images/Val_Real_frame321.jpg', 'All_Images/Val_Real_frame322.jpg', 'All_Images/Val_Real_frame323.jpg', 'All_Images/Val_Real_frame324.jpg', 'All_Images/Val_Real_frame325.jpg', 'All_Images/Val_Real_frame326.jpg', 'All_Images/Val_Real_frame327.jpg', 'All_Images/Val_Real_frame328.jpg', 'All_Images/Val_Real_frame329.jpg', 'All_Images/Val_Real_frame330.jpg', 'All_Images/Val_Real_frame331.jpg', 'All_Images/Val_Real_frame332.jpg', 'All_Images/Val_Real_frame333.jpg', 'All_Images/Val_Real_frame334.jpg', 'All_Images/Val_Real_frame335.jpg', 'All_Images/Val_Real_frame336.jpg', 'All_Images/Val_Real_frame337.jpg', 'All_Images/Val_Real_frame338.jpg', 'All_Images/Val_Real_frame339.jpg', 'All_Images/Val_Real_frame340.jpg', 'All_Images/Val_Real_frame341.jpg', 'All_Images/Val_Real_frame342.jpg', 'All_Images/Val_Real_frame343.jpg', 'All_Images/Val_Real_frame344.jpg', 'All_Images/Val_Real_frame345.jpg', 'All_Images/Val_Real_frame346.jpg', 'All_Images/Val_Real_frame347.jpg', 'All_Images/Val_Real_frame348.jpg', 'All_Images/Val_Real_frame349.jpg', 'All_Images/Val_Real_frame350.jpg', 'All_Images/Val_Real_frame351.jpg', 'All_Images/Val_Real_frame352.jpg', 'All_Images/Val_Real_frame353.jpg', 'All_Images/Val_Real_frame354.jpg', 'All_Images/Val_Real_frame355.jpg', 'All_Images/Val_Real_frame356.jpg', 'All_Images/Val_Real_frame357.jpg', 'All_Images/Val_Real_frame358.jpg', 'All_Images/Val_Real_frame359.jpg', 'All_Images/Val_Real_frame360.jpg', 'All_Images/Val_Real_frame361.jpg', 'All_Images/Val_Real_frame362.jpg', 'All_Images/Val_Real_frame363.jpg', 'All_Images/Val_Real_frame364.jpg', 'All_Images/Val_Real_frame365.jpg', 'All_Images/Val_Real_frame366.jpg', 'All_Images/Val_Real_frame367.jpg', 'All_Images/Val_Real_frame368.jpg', 'All_Images/Val_Real_frame369.jpg', 'All_Images/Val_Real_frame370.jpg', 'All_Images/Val_Real_frame371.jpg', 'All_Images/Val_Real_frame372.jpg', 'All_Images/Val_Real_frame373.jpg', 'All_Images/Val_Real_frame374.jpg', 'All_Images/Val_Real_frame375.jpg', 'All_Images/Val_Real_frame376.jpg', 'All_Images/Val_Real_frame377.jpg', 'All_Images/Val_Real_frame378.jpg', 'All_Images/Val_Real_frame379.jpg', 'All_Images/Val_Real_frame380.jpg', 'All_Images/Val_Real_frame381.jpg', 'All_Images/Val_Real_frame382.jpg', 'All_Images/Val_Real_frame383.jpg', 'All_Images/Val_Real_frame384.jpg', 'All_Images/Val_Real_frame385.jpg', 'All_Images/Val_Real_frame386.jpg', 'All_Images/Val_Real_frame387.jpg', 'All_Images/Val_Real_frame388.jpg', 'All_Images/Val_Real_frame389.jpg', 'All_Images/Val_Real_frame390.jpg', 'All_Images/Val_Real_frame391.jpg', 'All_Images/Val_Real_frame392.jpg', 'All_Images/Val_Real_frame393.jpg', 'All_Images/Val_Real_frame394.jpg', 'All_Images/Val_Real_frame395.jpg', 'All_Images/Val_Real_frame396.jpg', 'All_Images/Val_Real_frame397.jpg', 'All_Images/Val_Real_frame398.jpg', 'All_Images/Val_Real_frame399.jpg', 'All_Images/Val_Real_frame400.jpg', 'All_Images/Val_Real_frame401.jpg', 'All_Images/Val_Real_frame402.jpg', 'All_Images/Val_Real_frame403.jpg', 'All_Images/Val_Real_frame404.jpg', 'All_Images/Val_Real_frame405.jpg', 'All_Images/Val_Real_frame406.jpg', 'All_Images/Val_Real_frame407.jpg', 'All_Images/Val_Real_frame408.jpg', 'All_Images/Val_Real_frame409.jpg', 'All_Images/Val_Real_frame410.jpg', 'All_Images/Val_Real_frame411.jpg', 'All_Images/Val_Real_frame412.jpg', 'All_Images/Val_Real_frame413.jpg', 'All_Images/Val_Real_frame414.jpg', 'All_Images/Val_Real_frame415.jpg', 'All_Images/Val_Real_frame416.jpg', 'All_Images/Val_Real_frame417.jpg', 'All_Images/Val_Real_frame418.jpg', 'All_Images/Val_Real_frame419.jpg', 'All_Images/Val_Real_frame420.jpg', 'All_Images/Val_Real_frame421.jpg', 'All_Images/Val_Real_frame422.jpg', 'All_Images/Val_Real_frame423.jpg', 'All_Images/Val_Real_frame424.jpg', 'All_Images/Val_Real_frame425.jpg', 'All_Images/Val_Real_frame426.jpg', 'All_Images/Val_Real_frame427.jpg', 'All_Images/Val_Real_frame428.jpg', 'All_Images/Val_Real_frame429.jpg', 'All_Images/Val_Real_frame430.jpg', 'All_Images/Val_Real_frame431.jpg', 'All_Images/Val_Real_frame432.jpg', 'All_Images/Val_Real_frame433.jpg', 'All_Images/Val_Real_frame434.jpg', 'All_Images/Val_Real_frame435.jpg', 'All_Images/Val_Real_frame436.jpg', 'All_Images/Val_Real_frame437.jpg', 'All_Images/Val_Real_frame438.jpg', 'All_Images/Val_Real_frame439.jpg', 'All_Images/Val_Real_frame440.jpg', 'All_Images/Val_Real_frame441.jpg', 'All_Images/Val_Real_frame442.jpg', 'All_Images/Val_Real_frame443.jpg', 'All_Images/Val_Real_frame444.jpg', 'All_Images/Val_Real_frame445.jpg', 'All_Images/Val_Real_frame446.jpg', 'All_Images/Val_Real_frame447.jpg', 'All_Images/Val_Real_frame448.jpg', 'All_Images/Val_Real_frame449.jpg', 'All_Images/Val_Real_frame450.jpg', 'All_Images/Val_Real_frame451.jpg', 'All_Images/Val_Real_frame452.jpg', 'All_Images/Val_Real_frame453.jpg', 'All_Images/Val_Real_frame454.jpg', 'All_Images/Val_Real_frame455.jpg', 'All_Images/Val_Real_frame456.jpg', 'All_Images/Val_Real_frame457.jpg', 'All_Images/Val_Real_frame458.jpg', 'All_Images/Val_Real_frame459.jpg', 'All_Images/Val_Real_frame460.jpg', 'All_Images/Val_Real_frame461.jpg', 'All_Images/Val_Real_frame462.jpg', 'All_Images/Val_Real_frame463.jpg', 'All_Images/Val_Real_frame464.jpg', 'All_Images/Val_Real_frame465.jpg', 'All_Images/Val_Real_frame466.jpg', 'All_Images/Val_Real_frame467.jpg', 'All_Images/Val_Real_frame468.jpg', 'All_Images/Val_Real_frame469.jpg', 'All_Images/Val_Real_frame470.jpg', 'All_Images/Val_Real_frame471.jpg', 'All_Images/Val_Real_frame472.jpg', 'All_Images/Val_Real_frame473.jpg', 'All_Images/Val_Real_frame474.jpg', 'All_Images/Val_Real_frame475.jpg', 'All_Images/Val_Real_frame476.jpg', 'All_Images/Val_Real_frame477.jpg', 'All_Images/Val_Real_frame478.jpg', 'All_Images/Val_Real_frame479.jpg', 'All_Images/Val_Real_frame480.jpg', 'All_Images/Val_Real_frame481.jpg', 'All_Images/Val_Real_frame482.jpg', 'All_Images/Val_Real_frame483.jpg', 'All_Images/Val_Real_frame484.jpg', 'All_Images/Val_Real_frame485.jpg', 'All_Images/Val_Real_frame486.jpg', 'All_Images/Val_Real_frame487.jpg', 'All_Images/Val_Real_frame488.jpg', 'All_Images/Val_Real_frame489.jpg', 'All_Images/Val_Real_frame490.jpg', 'All_Images/Val_Real_frame491.jpg', 'All_Images/Val_Real_frame492.jpg', 'All_Images/Val_Real_frame493.jpg', 'All_Images/Val_Real_frame494.jpg', 'All_Images/Val_Real_frame495.jpg', 'All_Images/Val_Real_frame496.jpg', 'All_Images/Val_Real_frame497.jpg', 'All_Images/Val_Real_frame498.jpg', 'All_Images/Val_Real_frame499.jpg', 'All_Images/Val_Real_frame500.jpg', 'All_Images/Val_Real_frame501.jpg', 'All_Images/Val_Real_frame502.jpg', 'All_Images/Val_Real_frame503.jpg', 'All_Images/Val_Real_frame504.jpg', 'All_Images/Val_Real_frame505.jpg', 'All_Images/Val_Real_frame506.jpg', 'All_Images/Val_Real_frame507.jpg', 'All_Images/Val_Real_frame508.jpg', 'All_Images/Val_Real_frame509.jpg', 'All_Images/Val_Real_frame510.jpg', 'All_Images/Val_Real_frame511.jpg', 'All_Images/Val_Real_frame512.jpg', 'All_Images/Val_Real_frame513.jpg', 'All_Images/Val_Real_frame514.jpg', 'All_Images/Val_Real_frame515.jpg', 'All_Images/Val_Real_frame516.jpg', 'All_Images/Val_Real_frame517.jpg', 'All_Images/Val_Real_frame518.jpg', 'All_Images/Val_Real_frame519.jpg', 'All_Images/Val_Real_frame520.jpg', 'All_Images/Val_Real_frame521.jpg', 'All_Images/Val_Real_frame522.jpg', 'All_Images/Val_Real_frame523.jpg', 'All_Images/Val_Real_frame524.jpg', 'All_Images/Val_Real_frame525.jpg', 'All_Images/Val_Real_frame526.jpg', 'All_Images/Val_Real_frame527.jpg', 'All_Images/Val_Real_frame528.jpg', 'All_Images/Val_Real_frame529.jpg', 'All_Images/Val_Real_frame530.jpg', 'All_Images/Val_Real_frame531.jpg', 'All_Images/Val_Real_frame532.jpg', 'All_Images/Val_Real_frame533.jpg', 'All_Images/Val_Real_frame534.jpg', 'All_Images/Val_Real_frame535.jpg', 'All_Images/Val_Real_frame536.jpg', 'All_Images/Val_Real_frame537.jpg', 'All_Images/Val_Real_frame538.jpg', 'All_Images/Val_Real_frame539.jpg', 'All_Images/Val_Real_frame540.jpg', 'All_Images/Val_Real_frame541.jpg', 'All_Images/Val_Real_frame542.jpg', 'All_Images/Val_Real_frame543.jpg', 'All_Images/Val_Real_frame544.jpg', 'All_Images/Val_Real_frame545.jpg', 'All_Images/Val_Real_frame546.jpg', 'All_Images/Val_Real_frame547.jpg', 'All_Images/Val_Real_frame548.jpg', 'All_Images/Val_Real_frame549.jpg', 'All_Images/Val_Real_frame550.jpg', 'All_Images/Val_Real_frame551.jpg', 'All_Images/Val_Real_frame552.jpg', 'All_Images/Val_Real_frame553.jpg', 'All_Images/Val_Real_frame554.jpg', 'All_Images/Val_Real_frame555.jpg', 'All_Images/Val_Real_frame556.jpg', 'All_Images/Val_Real_frame557.jpg', 'All_Images/Val_Real_frame558.jpg', 'All_Images/Val_Real_frame559.jpg', 'All_Images/Val_Real_frame560.jpg', 'All_Images/Val_Real_frame561.jpg', 'All_Images/Val_Real_frame562.jpg', 'All_Images/Val_Real_frame563.jpg', 'All_Images/Val_Real_frame564.jpg', 'All_Images/Val_Real_frame565.jpg', 'All_Images/Val_Real_frame566.jpg', 'All_Images/Val_Real_frame567.jpg', 'All_Images/Val_Real_frame568.jpg', 'All_Images/Val_Real_frame569.jpg', 'All_Images/Val_Real_frame570.jpg', 'All_Images/Val_Real_frame571.jpg', 'All_Images/Val_Real_frame572.jpg', 'All_Images/Val_Real_frame573.jpg', 'All_Images/Val_Real_frame574.jpg', 'All_Images/Val_Real_frame575.jpg', 'All_Images/Val_Real_frame576.jpg', 'All_Images/Val_Real_frame577.jpg', 'All_Images/Val_Real_frame578.jpg', 'All_Images/Val_Real_frame579.jpg', 'All_Images/Val_Real_frame580.jpg', 'All_Images/Val_Real_frame581.jpg', 'All_Images/Val_Real_frame582.jpg', 'All_Images/Val_Real_frame583.jpg', 'All_Images/Val_Real_frame584.jpg', 'All_Images/Val_Real_frame585.jpg', 'All_Images/Val_Real_frame586.jpg', 'All_Images/Val_Real_frame587.jpg', 'All_Images/Val_Real_frame588.jpg', 'All_Images/Val_Real_frame589.jpg', 'All_Images/Val_Real_frame590.jpg', 'All_Images/Val_Real_frame591.jpg', 'All_Images/Val_Real_frame592.jpg', 'All_Images/Val_Real_frame593.jpg', 'All_Images/Val_Real_frame594.jpg', 'All_Images/Val_Real_frame595.jpg', 'All_Images/Val_Real_frame596.jpg', 'All_Images/Val_Real_frame597.jpg', 'All_Images/Val_Real_frame598.jpg', 'All_Images/Val_Real_frame599.jpg', 'All_Images/Val_Real_frame600.jpg', 'All_Images/Val_Real_frame601.jpg', 'All_Images/Val_Real_frame602.jpg', 'All_Images/Val_Real_frame603.jpg', 'All_Images/Val_Real_frame604.jpg', 'All_Images/Val_Real_frame605.jpg', 'All_Images/Val_Real_frame606.jpg', 'All_Images/Val_Real_frame607.jpg', 'All_Images/Val_Real_frame608.jpg', 'All_Images/Val_Real_frame609.jpg', 'All_Images/Val_Real_frame610.jpg', 'All_Images/Val_Real_frame611.jpg', 'All_Images/Val_Real_frame612.jpg', 'All_Images/Val_Real_frame613.jpg', 'All_Images/Val_Real_frame614.jpg', 'All_Images/Val_Real_frame615.jpg', 'All_Images/Val_Real_frame616.jpg', 'All_Images/Val_Real_frame617.jpg', 'All_Images/Val_Real_frame618.jpg', 'All_Images/Val_Real_frame619.jpg', 'All_Images/Val_Real_frame620.jpg', 'All_Images/Val_Real_frame621.jpg', 'All_Images/Val_Real_frame622.jpg', 'All_Images/Val_Real_frame623.jpg', 'All_Images/Val_Real_frame624.jpg', 'All_Images/Val_Real_frame625.jpg', 'All_Images/Val_Real_frame626.jpg', 'All_Images/Val_Real_frame627.jpg', 'All_Images/Val_Real_frame628.jpg', 'All_Images/Val_Real_frame629.jpg', 'All_Images/Val_Real_frame630.jpg', 'All_Images/Val_Real_frame631.jpg', 'All_Images/Val_Real_frame632.jpg', 'All_Images/Val_Real_frame633.jpg', 'All_Images/Val_Real_frame634.jpg', 'All_Images/Val_Real_frame635.jpg', 'All_Images/Val_Real_frame636.jpg', 'All_Images/Val_Real_frame637.jpg', 'All_Images/Val_Real_frame638.jpg', 'All_Images/Val_Real_frame639.jpg', 'All_Images/Val_Real_frame640.jpg', 'All_Images/Val_Real_frame641.jpg', 'All_Images/Val_Real_frame642.jpg', 'All_Images/Val_Real_frame643.jpg', 'All_Images/Val_Real_frame644.jpg', 'All_Images/Val_Real_frame645.jpg', 'All_Images/Val_Real_frame646.jpg', 'All_Images/Val_Real_frame647.jpg', 'All_Images/Val_Real_frame648.jpg', 'All_Images/Val_Real_frame649.jpg', 'All_Images/Val_Real_frame650.jpg', 'All_Images/Val_Real_frame651.jpg', 'All_Images/Val_Real_frame652.jpg', 'All_Images/Val_Real_frame653.jpg', 'All_Images/Val_Real_frame654.jpg', 'All_Images/Val_Real_frame655.jpg', 'All_Images/Val_Real_frame656.jpg', 'All_Images/Val_Real_frame657.jpg', 'All_Images/Val_Real_frame658.jpg', 'All_Images/Val_Real_frame659.jpg', 'All_Images/Val_Real_frame660.jpg', 'All_Images/Val_Real_frame661.jpg', 'All_Images/Val_Real_frame662.jpg', 'All_Images/Val_Real_frame663.jpg', 'All_Images/Val_Real_frame664.jpg', 'All_Images/Val_Real_frame665.jpg', 'All_Images/Val_Real_frame666.jpg', 'All_Images/Val_Real_frame667.jpg', 'All_Images/Val_Real_frame668.jpg', 'All_Images/Val_Real_frame669.jpg', 'All_Images/Val_Real_frame670.jpg', 'All_Images/Val_Real_frame671.jpg', 'All_Images/Val_Real_frame672.jpg', 'All_Images/Val_Real_frame673.jpg', 'All_Images/Val_Real_frame674.jpg', 'All_Images/Val_Real_frame675.jpg', 'All_Images/Val_Real_frame676.jpg', 'All_Images/Val_Real_frame677.jpg', 'All_Images/Val_Real_frame678.jpg', 'All_Images/Val_Real_frame679.jpg', 'All_Images/Val_Real_frame680.jpg', 'All_Images/Val_Real_frame681.jpg', 'All_Images/Val_Real_frame682.jpg', 'All_Images/Val_Real_frame683.jpg', 'All_Images/Val_Real_frame684.jpg', 'All_Images/Val_Real_frame685.jpg', 'All_Images/Val_Real_frame686.jpg', 'All_Images/Val_Real_frame687.jpg', 'All_Images/Val_Real_frame688.jpg', 'All_Images/Val_Real_frame689.jpg', 'All_Images/Val_Real_frame690.jpg', 'All_Images/Val_Real_frame691.jpg', 'All_Images/Val_Real_frame692.jpg', 'All_Images/Val_Real_frame693.jpg', 'All_Images/Val_Real_frame694.jpg', 'All_Images/Val_Real_frame695.jpg', 'All_Images/Val_Real_frame696.jpg', 'All_Images/Val_Real_frame697.jpg', 'All_Images/Val_Real_frame698.jpg', 'All_Images/Val_Real_frame699.jpg', 'All_Images/Val_Real_frame700.jpg', 'All_Images/Val_Real_frame701.jpg', 'All_Images/Val_Real_frame702.jpg', 'All_Images/Val_Real_frame703.jpg', 'All_Images/Val_Real_frame704.jpg', 'All_Images/Val_Real_frame705.jpg', 'All_Images/Val_Real_frame706.jpg', 'All_Images/Val_Real_frame707.jpg', 'All_Images/Val_Real_frame708.jpg', 'All_Images/Val_Real_frame709.jpg', 'All_Images/Val_Real_frame710.jpg', 'All_Images/Val_Real_frame711.jpg', 'All_Images/Val_Real_frame712.jpg', 'All_Images/Val_Real_frame713.jpg', 'All_Images/Val_Real_frame714.jpg', 'All_Images/Val_Real_frame715.jpg', 'All_Images/Val_Real_frame716.jpg', 'All_Images/Val_Real_frame717.jpg', 'All_Images/Val_Real_frame718.jpg', 'All_Images/Val_Real_frame719.jpg', 'All_Images/Val_Real_frame720.jpg', 'All_Images/Val_Real_frame721.jpg', 'All_Images/Val_Real_frame722.jpg', 'All_Images/Val_Real_frame723.jpg', 'All_Images/Val_Real_frame724.jpg', 'All_Images/Val_Real_frame725.jpg', 'All_Images/Val_Real_frame726.jpg', 'All_Images/Val_Real_frame727.jpg', 'All_Images/Val_Real_frame728.jpg', 'All_Images/Val_Real_frame729.jpg', 'All_Images/Val_Real_frame730.jpg', 'All_Images/Val_Real_frame731.jpg', 'All_Images/Val_Real_frame732.jpg', 'All_Images/Val_Real_frame733.jpg', 'All_Images/Val_Real_frame734.jpg', 'All_Images/Val_Real_frame735.jpg']\n",
            "668\n",
            "735\n"
          ],
          "name": "stdout"
        }
      ]
    },
    {
      "cell_type": "markdown",
      "metadata": {
        "id": "ZxrChNngViDH"
      },
      "source": [
        "#DLIB"
      ]
    },
    {
      "cell_type": "code",
      "metadata": {
        "id": "gGiz09A4P66M"
      },
      "source": [
        "\n",
        "\n",
        "\n",
        "def detect_faces(image):\n",
        "\n",
        "    # Create a face detector\n",
        "    face_detector = dlib.get_frontal_face_detector()\n",
        "\n",
        "    # Run detector and get bounding boxes of the faces on image.\n",
        "    detected_faces = face_detector(image, 1)\n",
        "    face_frames = [(x.left(), x.top(),\n",
        "                    x.right(), x.bottom()) for x in detected_faces]\n",
        "\n",
        "    return face_frames\n",
        "\n",
        "def faceDetect_DLIB(type_dataset,label,imgPath):\n",
        "  processedImagePath_dlib = []\n",
        "  count = 0\n",
        "  for i in range(len(imgPath)):\n",
        "      # Load image\n",
        "      img_path = imgPath[i]\n",
        "      image = io.imread(img_path)\n",
        "\n",
        "      # Detect faces\n",
        "      detected_faces = detect_faces(image)\n",
        "\n",
        "      # Crop faces and plot\n",
        "      for n, face_rect in enumerate(detected_faces):\n",
        "          face = Image.fromarray(image).crop(face_rect)\n",
        "          final_face = asarray(face)\n",
        "          resize_face = cv2.resize(final_face,(64, 64), interpolation=cv2.INTER_CUBIC)\n",
        "          finalImg = cv2.cvtColor(resize_face, cv2.COLOR_BGR2RGB)\n",
        "          cv2.imwrite(\"DLIB\" + \"_\" + str(type_dataset) + \"_\" + str(label) + \"/dlib%d.jpg\" % count,finalImg)\n",
        "          \n",
        "          processedImagePath_dlib.append(\"DLIB\" + \"_\" + str(type_dataset) + \"_\" + str(label) + \"/dlib%d.jpg\" %count)\n",
        "          \n",
        "\n",
        "          count += 1\n",
        "  return processedImagePath_dlib\n"
      ],
      "execution_count": null,
      "outputs": []
    },
    {
      "cell_type": "code",
      "metadata": {
        "id": "KiaWCUfB3mff"
      },
      "source": [
        "processedImagePath_Train_Fake_dlib = faceDetect_DLIB(\"Train\",\"Fake\",imgPath_train_fake)"
      ],
      "execution_count": null,
      "outputs": []
    },
    {
      "cell_type": "code",
      "metadata": {
        "colab": {
          "base_uri": "https://localhost:8080/"
        },
        "id": "g1aE9Zi_grwg",
        "outputId": "3da45ac3-8677-4c8e-eea1-a44d25bbb10c"
      },
      "source": [
        "print(processedImagePath_Train_Fake_dlib)"
      ],
      "execution_count": null,
      "outputs": [
        {
          "output_type": "stream",
          "text": [
            "['DLIB_Train_Fake/dlib0.jpg', 'DLIB_Train_Fake/dlib1.jpg', 'DLIB_Train_Fake/dlib2.jpg', 'DLIB_Train_Fake/dlib3.jpg', 'DLIB_Train_Fake/dlib4.jpg', 'DLIB_Train_Fake/dlib5.jpg', 'DLIB_Train_Fake/dlib6.jpg', 'DLIB_Train_Fake/dlib7.jpg', 'DLIB_Train_Fake/dlib8.jpg', 'DLIB_Train_Fake/dlib9.jpg', 'DLIB_Train_Fake/dlib10.jpg', 'DLIB_Train_Fake/dlib11.jpg', 'DLIB_Train_Fake/dlib12.jpg', 'DLIB_Train_Fake/dlib13.jpg', 'DLIB_Train_Fake/dlib14.jpg', 'DLIB_Train_Fake/dlib15.jpg', 'DLIB_Train_Fake/dlib16.jpg', 'DLIB_Train_Fake/dlib17.jpg', 'DLIB_Train_Fake/dlib18.jpg', 'DLIB_Train_Fake/dlib19.jpg', 'DLIB_Train_Fake/dlib20.jpg', 'DLIB_Train_Fake/dlib21.jpg', 'DLIB_Train_Fake/dlib22.jpg', 'DLIB_Train_Fake/dlib23.jpg', 'DLIB_Train_Fake/dlib24.jpg', 'DLIB_Train_Fake/dlib25.jpg', 'DLIB_Train_Fake/dlib26.jpg', 'DLIB_Train_Fake/dlib27.jpg', 'DLIB_Train_Fake/dlib28.jpg', 'DLIB_Train_Fake/dlib29.jpg', 'DLIB_Train_Fake/dlib30.jpg', 'DLIB_Train_Fake/dlib31.jpg', 'DLIB_Train_Fake/dlib32.jpg', 'DLIB_Train_Fake/dlib33.jpg', 'DLIB_Train_Fake/dlib34.jpg', 'DLIB_Train_Fake/dlib35.jpg', 'DLIB_Train_Fake/dlib36.jpg', 'DLIB_Train_Fake/dlib37.jpg', 'DLIB_Train_Fake/dlib38.jpg', 'DLIB_Train_Fake/dlib39.jpg', 'DLIB_Train_Fake/dlib40.jpg', 'DLIB_Train_Fake/dlib41.jpg', 'DLIB_Train_Fake/dlib42.jpg', 'DLIB_Train_Fake/dlib43.jpg', 'DLIB_Train_Fake/dlib44.jpg', 'DLIB_Train_Fake/dlib45.jpg', 'DLIB_Train_Fake/dlib46.jpg', 'DLIB_Train_Fake/dlib47.jpg', 'DLIB_Train_Fake/dlib48.jpg', 'DLIB_Train_Fake/dlib49.jpg', 'DLIB_Train_Fake/dlib50.jpg', 'DLIB_Train_Fake/dlib51.jpg', 'DLIB_Train_Fake/dlib52.jpg', 'DLIB_Train_Fake/dlib53.jpg', 'DLIB_Train_Fake/dlib54.jpg', 'DLIB_Train_Fake/dlib55.jpg', 'DLIB_Train_Fake/dlib56.jpg', 'DLIB_Train_Fake/dlib57.jpg', 'DLIB_Train_Fake/dlib58.jpg', 'DLIB_Train_Fake/dlib59.jpg', 'DLIB_Train_Fake/dlib60.jpg', 'DLIB_Train_Fake/dlib61.jpg', 'DLIB_Train_Fake/dlib62.jpg', 'DLIB_Train_Fake/dlib63.jpg', 'DLIB_Train_Fake/dlib64.jpg', 'DLIB_Train_Fake/dlib65.jpg', 'DLIB_Train_Fake/dlib66.jpg', 'DLIB_Train_Fake/dlib67.jpg', 'DLIB_Train_Fake/dlib68.jpg', 'DLIB_Train_Fake/dlib69.jpg', 'DLIB_Train_Fake/dlib70.jpg', 'DLIB_Train_Fake/dlib71.jpg', 'DLIB_Train_Fake/dlib72.jpg', 'DLIB_Train_Fake/dlib73.jpg', 'DLIB_Train_Fake/dlib74.jpg', 'DLIB_Train_Fake/dlib75.jpg', 'DLIB_Train_Fake/dlib76.jpg', 'DLIB_Train_Fake/dlib77.jpg', 'DLIB_Train_Fake/dlib78.jpg', 'DLIB_Train_Fake/dlib79.jpg', 'DLIB_Train_Fake/dlib80.jpg', 'DLIB_Train_Fake/dlib81.jpg', 'DLIB_Train_Fake/dlib82.jpg', 'DLIB_Train_Fake/dlib83.jpg', 'DLIB_Train_Fake/dlib84.jpg', 'DLIB_Train_Fake/dlib85.jpg', 'DLIB_Train_Fake/dlib86.jpg', 'DLIB_Train_Fake/dlib87.jpg', 'DLIB_Train_Fake/dlib88.jpg', 'DLIB_Train_Fake/dlib89.jpg', 'DLIB_Train_Fake/dlib90.jpg', 'DLIB_Train_Fake/dlib91.jpg', 'DLIB_Train_Fake/dlib92.jpg', 'DLIB_Train_Fake/dlib93.jpg', 'DLIB_Train_Fake/dlib94.jpg', 'DLIB_Train_Fake/dlib95.jpg', 'DLIB_Train_Fake/dlib96.jpg', 'DLIB_Train_Fake/dlib97.jpg', 'DLIB_Train_Fake/dlib98.jpg', 'DLIB_Train_Fake/dlib99.jpg', 'DLIB_Train_Fake/dlib100.jpg', 'DLIB_Train_Fake/dlib101.jpg', 'DLIB_Train_Fake/dlib102.jpg', 'DLIB_Train_Fake/dlib103.jpg', 'DLIB_Train_Fake/dlib104.jpg', 'DLIB_Train_Fake/dlib105.jpg', 'DLIB_Train_Fake/dlib106.jpg', 'DLIB_Train_Fake/dlib107.jpg', 'DLIB_Train_Fake/dlib108.jpg', 'DLIB_Train_Fake/dlib109.jpg', 'DLIB_Train_Fake/dlib110.jpg', 'DLIB_Train_Fake/dlib111.jpg', 'DLIB_Train_Fake/dlib112.jpg', 'DLIB_Train_Fake/dlib113.jpg', 'DLIB_Train_Fake/dlib114.jpg', 'DLIB_Train_Fake/dlib115.jpg', 'DLIB_Train_Fake/dlib116.jpg', 'DLIB_Train_Fake/dlib117.jpg', 'DLIB_Train_Fake/dlib118.jpg', 'DLIB_Train_Fake/dlib119.jpg', 'DLIB_Train_Fake/dlib120.jpg', 'DLIB_Train_Fake/dlib121.jpg', 'DLIB_Train_Fake/dlib122.jpg', 'DLIB_Train_Fake/dlib123.jpg', 'DLIB_Train_Fake/dlib124.jpg', 'DLIB_Train_Fake/dlib125.jpg', 'DLIB_Train_Fake/dlib126.jpg', 'DLIB_Train_Fake/dlib127.jpg', 'DLIB_Train_Fake/dlib128.jpg', 'DLIB_Train_Fake/dlib129.jpg', 'DLIB_Train_Fake/dlib130.jpg', 'DLIB_Train_Fake/dlib131.jpg', 'DLIB_Train_Fake/dlib132.jpg', 'DLIB_Train_Fake/dlib133.jpg', 'DLIB_Train_Fake/dlib134.jpg', 'DLIB_Train_Fake/dlib135.jpg', 'DLIB_Train_Fake/dlib136.jpg', 'DLIB_Train_Fake/dlib137.jpg', 'DLIB_Train_Fake/dlib138.jpg', 'DLIB_Train_Fake/dlib139.jpg', 'DLIB_Train_Fake/dlib140.jpg', 'DLIB_Train_Fake/dlib141.jpg', 'DLIB_Train_Fake/dlib142.jpg', 'DLIB_Train_Fake/dlib143.jpg', 'DLIB_Train_Fake/dlib144.jpg', 'DLIB_Train_Fake/dlib145.jpg', 'DLIB_Train_Fake/dlib146.jpg', 'DLIB_Train_Fake/dlib147.jpg', 'DLIB_Train_Fake/dlib148.jpg', 'DLIB_Train_Fake/dlib149.jpg', 'DLIB_Train_Fake/dlib150.jpg', 'DLIB_Train_Fake/dlib151.jpg', 'DLIB_Train_Fake/dlib152.jpg', 'DLIB_Train_Fake/dlib153.jpg', 'DLIB_Train_Fake/dlib154.jpg', 'DLIB_Train_Fake/dlib155.jpg', 'DLIB_Train_Fake/dlib156.jpg', 'DLIB_Train_Fake/dlib157.jpg', 'DLIB_Train_Fake/dlib158.jpg', 'DLIB_Train_Fake/dlib159.jpg', 'DLIB_Train_Fake/dlib160.jpg', 'DLIB_Train_Fake/dlib161.jpg', 'DLIB_Train_Fake/dlib162.jpg', 'DLIB_Train_Fake/dlib163.jpg', 'DLIB_Train_Fake/dlib164.jpg', 'DLIB_Train_Fake/dlib165.jpg', 'DLIB_Train_Fake/dlib166.jpg', 'DLIB_Train_Fake/dlib167.jpg', 'DLIB_Train_Fake/dlib168.jpg', 'DLIB_Train_Fake/dlib169.jpg', 'DLIB_Train_Fake/dlib170.jpg', 'DLIB_Train_Fake/dlib171.jpg', 'DLIB_Train_Fake/dlib172.jpg', 'DLIB_Train_Fake/dlib173.jpg', 'DLIB_Train_Fake/dlib174.jpg', 'DLIB_Train_Fake/dlib175.jpg', 'DLIB_Train_Fake/dlib176.jpg', 'DLIB_Train_Fake/dlib177.jpg', 'DLIB_Train_Fake/dlib178.jpg', 'DLIB_Train_Fake/dlib179.jpg', 'DLIB_Train_Fake/dlib180.jpg', 'DLIB_Train_Fake/dlib181.jpg', 'DLIB_Train_Fake/dlib182.jpg', 'DLIB_Train_Fake/dlib183.jpg', 'DLIB_Train_Fake/dlib184.jpg', 'DLIB_Train_Fake/dlib185.jpg', 'DLIB_Train_Fake/dlib186.jpg', 'DLIB_Train_Fake/dlib187.jpg', 'DLIB_Train_Fake/dlib188.jpg', 'DLIB_Train_Fake/dlib189.jpg', 'DLIB_Train_Fake/dlib190.jpg', 'DLIB_Train_Fake/dlib191.jpg', 'DLIB_Train_Fake/dlib192.jpg', 'DLIB_Train_Fake/dlib193.jpg', 'DLIB_Train_Fake/dlib194.jpg', 'DLIB_Train_Fake/dlib195.jpg', 'DLIB_Train_Fake/dlib196.jpg', 'DLIB_Train_Fake/dlib197.jpg', 'DLIB_Train_Fake/dlib198.jpg', 'DLIB_Train_Fake/dlib199.jpg', 'DLIB_Train_Fake/dlib200.jpg', 'DLIB_Train_Fake/dlib201.jpg', 'DLIB_Train_Fake/dlib202.jpg', 'DLIB_Train_Fake/dlib203.jpg', 'DLIB_Train_Fake/dlib204.jpg', 'DLIB_Train_Fake/dlib205.jpg', 'DLIB_Train_Fake/dlib206.jpg', 'DLIB_Train_Fake/dlib207.jpg', 'DLIB_Train_Fake/dlib208.jpg', 'DLIB_Train_Fake/dlib209.jpg', 'DLIB_Train_Fake/dlib210.jpg', 'DLIB_Train_Fake/dlib211.jpg', 'DLIB_Train_Fake/dlib212.jpg', 'DLIB_Train_Fake/dlib213.jpg', 'DLIB_Train_Fake/dlib214.jpg', 'DLIB_Train_Fake/dlib215.jpg', 'DLIB_Train_Fake/dlib216.jpg', 'DLIB_Train_Fake/dlib217.jpg', 'DLIB_Train_Fake/dlib218.jpg', 'DLIB_Train_Fake/dlib219.jpg', 'DLIB_Train_Fake/dlib220.jpg', 'DLIB_Train_Fake/dlib221.jpg', 'DLIB_Train_Fake/dlib222.jpg', 'DLIB_Train_Fake/dlib223.jpg', 'DLIB_Train_Fake/dlib224.jpg', 'DLIB_Train_Fake/dlib225.jpg', 'DLIB_Train_Fake/dlib226.jpg', 'DLIB_Train_Fake/dlib227.jpg', 'DLIB_Train_Fake/dlib228.jpg', 'DLIB_Train_Fake/dlib229.jpg', 'DLIB_Train_Fake/dlib230.jpg', 'DLIB_Train_Fake/dlib231.jpg', 'DLIB_Train_Fake/dlib232.jpg', 'DLIB_Train_Fake/dlib233.jpg', 'DLIB_Train_Fake/dlib234.jpg', 'DLIB_Train_Fake/dlib235.jpg', 'DLIB_Train_Fake/dlib236.jpg', 'DLIB_Train_Fake/dlib237.jpg', 'DLIB_Train_Fake/dlib238.jpg', 'DLIB_Train_Fake/dlib239.jpg', 'DLIB_Train_Fake/dlib240.jpg', 'DLIB_Train_Fake/dlib241.jpg', 'DLIB_Train_Fake/dlib242.jpg', 'DLIB_Train_Fake/dlib243.jpg', 'DLIB_Train_Fake/dlib244.jpg', 'DLIB_Train_Fake/dlib245.jpg', 'DLIB_Train_Fake/dlib246.jpg', 'DLIB_Train_Fake/dlib247.jpg', 'DLIB_Train_Fake/dlib248.jpg', 'DLIB_Train_Fake/dlib249.jpg', 'DLIB_Train_Fake/dlib250.jpg', 'DLIB_Train_Fake/dlib251.jpg', 'DLIB_Train_Fake/dlib252.jpg', 'DLIB_Train_Fake/dlib253.jpg', 'DLIB_Train_Fake/dlib254.jpg', 'DLIB_Train_Fake/dlib255.jpg', 'DLIB_Train_Fake/dlib256.jpg', 'DLIB_Train_Fake/dlib257.jpg', 'DLIB_Train_Fake/dlib258.jpg', 'DLIB_Train_Fake/dlib259.jpg', 'DLIB_Train_Fake/dlib260.jpg', 'DLIB_Train_Fake/dlib261.jpg', 'DLIB_Train_Fake/dlib262.jpg', 'DLIB_Train_Fake/dlib263.jpg', 'DLIB_Train_Fake/dlib264.jpg', 'DLIB_Train_Fake/dlib265.jpg', 'DLIB_Train_Fake/dlib266.jpg', 'DLIB_Train_Fake/dlib267.jpg', 'DLIB_Train_Fake/dlib268.jpg', 'DLIB_Train_Fake/dlib269.jpg', 'DLIB_Train_Fake/dlib270.jpg', 'DLIB_Train_Fake/dlib271.jpg', 'DLIB_Train_Fake/dlib272.jpg', 'DLIB_Train_Fake/dlib273.jpg', 'DLIB_Train_Fake/dlib274.jpg', 'DLIB_Train_Fake/dlib275.jpg', 'DLIB_Train_Fake/dlib276.jpg', 'DLIB_Train_Fake/dlib277.jpg', 'DLIB_Train_Fake/dlib278.jpg', 'DLIB_Train_Fake/dlib279.jpg', 'DLIB_Train_Fake/dlib280.jpg', 'DLIB_Train_Fake/dlib281.jpg', 'DLIB_Train_Fake/dlib282.jpg', 'DLIB_Train_Fake/dlib283.jpg', 'DLIB_Train_Fake/dlib284.jpg', 'DLIB_Train_Fake/dlib285.jpg', 'DLIB_Train_Fake/dlib286.jpg', 'DLIB_Train_Fake/dlib287.jpg', 'DLIB_Train_Fake/dlib288.jpg', 'DLIB_Train_Fake/dlib289.jpg', 'DLIB_Train_Fake/dlib290.jpg', 'DLIB_Train_Fake/dlib291.jpg', 'DLIB_Train_Fake/dlib292.jpg', 'DLIB_Train_Fake/dlib293.jpg', 'DLIB_Train_Fake/dlib294.jpg', 'DLIB_Train_Fake/dlib295.jpg', 'DLIB_Train_Fake/dlib296.jpg', 'DLIB_Train_Fake/dlib297.jpg', 'DLIB_Train_Fake/dlib298.jpg', 'DLIB_Train_Fake/dlib299.jpg', 'DLIB_Train_Fake/dlib300.jpg', 'DLIB_Train_Fake/dlib301.jpg', 'DLIB_Train_Fake/dlib302.jpg', 'DLIB_Train_Fake/dlib303.jpg', 'DLIB_Train_Fake/dlib304.jpg', 'DLIB_Train_Fake/dlib305.jpg', 'DLIB_Train_Fake/dlib306.jpg', 'DLIB_Train_Fake/dlib307.jpg', 'DLIB_Train_Fake/dlib308.jpg', 'DLIB_Train_Fake/dlib309.jpg', 'DLIB_Train_Fake/dlib310.jpg', 'DLIB_Train_Fake/dlib311.jpg', 'DLIB_Train_Fake/dlib312.jpg', 'DLIB_Train_Fake/dlib313.jpg', 'DLIB_Train_Fake/dlib314.jpg', 'DLIB_Train_Fake/dlib315.jpg', 'DLIB_Train_Fake/dlib316.jpg', 'DLIB_Train_Fake/dlib317.jpg', 'DLIB_Train_Fake/dlib318.jpg', 'DLIB_Train_Fake/dlib319.jpg', 'DLIB_Train_Fake/dlib320.jpg', 'DLIB_Train_Fake/dlib321.jpg', 'DLIB_Train_Fake/dlib322.jpg', 'DLIB_Train_Fake/dlib323.jpg', 'DLIB_Train_Fake/dlib324.jpg', 'DLIB_Train_Fake/dlib325.jpg', 'DLIB_Train_Fake/dlib326.jpg', 'DLIB_Train_Fake/dlib327.jpg', 'DLIB_Train_Fake/dlib328.jpg', 'DLIB_Train_Fake/dlib329.jpg', 'DLIB_Train_Fake/dlib330.jpg', 'DLIB_Train_Fake/dlib331.jpg', 'DLIB_Train_Fake/dlib332.jpg', 'DLIB_Train_Fake/dlib333.jpg', 'DLIB_Train_Fake/dlib334.jpg', 'DLIB_Train_Fake/dlib335.jpg', 'DLIB_Train_Fake/dlib336.jpg', 'DLIB_Train_Fake/dlib337.jpg', 'DLIB_Train_Fake/dlib338.jpg', 'DLIB_Train_Fake/dlib339.jpg', 'DLIB_Train_Fake/dlib340.jpg', 'DLIB_Train_Fake/dlib341.jpg', 'DLIB_Train_Fake/dlib342.jpg', 'DLIB_Train_Fake/dlib343.jpg', 'DLIB_Train_Fake/dlib344.jpg', 'DLIB_Train_Fake/dlib345.jpg', 'DLIB_Train_Fake/dlib346.jpg', 'DLIB_Train_Fake/dlib347.jpg', 'DLIB_Train_Fake/dlib348.jpg', 'DLIB_Train_Fake/dlib349.jpg', 'DLIB_Train_Fake/dlib350.jpg', 'DLIB_Train_Fake/dlib351.jpg', 'DLIB_Train_Fake/dlib352.jpg', 'DLIB_Train_Fake/dlib353.jpg', 'DLIB_Train_Fake/dlib354.jpg', 'DLIB_Train_Fake/dlib355.jpg', 'DLIB_Train_Fake/dlib356.jpg', 'DLIB_Train_Fake/dlib357.jpg', 'DLIB_Train_Fake/dlib358.jpg', 'DLIB_Train_Fake/dlib359.jpg', 'DLIB_Train_Fake/dlib360.jpg', 'DLIB_Train_Fake/dlib361.jpg', 'DLIB_Train_Fake/dlib362.jpg', 'DLIB_Train_Fake/dlib363.jpg', 'DLIB_Train_Fake/dlib364.jpg', 'DLIB_Train_Fake/dlib365.jpg', 'DLIB_Train_Fake/dlib366.jpg', 'DLIB_Train_Fake/dlib367.jpg', 'DLIB_Train_Fake/dlib368.jpg', 'DLIB_Train_Fake/dlib369.jpg', 'DLIB_Train_Fake/dlib370.jpg', 'DLIB_Train_Fake/dlib371.jpg', 'DLIB_Train_Fake/dlib372.jpg', 'DLIB_Train_Fake/dlib373.jpg', 'DLIB_Train_Fake/dlib374.jpg', 'DLIB_Train_Fake/dlib375.jpg', 'DLIB_Train_Fake/dlib376.jpg', 'DLIB_Train_Fake/dlib377.jpg', 'DLIB_Train_Fake/dlib378.jpg', 'DLIB_Train_Fake/dlib379.jpg', 'DLIB_Train_Fake/dlib380.jpg', 'DLIB_Train_Fake/dlib381.jpg', 'DLIB_Train_Fake/dlib382.jpg', 'DLIB_Train_Fake/dlib383.jpg', 'DLIB_Train_Fake/dlib384.jpg', 'DLIB_Train_Fake/dlib385.jpg', 'DLIB_Train_Fake/dlib386.jpg', 'DLIB_Train_Fake/dlib387.jpg', 'DLIB_Train_Fake/dlib388.jpg', 'DLIB_Train_Fake/dlib389.jpg', 'DLIB_Train_Fake/dlib390.jpg', 'DLIB_Train_Fake/dlib391.jpg', 'DLIB_Train_Fake/dlib392.jpg', 'DLIB_Train_Fake/dlib393.jpg', 'DLIB_Train_Fake/dlib394.jpg', 'DLIB_Train_Fake/dlib395.jpg', 'DLIB_Train_Fake/dlib396.jpg', 'DLIB_Train_Fake/dlib397.jpg', 'DLIB_Train_Fake/dlib398.jpg', 'DLIB_Train_Fake/dlib399.jpg', 'DLIB_Train_Fake/dlib400.jpg', 'DLIB_Train_Fake/dlib401.jpg', 'DLIB_Train_Fake/dlib402.jpg', 'DLIB_Train_Fake/dlib403.jpg', 'DLIB_Train_Fake/dlib404.jpg', 'DLIB_Train_Fake/dlib405.jpg', 'DLIB_Train_Fake/dlib406.jpg', 'DLIB_Train_Fake/dlib407.jpg', 'DLIB_Train_Fake/dlib408.jpg', 'DLIB_Train_Fake/dlib409.jpg', 'DLIB_Train_Fake/dlib410.jpg', 'DLIB_Train_Fake/dlib411.jpg', 'DLIB_Train_Fake/dlib412.jpg', 'DLIB_Train_Fake/dlib413.jpg', 'DLIB_Train_Fake/dlib414.jpg', 'DLIB_Train_Fake/dlib415.jpg', 'DLIB_Train_Fake/dlib416.jpg', 'DLIB_Train_Fake/dlib417.jpg', 'DLIB_Train_Fake/dlib418.jpg', 'DLIB_Train_Fake/dlib419.jpg', 'DLIB_Train_Fake/dlib420.jpg', 'DLIB_Train_Fake/dlib421.jpg', 'DLIB_Train_Fake/dlib422.jpg', 'DLIB_Train_Fake/dlib423.jpg', 'DLIB_Train_Fake/dlib424.jpg', 'DLIB_Train_Fake/dlib425.jpg', 'DLIB_Train_Fake/dlib426.jpg', 'DLIB_Train_Fake/dlib427.jpg', 'DLIB_Train_Fake/dlib428.jpg', 'DLIB_Train_Fake/dlib429.jpg', 'DLIB_Train_Fake/dlib430.jpg', 'DLIB_Train_Fake/dlib431.jpg', 'DLIB_Train_Fake/dlib432.jpg', 'DLIB_Train_Fake/dlib433.jpg', 'DLIB_Train_Fake/dlib434.jpg', 'DLIB_Train_Fake/dlib435.jpg', 'DLIB_Train_Fake/dlib436.jpg', 'DLIB_Train_Fake/dlib437.jpg', 'DLIB_Train_Fake/dlib438.jpg', 'DLIB_Train_Fake/dlib439.jpg', 'DLIB_Train_Fake/dlib440.jpg', 'DLIB_Train_Fake/dlib441.jpg', 'DLIB_Train_Fake/dlib442.jpg', 'DLIB_Train_Fake/dlib443.jpg', 'DLIB_Train_Fake/dlib444.jpg', 'DLIB_Train_Fake/dlib445.jpg', 'DLIB_Train_Fake/dlib446.jpg', 'DLIB_Train_Fake/dlib447.jpg', 'DLIB_Train_Fake/dlib448.jpg', 'DLIB_Train_Fake/dlib449.jpg', 'DLIB_Train_Fake/dlib450.jpg', 'DLIB_Train_Fake/dlib451.jpg', 'DLIB_Train_Fake/dlib452.jpg', 'DLIB_Train_Fake/dlib453.jpg', 'DLIB_Train_Fake/dlib454.jpg', 'DLIB_Train_Fake/dlib455.jpg', 'DLIB_Train_Fake/dlib456.jpg', 'DLIB_Train_Fake/dlib457.jpg', 'DLIB_Train_Fake/dlib458.jpg', 'DLIB_Train_Fake/dlib459.jpg', 'DLIB_Train_Fake/dlib460.jpg', 'DLIB_Train_Fake/dlib461.jpg', 'DLIB_Train_Fake/dlib462.jpg', 'DLIB_Train_Fake/dlib463.jpg', 'DLIB_Train_Fake/dlib464.jpg', 'DLIB_Train_Fake/dlib465.jpg', 'DLIB_Train_Fake/dlib466.jpg', 'DLIB_Train_Fake/dlib467.jpg', 'DLIB_Train_Fake/dlib468.jpg', 'DLIB_Train_Fake/dlib469.jpg', 'DLIB_Train_Fake/dlib470.jpg', 'DLIB_Train_Fake/dlib471.jpg', 'DLIB_Train_Fake/dlib472.jpg', 'DLIB_Train_Fake/dlib473.jpg', 'DLIB_Train_Fake/dlib474.jpg', 'DLIB_Train_Fake/dlib475.jpg', 'DLIB_Train_Fake/dlib476.jpg', 'DLIB_Train_Fake/dlib477.jpg', 'DLIB_Train_Fake/dlib478.jpg', 'DLIB_Train_Fake/dlib479.jpg', 'DLIB_Train_Fake/dlib480.jpg', 'DLIB_Train_Fake/dlib481.jpg', 'DLIB_Train_Fake/dlib482.jpg', 'DLIB_Train_Fake/dlib483.jpg', 'DLIB_Train_Fake/dlib484.jpg', 'DLIB_Train_Fake/dlib485.jpg', 'DLIB_Train_Fake/dlib486.jpg', 'DLIB_Train_Fake/dlib487.jpg', 'DLIB_Train_Fake/dlib488.jpg', 'DLIB_Train_Fake/dlib489.jpg', 'DLIB_Train_Fake/dlib490.jpg', 'DLIB_Train_Fake/dlib491.jpg', 'DLIB_Train_Fake/dlib492.jpg', 'DLIB_Train_Fake/dlib493.jpg', 'DLIB_Train_Fake/dlib494.jpg', 'DLIB_Train_Fake/dlib495.jpg', 'DLIB_Train_Fake/dlib496.jpg', 'DLIB_Train_Fake/dlib497.jpg', 'DLIB_Train_Fake/dlib498.jpg', 'DLIB_Train_Fake/dlib499.jpg', 'DLIB_Train_Fake/dlib500.jpg', 'DLIB_Train_Fake/dlib501.jpg', 'DLIB_Train_Fake/dlib502.jpg', 'DLIB_Train_Fake/dlib503.jpg', 'DLIB_Train_Fake/dlib504.jpg', 'DLIB_Train_Fake/dlib505.jpg', 'DLIB_Train_Fake/dlib506.jpg', 'DLIB_Train_Fake/dlib507.jpg', 'DLIB_Train_Fake/dlib508.jpg', 'DLIB_Train_Fake/dlib509.jpg', 'DLIB_Train_Fake/dlib510.jpg', 'DLIB_Train_Fake/dlib511.jpg', 'DLIB_Train_Fake/dlib512.jpg', 'DLIB_Train_Fake/dlib513.jpg', 'DLIB_Train_Fake/dlib514.jpg', 'DLIB_Train_Fake/dlib515.jpg', 'DLIB_Train_Fake/dlib516.jpg', 'DLIB_Train_Fake/dlib517.jpg', 'DLIB_Train_Fake/dlib518.jpg', 'DLIB_Train_Fake/dlib519.jpg', 'DLIB_Train_Fake/dlib520.jpg', 'DLIB_Train_Fake/dlib521.jpg', 'DLIB_Train_Fake/dlib522.jpg', 'DLIB_Train_Fake/dlib523.jpg', 'DLIB_Train_Fake/dlib524.jpg', 'DLIB_Train_Fake/dlib525.jpg', 'DLIB_Train_Fake/dlib526.jpg', 'DLIB_Train_Fake/dlib527.jpg', 'DLIB_Train_Fake/dlib528.jpg', 'DLIB_Train_Fake/dlib529.jpg', 'DLIB_Train_Fake/dlib530.jpg', 'DLIB_Train_Fake/dlib531.jpg', 'DLIB_Train_Fake/dlib532.jpg', 'DLIB_Train_Fake/dlib533.jpg', 'DLIB_Train_Fake/dlib534.jpg', 'DLIB_Train_Fake/dlib535.jpg', 'DLIB_Train_Fake/dlib536.jpg', 'DLIB_Train_Fake/dlib537.jpg', 'DLIB_Train_Fake/dlib538.jpg', 'DLIB_Train_Fake/dlib539.jpg', 'DLIB_Train_Fake/dlib540.jpg', 'DLIB_Train_Fake/dlib541.jpg', 'DLIB_Train_Fake/dlib542.jpg', 'DLIB_Train_Fake/dlib543.jpg', 'DLIB_Train_Fake/dlib544.jpg', 'DLIB_Train_Fake/dlib545.jpg', 'DLIB_Train_Fake/dlib546.jpg', 'DLIB_Train_Fake/dlib547.jpg', 'DLIB_Train_Fake/dlib548.jpg', 'DLIB_Train_Fake/dlib549.jpg', 'DLIB_Train_Fake/dlib550.jpg', 'DLIB_Train_Fake/dlib551.jpg', 'DLIB_Train_Fake/dlib552.jpg', 'DLIB_Train_Fake/dlib553.jpg', 'DLIB_Train_Fake/dlib554.jpg', 'DLIB_Train_Fake/dlib555.jpg', 'DLIB_Train_Fake/dlib556.jpg', 'DLIB_Train_Fake/dlib557.jpg', 'DLIB_Train_Fake/dlib558.jpg', 'DLIB_Train_Fake/dlib559.jpg', 'DLIB_Train_Fake/dlib560.jpg', 'DLIB_Train_Fake/dlib561.jpg', 'DLIB_Train_Fake/dlib562.jpg', 'DLIB_Train_Fake/dlib563.jpg', 'DLIB_Train_Fake/dlib564.jpg', 'DLIB_Train_Fake/dlib565.jpg', 'DLIB_Train_Fake/dlib566.jpg', 'DLIB_Train_Fake/dlib567.jpg', 'DLIB_Train_Fake/dlib568.jpg', 'DLIB_Train_Fake/dlib569.jpg', 'DLIB_Train_Fake/dlib570.jpg', 'DLIB_Train_Fake/dlib571.jpg', 'DLIB_Train_Fake/dlib572.jpg', 'DLIB_Train_Fake/dlib573.jpg', 'DLIB_Train_Fake/dlib574.jpg', 'DLIB_Train_Fake/dlib575.jpg', 'DLIB_Train_Fake/dlib576.jpg', 'DLIB_Train_Fake/dlib577.jpg', 'DLIB_Train_Fake/dlib578.jpg', 'DLIB_Train_Fake/dlib579.jpg', 'DLIB_Train_Fake/dlib580.jpg', 'DLIB_Train_Fake/dlib581.jpg', 'DLIB_Train_Fake/dlib582.jpg', 'DLIB_Train_Fake/dlib583.jpg', 'DLIB_Train_Fake/dlib584.jpg', 'DLIB_Train_Fake/dlib585.jpg', 'DLIB_Train_Fake/dlib586.jpg', 'DLIB_Train_Fake/dlib587.jpg', 'DLIB_Train_Fake/dlib588.jpg', 'DLIB_Train_Fake/dlib589.jpg', 'DLIB_Train_Fake/dlib590.jpg', 'DLIB_Train_Fake/dlib591.jpg', 'DLIB_Train_Fake/dlib592.jpg', 'DLIB_Train_Fake/dlib593.jpg', 'DLIB_Train_Fake/dlib594.jpg', 'DLIB_Train_Fake/dlib595.jpg', 'DLIB_Train_Fake/dlib596.jpg', 'DLIB_Train_Fake/dlib597.jpg', 'DLIB_Train_Fake/dlib598.jpg', 'DLIB_Train_Fake/dlib599.jpg', 'DLIB_Train_Fake/dlib600.jpg', 'DLIB_Train_Fake/dlib601.jpg', 'DLIB_Train_Fake/dlib602.jpg', 'DLIB_Train_Fake/dlib603.jpg', 'DLIB_Train_Fake/dlib604.jpg', 'DLIB_Train_Fake/dlib605.jpg', 'DLIB_Train_Fake/dlib606.jpg', 'DLIB_Train_Fake/dlib607.jpg', 'DLIB_Train_Fake/dlib608.jpg', 'DLIB_Train_Fake/dlib609.jpg', 'DLIB_Train_Fake/dlib610.jpg', 'DLIB_Train_Fake/dlib611.jpg', 'DLIB_Train_Fake/dlib612.jpg', 'DLIB_Train_Fake/dlib613.jpg', 'DLIB_Train_Fake/dlib614.jpg', 'DLIB_Train_Fake/dlib615.jpg', 'DLIB_Train_Fake/dlib616.jpg', 'DLIB_Train_Fake/dlib617.jpg', 'DLIB_Train_Fake/dlib618.jpg', 'DLIB_Train_Fake/dlib619.jpg', 'DLIB_Train_Fake/dlib620.jpg', 'DLIB_Train_Fake/dlib621.jpg', 'DLIB_Train_Fake/dlib622.jpg', 'DLIB_Train_Fake/dlib623.jpg', 'DLIB_Train_Fake/dlib624.jpg', 'DLIB_Train_Fake/dlib625.jpg', 'DLIB_Train_Fake/dlib626.jpg', 'DLIB_Train_Fake/dlib627.jpg', 'DLIB_Train_Fake/dlib628.jpg', 'DLIB_Train_Fake/dlib629.jpg', 'DLIB_Train_Fake/dlib630.jpg', 'DLIB_Train_Fake/dlib631.jpg', 'DLIB_Train_Fake/dlib632.jpg', 'DLIB_Train_Fake/dlib633.jpg', 'DLIB_Train_Fake/dlib634.jpg', 'DLIB_Train_Fake/dlib635.jpg', 'DLIB_Train_Fake/dlib636.jpg', 'DLIB_Train_Fake/dlib637.jpg', 'DLIB_Train_Fake/dlib638.jpg', 'DLIB_Train_Fake/dlib639.jpg', 'DLIB_Train_Fake/dlib640.jpg', 'DLIB_Train_Fake/dlib641.jpg', 'DLIB_Train_Fake/dlib642.jpg', 'DLIB_Train_Fake/dlib643.jpg', 'DLIB_Train_Fake/dlib644.jpg', 'DLIB_Train_Fake/dlib645.jpg', 'DLIB_Train_Fake/dlib646.jpg', 'DLIB_Train_Fake/dlib647.jpg', 'DLIB_Train_Fake/dlib648.jpg', 'DLIB_Train_Fake/dlib649.jpg', 'DLIB_Train_Fake/dlib650.jpg', 'DLIB_Train_Fake/dlib651.jpg', 'DLIB_Train_Fake/dlib652.jpg', 'DLIB_Train_Fake/dlib653.jpg', 'DLIB_Train_Fake/dlib654.jpg', 'DLIB_Train_Fake/dlib655.jpg', 'DLIB_Train_Fake/dlib656.jpg', 'DLIB_Train_Fake/dlib657.jpg', 'DLIB_Train_Fake/dlib658.jpg', 'DLIB_Train_Fake/dlib659.jpg', 'DLIB_Train_Fake/dlib660.jpg', 'DLIB_Train_Fake/dlib661.jpg', 'DLIB_Train_Fake/dlib662.jpg', 'DLIB_Train_Fake/dlib663.jpg', 'DLIB_Train_Fake/dlib664.jpg', 'DLIB_Train_Fake/dlib665.jpg', 'DLIB_Train_Fake/dlib666.jpg', 'DLIB_Train_Fake/dlib667.jpg', 'DLIB_Train_Fake/dlib668.jpg', 'DLIB_Train_Fake/dlib669.jpg', 'DLIB_Train_Fake/dlib670.jpg', 'DLIB_Train_Fake/dlib671.jpg', 'DLIB_Train_Fake/dlib672.jpg', 'DLIB_Train_Fake/dlib673.jpg', 'DLIB_Train_Fake/dlib674.jpg', 'DLIB_Train_Fake/dlib675.jpg', 'DLIB_Train_Fake/dlib676.jpg', 'DLIB_Train_Fake/dlib677.jpg', 'DLIB_Train_Fake/dlib678.jpg', 'DLIB_Train_Fake/dlib679.jpg', 'DLIB_Train_Fake/dlib680.jpg', 'DLIB_Train_Fake/dlib681.jpg', 'DLIB_Train_Fake/dlib682.jpg', 'DLIB_Train_Fake/dlib683.jpg', 'DLIB_Train_Fake/dlib684.jpg', 'DLIB_Train_Fake/dlib685.jpg', 'DLIB_Train_Fake/dlib686.jpg', 'DLIB_Train_Fake/dlib687.jpg', 'DLIB_Train_Fake/dlib688.jpg', 'DLIB_Train_Fake/dlib689.jpg', 'DLIB_Train_Fake/dlib690.jpg', 'DLIB_Train_Fake/dlib691.jpg', 'DLIB_Train_Fake/dlib692.jpg', 'DLIB_Train_Fake/dlib693.jpg', 'DLIB_Train_Fake/dlib694.jpg', 'DLIB_Train_Fake/dlib695.jpg', 'DLIB_Train_Fake/dlib696.jpg', 'DLIB_Train_Fake/dlib697.jpg', 'DLIB_Train_Fake/dlib698.jpg', 'DLIB_Train_Fake/dlib699.jpg', 'DLIB_Train_Fake/dlib700.jpg', 'DLIB_Train_Fake/dlib701.jpg', 'DLIB_Train_Fake/dlib702.jpg', 'DLIB_Train_Fake/dlib703.jpg', 'DLIB_Train_Fake/dlib704.jpg', 'DLIB_Train_Fake/dlib705.jpg', 'DLIB_Train_Fake/dlib706.jpg', 'DLIB_Train_Fake/dlib707.jpg', 'DLIB_Train_Fake/dlib708.jpg', 'DLIB_Train_Fake/dlib709.jpg', 'DLIB_Train_Fake/dlib710.jpg', 'DLIB_Train_Fake/dlib711.jpg', 'DLIB_Train_Fake/dlib712.jpg', 'DLIB_Train_Fake/dlib713.jpg', 'DLIB_Train_Fake/dlib714.jpg', 'DLIB_Train_Fake/dlib715.jpg', 'DLIB_Train_Fake/dlib716.jpg', 'DLIB_Train_Fake/dlib717.jpg', 'DLIB_Train_Fake/dlib718.jpg', 'DLIB_Train_Fake/dlib719.jpg', 'DLIB_Train_Fake/dlib720.jpg', 'DLIB_Train_Fake/dlib721.jpg', 'DLIB_Train_Fake/dlib722.jpg', 'DLIB_Train_Fake/dlib723.jpg', 'DLIB_Train_Fake/dlib724.jpg', 'DLIB_Train_Fake/dlib725.jpg', 'DLIB_Train_Fake/dlib726.jpg', 'DLIB_Train_Fake/dlib727.jpg', 'DLIB_Train_Fake/dlib728.jpg', 'DLIB_Train_Fake/dlib729.jpg', 'DLIB_Train_Fake/dlib730.jpg', 'DLIB_Train_Fake/dlib731.jpg', 'DLIB_Train_Fake/dlib732.jpg', 'DLIB_Train_Fake/dlib733.jpg', 'DLIB_Train_Fake/dlib734.jpg', 'DLIB_Train_Fake/dlib735.jpg', 'DLIB_Train_Fake/dlib736.jpg', 'DLIB_Train_Fake/dlib737.jpg', 'DLIB_Train_Fake/dlib738.jpg', 'DLIB_Train_Fake/dlib739.jpg', 'DLIB_Train_Fake/dlib740.jpg', 'DLIB_Train_Fake/dlib741.jpg', 'DLIB_Train_Fake/dlib742.jpg', 'DLIB_Train_Fake/dlib743.jpg', 'DLIB_Train_Fake/dlib744.jpg', 'DLIB_Train_Fake/dlib745.jpg', 'DLIB_Train_Fake/dlib746.jpg', 'DLIB_Train_Fake/dlib747.jpg', 'DLIB_Train_Fake/dlib748.jpg', 'DLIB_Train_Fake/dlib749.jpg', 'DLIB_Train_Fake/dlib750.jpg', 'DLIB_Train_Fake/dlib751.jpg', 'DLIB_Train_Fake/dlib752.jpg', 'DLIB_Train_Fake/dlib753.jpg', 'DLIB_Train_Fake/dlib754.jpg', 'DLIB_Train_Fake/dlib755.jpg', 'DLIB_Train_Fake/dlib756.jpg', 'DLIB_Train_Fake/dlib757.jpg', 'DLIB_Train_Fake/dlib758.jpg', 'DLIB_Train_Fake/dlib759.jpg', 'DLIB_Train_Fake/dlib760.jpg', 'DLIB_Train_Fake/dlib761.jpg', 'DLIB_Train_Fake/dlib762.jpg', 'DLIB_Train_Fake/dlib763.jpg', 'DLIB_Train_Fake/dlib764.jpg', 'DLIB_Train_Fake/dlib765.jpg', 'DLIB_Train_Fake/dlib766.jpg', 'DLIB_Train_Fake/dlib767.jpg', 'DLIB_Train_Fake/dlib768.jpg', 'DLIB_Train_Fake/dlib769.jpg', 'DLIB_Train_Fake/dlib770.jpg', 'DLIB_Train_Fake/dlib771.jpg', 'DLIB_Train_Fake/dlib772.jpg', 'DLIB_Train_Fake/dlib773.jpg', 'DLIB_Train_Fake/dlib774.jpg', 'DLIB_Train_Fake/dlib775.jpg', 'DLIB_Train_Fake/dlib776.jpg', 'DLIB_Train_Fake/dlib777.jpg', 'DLIB_Train_Fake/dlib778.jpg', 'DLIB_Train_Fake/dlib779.jpg', 'DLIB_Train_Fake/dlib780.jpg', 'DLIB_Train_Fake/dlib781.jpg', 'DLIB_Train_Fake/dlib782.jpg', 'DLIB_Train_Fake/dlib783.jpg', 'DLIB_Train_Fake/dlib784.jpg', 'DLIB_Train_Fake/dlib785.jpg', 'DLIB_Train_Fake/dlib786.jpg', 'DLIB_Train_Fake/dlib787.jpg', 'DLIB_Train_Fake/dlib788.jpg', 'DLIB_Train_Fake/dlib789.jpg', 'DLIB_Train_Fake/dlib790.jpg', 'DLIB_Train_Fake/dlib791.jpg', 'DLIB_Train_Fake/dlib792.jpg', 'DLIB_Train_Fake/dlib793.jpg', 'DLIB_Train_Fake/dlib794.jpg', 'DLIB_Train_Fake/dlib795.jpg', 'DLIB_Train_Fake/dlib796.jpg', 'DLIB_Train_Fake/dlib797.jpg', 'DLIB_Train_Fake/dlib798.jpg', 'DLIB_Train_Fake/dlib799.jpg', 'DLIB_Train_Fake/dlib800.jpg', 'DLIB_Train_Fake/dlib801.jpg', 'DLIB_Train_Fake/dlib802.jpg', 'DLIB_Train_Fake/dlib803.jpg', 'DLIB_Train_Fake/dlib804.jpg', 'DLIB_Train_Fake/dlib805.jpg', 'DLIB_Train_Fake/dlib806.jpg', 'DLIB_Train_Fake/dlib807.jpg', 'DLIB_Train_Fake/dlib808.jpg', 'DLIB_Train_Fake/dlib809.jpg', 'DLIB_Train_Fake/dlib810.jpg', 'DLIB_Train_Fake/dlib811.jpg', 'DLIB_Train_Fake/dlib812.jpg', 'DLIB_Train_Fake/dlib813.jpg', 'DLIB_Train_Fake/dlib814.jpg', 'DLIB_Train_Fake/dlib815.jpg', 'DLIB_Train_Fake/dlib816.jpg', 'DLIB_Train_Fake/dlib817.jpg', 'DLIB_Train_Fake/dlib818.jpg', 'DLIB_Train_Fake/dlib819.jpg', 'DLIB_Train_Fake/dlib820.jpg', 'DLIB_Train_Fake/dlib821.jpg', 'DLIB_Train_Fake/dlib822.jpg', 'DLIB_Train_Fake/dlib823.jpg', 'DLIB_Train_Fake/dlib824.jpg', 'DLIB_Train_Fake/dlib825.jpg', 'DLIB_Train_Fake/dlib826.jpg', 'DLIB_Train_Fake/dlib827.jpg', 'DLIB_Train_Fake/dlib828.jpg', 'DLIB_Train_Fake/dlib829.jpg', 'DLIB_Train_Fake/dlib830.jpg', 'DLIB_Train_Fake/dlib831.jpg', 'DLIB_Train_Fake/dlib832.jpg', 'DLIB_Train_Fake/dlib833.jpg', 'DLIB_Train_Fake/dlib834.jpg', 'DLIB_Train_Fake/dlib835.jpg', 'DLIB_Train_Fake/dlib836.jpg', 'DLIB_Train_Fake/dlib837.jpg', 'DLIB_Train_Fake/dlib838.jpg', 'DLIB_Train_Fake/dlib839.jpg', 'DLIB_Train_Fake/dlib840.jpg', 'DLIB_Train_Fake/dlib841.jpg', 'DLIB_Train_Fake/dlib842.jpg', 'DLIB_Train_Fake/dlib843.jpg', 'DLIB_Train_Fake/dlib844.jpg', 'DLIB_Train_Fake/dlib845.jpg', 'DLIB_Train_Fake/dlib846.jpg', 'DLIB_Train_Fake/dlib847.jpg', 'DLIB_Train_Fake/dlib848.jpg', 'DLIB_Train_Fake/dlib849.jpg', 'DLIB_Train_Fake/dlib850.jpg', 'DLIB_Train_Fake/dlib851.jpg', 'DLIB_Train_Fake/dlib852.jpg', 'DLIB_Train_Fake/dlib853.jpg', 'DLIB_Train_Fake/dlib854.jpg', 'DLIB_Train_Fake/dlib855.jpg', 'DLIB_Train_Fake/dlib856.jpg', 'DLIB_Train_Fake/dlib857.jpg', 'DLIB_Train_Fake/dlib858.jpg', 'DLIB_Train_Fake/dlib859.jpg', 'DLIB_Train_Fake/dlib860.jpg', 'DLIB_Train_Fake/dlib861.jpg', 'DLIB_Train_Fake/dlib862.jpg', 'DLIB_Train_Fake/dlib863.jpg', 'DLIB_Train_Fake/dlib864.jpg', 'DLIB_Train_Fake/dlib865.jpg', 'DLIB_Train_Fake/dlib866.jpg', 'DLIB_Train_Fake/dlib867.jpg', 'DLIB_Train_Fake/dlib868.jpg', 'DLIB_Train_Fake/dlib869.jpg', 'DLIB_Train_Fake/dlib870.jpg', 'DLIB_Train_Fake/dlib871.jpg', 'DLIB_Train_Fake/dlib872.jpg', 'DLIB_Train_Fake/dlib873.jpg', 'DLIB_Train_Fake/dlib874.jpg', 'DLIB_Train_Fake/dlib875.jpg', 'DLIB_Train_Fake/dlib876.jpg', 'DLIB_Train_Fake/dlib877.jpg', 'DLIB_Train_Fake/dlib878.jpg', 'DLIB_Train_Fake/dlib879.jpg', 'DLIB_Train_Fake/dlib880.jpg', 'DLIB_Train_Fake/dlib881.jpg', 'DLIB_Train_Fake/dlib882.jpg', 'DLIB_Train_Fake/dlib883.jpg', 'DLIB_Train_Fake/dlib884.jpg', 'DLIB_Train_Fake/dlib885.jpg', 'DLIB_Train_Fake/dlib886.jpg', 'DLIB_Train_Fake/dlib887.jpg', 'DLIB_Train_Fake/dlib888.jpg', 'DLIB_Train_Fake/dlib889.jpg', 'DLIB_Train_Fake/dlib890.jpg', 'DLIB_Train_Fake/dlib891.jpg', 'DLIB_Train_Fake/dlib892.jpg', 'DLIB_Train_Fake/dlib893.jpg', 'DLIB_Train_Fake/dlib894.jpg', 'DLIB_Train_Fake/dlib895.jpg', 'DLIB_Train_Fake/dlib896.jpg', 'DLIB_Train_Fake/dlib897.jpg', 'DLIB_Train_Fake/dlib898.jpg', 'DLIB_Train_Fake/dlib899.jpg', 'DLIB_Train_Fake/dlib900.jpg', 'DLIB_Train_Fake/dlib901.jpg', 'DLIB_Train_Fake/dlib902.jpg', 'DLIB_Train_Fake/dlib903.jpg', 'DLIB_Train_Fake/dlib904.jpg', 'DLIB_Train_Fake/dlib905.jpg', 'DLIB_Train_Fake/dlib906.jpg', 'DLIB_Train_Fake/dlib907.jpg', 'DLIB_Train_Fake/dlib908.jpg', 'DLIB_Train_Fake/dlib909.jpg', 'DLIB_Train_Fake/dlib910.jpg', 'DLIB_Train_Fake/dlib911.jpg', 'DLIB_Train_Fake/dlib912.jpg', 'DLIB_Train_Fake/dlib913.jpg', 'DLIB_Train_Fake/dlib914.jpg', 'DLIB_Train_Fake/dlib915.jpg', 'DLIB_Train_Fake/dlib916.jpg', 'DLIB_Train_Fake/dlib917.jpg', 'DLIB_Train_Fake/dlib918.jpg', 'DLIB_Train_Fake/dlib919.jpg', 'DLIB_Train_Fake/dlib920.jpg', 'DLIB_Train_Fake/dlib921.jpg', 'DLIB_Train_Fake/dlib922.jpg', 'DLIB_Train_Fake/dlib923.jpg', 'DLIB_Train_Fake/dlib924.jpg', 'DLIB_Train_Fake/dlib925.jpg', 'DLIB_Train_Fake/dlib926.jpg', 'DLIB_Train_Fake/dlib927.jpg', 'DLIB_Train_Fake/dlib928.jpg', 'DLIB_Train_Fake/dlib929.jpg', 'DLIB_Train_Fake/dlib930.jpg', 'DLIB_Train_Fake/dlib931.jpg', 'DLIB_Train_Fake/dlib932.jpg', 'DLIB_Train_Fake/dlib933.jpg', 'DLIB_Train_Fake/dlib934.jpg', 'DLIB_Train_Fake/dlib935.jpg', 'DLIB_Train_Fake/dlib936.jpg', 'DLIB_Train_Fake/dlib937.jpg', 'DLIB_Train_Fake/dlib938.jpg', 'DLIB_Train_Fake/dlib939.jpg', 'DLIB_Train_Fake/dlib940.jpg', 'DLIB_Train_Fake/dlib941.jpg', 'DLIB_Train_Fake/dlib942.jpg', 'DLIB_Train_Fake/dlib943.jpg', 'DLIB_Train_Fake/dlib944.jpg', 'DLIB_Train_Fake/dlib945.jpg', 'DLIB_Train_Fake/dlib946.jpg', 'DLIB_Train_Fake/dlib947.jpg', 'DLIB_Train_Fake/dlib948.jpg', 'DLIB_Train_Fake/dlib949.jpg', 'DLIB_Train_Fake/dlib950.jpg', 'DLIB_Train_Fake/dlib951.jpg', 'DLIB_Train_Fake/dlib952.jpg', 'DLIB_Train_Fake/dlib953.jpg', 'DLIB_Train_Fake/dlib954.jpg', 'DLIB_Train_Fake/dlib955.jpg', 'DLIB_Train_Fake/dlib956.jpg', 'DLIB_Train_Fake/dlib957.jpg', 'DLIB_Train_Fake/dlib958.jpg', 'DLIB_Train_Fake/dlib959.jpg', 'DLIB_Train_Fake/dlib960.jpg', 'DLIB_Train_Fake/dlib961.jpg', 'DLIB_Train_Fake/dlib962.jpg', 'DLIB_Train_Fake/dlib963.jpg', 'DLIB_Train_Fake/dlib964.jpg', 'DLIB_Train_Fake/dlib965.jpg', 'DLIB_Train_Fake/dlib966.jpg', 'DLIB_Train_Fake/dlib967.jpg', 'DLIB_Train_Fake/dlib968.jpg', 'DLIB_Train_Fake/dlib969.jpg', 'DLIB_Train_Fake/dlib970.jpg', 'DLIB_Train_Fake/dlib971.jpg', 'DLIB_Train_Fake/dlib972.jpg', 'DLIB_Train_Fake/dlib973.jpg', 'DLIB_Train_Fake/dlib974.jpg', 'DLIB_Train_Fake/dlib975.jpg', 'DLIB_Train_Fake/dlib976.jpg', 'DLIB_Train_Fake/dlib977.jpg', 'DLIB_Train_Fake/dlib978.jpg', 'DLIB_Train_Fake/dlib979.jpg', 'DLIB_Train_Fake/dlib980.jpg', 'DLIB_Train_Fake/dlib981.jpg', 'DLIB_Train_Fake/dlib982.jpg', 'DLIB_Train_Fake/dlib983.jpg', 'DLIB_Train_Fake/dlib984.jpg', 'DLIB_Train_Fake/dlib985.jpg', 'DLIB_Train_Fake/dlib986.jpg', 'DLIB_Train_Fake/dlib987.jpg', 'DLIB_Train_Fake/dlib988.jpg', 'DLIB_Train_Fake/dlib989.jpg', 'DLIB_Train_Fake/dlib990.jpg', 'DLIB_Train_Fake/dlib991.jpg', 'DLIB_Train_Fake/dlib992.jpg', 'DLIB_Train_Fake/dlib993.jpg', 'DLIB_Train_Fake/dlib994.jpg', 'DLIB_Train_Fake/dlib995.jpg', 'DLIB_Train_Fake/dlib996.jpg', 'DLIB_Train_Fake/dlib997.jpg', 'DLIB_Train_Fake/dlib998.jpg', 'DLIB_Train_Fake/dlib999.jpg', 'DLIB_Train_Fake/dlib1000.jpg', 'DLIB_Train_Fake/dlib1001.jpg', 'DLIB_Train_Fake/dlib1002.jpg', 'DLIB_Train_Fake/dlib1003.jpg', 'DLIB_Train_Fake/dlib1004.jpg', 'DLIB_Train_Fake/dlib1005.jpg', 'DLIB_Train_Fake/dlib1006.jpg', 'DLIB_Train_Fake/dlib1007.jpg', 'DLIB_Train_Fake/dlib1008.jpg', 'DLIB_Train_Fake/dlib1009.jpg', 'DLIB_Train_Fake/dlib1010.jpg', 'DLIB_Train_Fake/dlib1011.jpg', 'DLIB_Train_Fake/dlib1012.jpg', 'DLIB_Train_Fake/dlib1013.jpg', 'DLIB_Train_Fake/dlib1014.jpg', 'DLIB_Train_Fake/dlib1015.jpg', 'DLIB_Train_Fake/dlib1016.jpg', 'DLIB_Train_Fake/dlib1017.jpg', 'DLIB_Train_Fake/dlib1018.jpg', 'DLIB_Train_Fake/dlib1019.jpg', 'DLIB_Train_Fake/dlib1020.jpg', 'DLIB_Train_Fake/dlib1021.jpg', 'DLIB_Train_Fake/dlib1022.jpg', 'DLIB_Train_Fake/dlib1023.jpg', 'DLIB_Train_Fake/dlib1024.jpg', 'DLIB_Train_Fake/dlib1025.jpg', 'DLIB_Train_Fake/dlib1026.jpg', 'DLIB_Train_Fake/dlib1027.jpg', 'DLIB_Train_Fake/dlib1028.jpg', 'DLIB_Train_Fake/dlib1029.jpg', 'DLIB_Train_Fake/dlib1030.jpg', 'DLIB_Train_Fake/dlib1031.jpg', 'DLIB_Train_Fake/dlib1032.jpg', 'DLIB_Train_Fake/dlib1033.jpg', 'DLIB_Train_Fake/dlib1034.jpg', 'DLIB_Train_Fake/dlib1035.jpg', 'DLIB_Train_Fake/dlib1036.jpg', 'DLIB_Train_Fake/dlib1037.jpg', 'DLIB_Train_Fake/dlib1038.jpg', 'DLIB_Train_Fake/dlib1039.jpg', 'DLIB_Train_Fake/dlib1040.jpg', 'DLIB_Train_Fake/dlib1041.jpg', 'DLIB_Train_Fake/dlib1042.jpg', 'DLIB_Train_Fake/dlib1043.jpg', 'DLIB_Train_Fake/dlib1044.jpg', 'DLIB_Train_Fake/dlib1045.jpg', 'DLIB_Train_Fake/dlib1046.jpg', 'DLIB_Train_Fake/dlib1047.jpg', 'DLIB_Train_Fake/dlib1048.jpg', 'DLIB_Train_Fake/dlib1049.jpg', 'DLIB_Train_Fake/dlib1050.jpg', 'DLIB_Train_Fake/dlib1051.jpg', 'DLIB_Train_Fake/dlib1052.jpg', 'DLIB_Train_Fake/dlib1053.jpg', 'DLIB_Train_Fake/dlib1054.jpg', 'DLIB_Train_Fake/dlib1055.jpg', 'DLIB_Train_Fake/dlib1056.jpg', 'DLIB_Train_Fake/dlib1057.jpg', 'DLIB_Train_Fake/dlib1058.jpg', 'DLIB_Train_Fake/dlib1059.jpg', 'DLIB_Train_Fake/dlib1060.jpg', 'DLIB_Train_Fake/dlib1061.jpg', 'DLIB_Train_Fake/dlib1062.jpg', 'DLIB_Train_Fake/dlib1063.jpg', 'DLIB_Train_Fake/dlib1064.jpg', 'DLIB_Train_Fake/dlib1065.jpg', 'DLIB_Train_Fake/dlib1066.jpg', 'DLIB_Train_Fake/dlib1067.jpg', 'DLIB_Train_Fake/dlib1068.jpg', 'DLIB_Train_Fake/dlib1069.jpg', 'DLIB_Train_Fake/dlib1070.jpg', 'DLIB_Train_Fake/dlib1071.jpg', 'DLIB_Train_Fake/dlib1072.jpg', 'DLIB_Train_Fake/dlib1073.jpg', 'DLIB_Train_Fake/dlib1074.jpg', 'DLIB_Train_Fake/dlib1075.jpg', 'DLIB_Train_Fake/dlib1076.jpg', 'DLIB_Train_Fake/dlib1077.jpg', 'DLIB_Train_Fake/dlib1078.jpg', 'DLIB_Train_Fake/dlib1079.jpg', 'DLIB_Train_Fake/dlib1080.jpg', 'DLIB_Train_Fake/dlib1081.jpg', 'DLIB_Train_Fake/dlib1082.jpg', 'DLIB_Train_Fake/dlib1083.jpg', 'DLIB_Train_Fake/dlib1084.jpg', 'DLIB_Train_Fake/dlib1085.jpg', 'DLIB_Train_Fake/dlib1086.jpg', 'DLIB_Train_Fake/dlib1087.jpg', 'DLIB_Train_Fake/dlib1088.jpg', 'DLIB_Train_Fake/dlib1089.jpg', 'DLIB_Train_Fake/dlib1090.jpg', 'DLIB_Train_Fake/dlib1091.jpg', 'DLIB_Train_Fake/dlib1092.jpg', 'DLIB_Train_Fake/dlib1093.jpg', 'DLIB_Train_Fake/dlib1094.jpg', 'DLIB_Train_Fake/dlib1095.jpg', 'DLIB_Train_Fake/dlib1096.jpg', 'DLIB_Train_Fake/dlib1097.jpg', 'DLIB_Train_Fake/dlib1098.jpg', 'DLIB_Train_Fake/dlib1099.jpg', 'DLIB_Train_Fake/dlib1100.jpg', 'DLIB_Train_Fake/dlib1101.jpg', 'DLIB_Train_Fake/dlib1102.jpg', 'DLIB_Train_Fake/dlib1103.jpg', 'DLIB_Train_Fake/dlib1104.jpg', 'DLIB_Train_Fake/dlib1105.jpg', 'DLIB_Train_Fake/dlib1106.jpg', 'DLIB_Train_Fake/dlib1107.jpg', 'DLIB_Train_Fake/dlib1108.jpg', 'DLIB_Train_Fake/dlib1109.jpg', 'DLIB_Train_Fake/dlib1110.jpg', 'DLIB_Train_Fake/dlib1111.jpg', 'DLIB_Train_Fake/dlib1112.jpg', 'DLIB_Train_Fake/dlib1113.jpg', 'DLIB_Train_Fake/dlib1114.jpg', 'DLIB_Train_Fake/dlib1115.jpg', 'DLIB_Train_Fake/dlib1116.jpg', 'DLIB_Train_Fake/dlib1117.jpg', 'DLIB_Train_Fake/dlib1118.jpg', 'DLIB_Train_Fake/dlib1119.jpg', 'DLIB_Train_Fake/dlib1120.jpg', 'DLIB_Train_Fake/dlib1121.jpg', 'DLIB_Train_Fake/dlib1122.jpg', 'DLIB_Train_Fake/dlib1123.jpg', 'DLIB_Train_Fake/dlib1124.jpg', 'DLIB_Train_Fake/dlib1125.jpg', 'DLIB_Train_Fake/dlib1126.jpg', 'DLIB_Train_Fake/dlib1127.jpg', 'DLIB_Train_Fake/dlib1128.jpg', 'DLIB_Train_Fake/dlib1129.jpg', 'DLIB_Train_Fake/dlib1130.jpg', 'DLIB_Train_Fake/dlib1131.jpg', 'DLIB_Train_Fake/dlib1132.jpg', 'DLIB_Train_Fake/dlib1133.jpg', 'DLIB_Train_Fake/dlib1134.jpg', 'DLIB_Train_Fake/dlib1135.jpg', 'DLIB_Train_Fake/dlib1136.jpg', 'DLIB_Train_Fake/dlib1137.jpg', 'DLIB_Train_Fake/dlib1138.jpg', 'DLIB_Train_Fake/dlib1139.jpg', 'DLIB_Train_Fake/dlib1140.jpg', 'DLIB_Train_Fake/dlib1141.jpg', 'DLIB_Train_Fake/dlib1142.jpg', 'DLIB_Train_Fake/dlib1143.jpg', 'DLIB_Train_Fake/dlib1144.jpg', 'DLIB_Train_Fake/dlib1145.jpg', 'DLIB_Train_Fake/dlib1146.jpg', 'DLIB_Train_Fake/dlib1147.jpg', 'DLIB_Train_Fake/dlib1148.jpg', 'DLIB_Train_Fake/dlib1149.jpg', 'DLIB_Train_Fake/dlib1150.jpg', 'DLIB_Train_Fake/dlib1151.jpg', 'DLIB_Train_Fake/dlib1152.jpg', 'DLIB_Train_Fake/dlib1153.jpg', 'DLIB_Train_Fake/dlib1154.jpg', 'DLIB_Train_Fake/dlib1155.jpg', 'DLIB_Train_Fake/dlib1156.jpg', 'DLIB_Train_Fake/dlib1157.jpg', 'DLIB_Train_Fake/dlib1158.jpg', 'DLIB_Train_Fake/dlib1159.jpg', 'DLIB_Train_Fake/dlib1160.jpg', 'DLIB_Train_Fake/dlib1161.jpg', 'DLIB_Train_Fake/dlib1162.jpg', 'DLIB_Train_Fake/dlib1163.jpg', 'DLIB_Train_Fake/dlib1164.jpg', 'DLIB_Train_Fake/dlib1165.jpg', 'DLIB_Train_Fake/dlib1166.jpg', 'DLIB_Train_Fake/dlib1167.jpg', 'DLIB_Train_Fake/dlib1168.jpg', 'DLIB_Train_Fake/dlib1169.jpg', 'DLIB_Train_Fake/dlib1170.jpg', 'DLIB_Train_Fake/dlib1171.jpg', 'DLIB_Train_Fake/dlib1172.jpg', 'DLIB_Train_Fake/dlib1173.jpg', 'DLIB_Train_Fake/dlib1174.jpg', 'DLIB_Train_Fake/dlib1175.jpg', 'DLIB_Train_Fake/dlib1176.jpg', 'DLIB_Train_Fake/dlib1177.jpg', 'DLIB_Train_Fake/dlib1178.jpg', 'DLIB_Train_Fake/dlib1179.jpg', 'DLIB_Train_Fake/dlib1180.jpg', 'DLIB_Train_Fake/dlib1181.jpg', 'DLIB_Train_Fake/dlib1182.jpg', 'DLIB_Train_Fake/dlib1183.jpg', 'DLIB_Train_Fake/dlib1184.jpg', 'DLIB_Train_Fake/dlib1185.jpg', 'DLIB_Train_Fake/dlib1186.jpg', 'DLIB_Train_Fake/dlib1187.jpg', 'DLIB_Train_Fake/dlib1188.jpg', 'DLIB_Train_Fake/dlib1189.jpg', 'DLIB_Train_Fake/dlib1190.jpg', 'DLIB_Train_Fake/dlib1191.jpg', 'DLIB_Train_Fake/dlib1192.jpg', 'DLIB_Train_Fake/dlib1193.jpg', 'DLIB_Train_Fake/dlib1194.jpg', 'DLIB_Train_Fake/dlib1195.jpg', 'DLIB_Train_Fake/dlib1196.jpg', 'DLIB_Train_Fake/dlib1197.jpg', 'DLIB_Train_Fake/dlib1198.jpg', 'DLIB_Train_Fake/dlib1199.jpg', 'DLIB_Train_Fake/dlib1200.jpg', 'DLIB_Train_Fake/dlib1201.jpg', 'DLIB_Train_Fake/dlib1202.jpg', 'DLIB_Train_Fake/dlib1203.jpg', 'DLIB_Train_Fake/dlib1204.jpg', 'DLIB_Train_Fake/dlib1205.jpg', 'DLIB_Train_Fake/dlib1206.jpg', 'DLIB_Train_Fake/dlib1207.jpg', 'DLIB_Train_Fake/dlib1208.jpg', 'DLIB_Train_Fake/dlib1209.jpg', 'DLIB_Train_Fake/dlib1210.jpg', 'DLIB_Train_Fake/dlib1211.jpg', 'DLIB_Train_Fake/dlib1212.jpg', 'DLIB_Train_Fake/dlib1213.jpg', 'DLIB_Train_Fake/dlib1214.jpg', 'DLIB_Train_Fake/dlib1215.jpg', 'DLIB_Train_Fake/dlib1216.jpg', 'DLIB_Train_Fake/dlib1217.jpg', 'DLIB_Train_Fake/dlib1218.jpg', 'DLIB_Train_Fake/dlib1219.jpg', 'DLIB_Train_Fake/dlib1220.jpg', 'DLIB_Train_Fake/dlib1221.jpg', 'DLIB_Train_Fake/dlib1222.jpg', 'DLIB_Train_Fake/dlib1223.jpg', 'DLIB_Train_Fake/dlib1224.jpg', 'DLIB_Train_Fake/dlib1225.jpg', 'DLIB_Train_Fake/dlib1226.jpg', 'DLIB_Train_Fake/dlib1227.jpg', 'DLIB_Train_Fake/dlib1228.jpg', 'DLIB_Train_Fake/dlib1229.jpg', 'DLIB_Train_Fake/dlib1230.jpg', 'DLIB_Train_Fake/dlib1231.jpg', 'DLIB_Train_Fake/dlib1232.jpg', 'DLIB_Train_Fake/dlib1233.jpg', 'DLIB_Train_Fake/dlib1234.jpg', 'DLIB_Train_Fake/dlib1235.jpg', 'DLIB_Train_Fake/dlib1236.jpg', 'DLIB_Train_Fake/dlib1237.jpg', 'DLIB_Train_Fake/dlib1238.jpg', 'DLIB_Train_Fake/dlib1239.jpg', 'DLIB_Train_Fake/dlib1240.jpg', 'DLIB_Train_Fake/dlib1241.jpg', 'DLIB_Train_Fake/dlib1242.jpg', 'DLIB_Train_Fake/dlib1243.jpg', 'DLIB_Train_Fake/dlib1244.jpg', 'DLIB_Train_Fake/dlib1245.jpg', 'DLIB_Train_Fake/dlib1246.jpg', 'DLIB_Train_Fake/dlib1247.jpg', 'DLIB_Train_Fake/dlib1248.jpg', 'DLIB_Train_Fake/dlib1249.jpg', 'DLIB_Train_Fake/dlib1250.jpg', 'DLIB_Train_Fake/dlib1251.jpg', 'DLIB_Train_Fake/dlib1252.jpg', 'DLIB_Train_Fake/dlib1253.jpg', 'DLIB_Train_Fake/dlib1254.jpg', 'DLIB_Train_Fake/dlib1255.jpg', 'DLIB_Train_Fake/dlib1256.jpg', 'DLIB_Train_Fake/dlib1257.jpg', 'DLIB_Train_Fake/dlib1258.jpg', 'DLIB_Train_Fake/dlib1259.jpg', 'DLIB_Train_Fake/dlib1260.jpg', 'DLIB_Train_Fake/dlib1261.jpg', 'DLIB_Train_Fake/dlib1262.jpg', 'DLIB_Train_Fake/dlib1263.jpg', 'DLIB_Train_Fake/dlib1264.jpg', 'DLIB_Train_Fake/dlib1265.jpg', 'DLIB_Train_Fake/dlib1266.jpg', 'DLIB_Train_Fake/dlib1267.jpg', 'DLIB_Train_Fake/dlib1268.jpg', 'DLIB_Train_Fake/dlib1269.jpg', 'DLIB_Train_Fake/dlib1270.jpg', 'DLIB_Train_Fake/dlib1271.jpg', 'DLIB_Train_Fake/dlib1272.jpg', 'DLIB_Train_Fake/dlib1273.jpg', 'DLIB_Train_Fake/dlib1274.jpg', 'DLIB_Train_Fake/dlib1275.jpg', 'DLIB_Train_Fake/dlib1276.jpg', 'DLIB_Train_Fake/dlib1277.jpg', 'DLIB_Train_Fake/dlib1278.jpg', 'DLIB_Train_Fake/dlib1279.jpg', 'DLIB_Train_Fake/dlib1280.jpg', 'DLIB_Train_Fake/dlib1281.jpg', 'DLIB_Train_Fake/dlib1282.jpg', 'DLIB_Train_Fake/dlib1283.jpg', 'DLIB_Train_Fake/dlib1284.jpg', 'DLIB_Train_Fake/dlib1285.jpg', 'DLIB_Train_Fake/dlib1286.jpg', 'DLIB_Train_Fake/dlib1287.jpg', 'DLIB_Train_Fake/dlib1288.jpg', 'DLIB_Train_Fake/dlib1289.jpg', 'DLIB_Train_Fake/dlib1290.jpg', 'DLIB_Train_Fake/dlib1291.jpg', 'DLIB_Train_Fake/dlib1292.jpg', 'DLIB_Train_Fake/dlib1293.jpg', 'DLIB_Train_Fake/dlib1294.jpg', 'DLIB_Train_Fake/dlib1295.jpg', 'DLIB_Train_Fake/dlib1296.jpg', 'DLIB_Train_Fake/dlib1297.jpg', 'DLIB_Train_Fake/dlib1298.jpg', 'DLIB_Train_Fake/dlib1299.jpg', 'DLIB_Train_Fake/dlib1300.jpg', 'DLIB_Train_Fake/dlib1301.jpg', 'DLIB_Train_Fake/dlib1302.jpg', 'DLIB_Train_Fake/dlib1303.jpg', 'DLIB_Train_Fake/dlib1304.jpg', 'DLIB_Train_Fake/dlib1305.jpg', 'DLIB_Train_Fake/dlib1306.jpg', 'DLIB_Train_Fake/dlib1307.jpg', 'DLIB_Train_Fake/dlib1308.jpg', 'DLIB_Train_Fake/dlib1309.jpg', 'DLIB_Train_Fake/dlib1310.jpg', 'DLIB_Train_Fake/dlib1311.jpg', 'DLIB_Train_Fake/dlib1312.jpg', 'DLIB_Train_Fake/dlib1313.jpg', 'DLIB_Train_Fake/dlib1314.jpg', 'DLIB_Train_Fake/dlib1315.jpg', 'DLIB_Train_Fake/dlib1316.jpg', 'DLIB_Train_Fake/dlib1317.jpg', 'DLIB_Train_Fake/dlib1318.jpg', 'DLIB_Train_Fake/dlib1319.jpg', 'DLIB_Train_Fake/dlib1320.jpg', 'DLIB_Train_Fake/dlib1321.jpg', 'DLIB_Train_Fake/dlib1322.jpg', 'DLIB_Train_Fake/dlib1323.jpg', 'DLIB_Train_Fake/dlib1324.jpg', 'DLIB_Train_Fake/dlib1325.jpg', 'DLIB_Train_Fake/dlib1326.jpg', 'DLIB_Train_Fake/dlib1327.jpg', 'DLIB_Train_Fake/dlib1328.jpg', 'DLIB_Train_Fake/dlib1329.jpg', 'DLIB_Train_Fake/dlib1330.jpg', 'DLIB_Train_Fake/dlib1331.jpg', 'DLIB_Train_Fake/dlib1332.jpg', 'DLIB_Train_Fake/dlib1333.jpg', 'DLIB_Train_Fake/dlib1334.jpg', 'DLIB_Train_Fake/dlib1335.jpg', 'DLIB_Train_Fake/dlib1336.jpg', 'DLIB_Train_Fake/dlib1337.jpg', 'DLIB_Train_Fake/dlib1338.jpg', 'DLIB_Train_Fake/dlib1339.jpg', 'DLIB_Train_Fake/dlib1340.jpg', 'DLIB_Train_Fake/dlib1341.jpg', 'DLIB_Train_Fake/dlib1342.jpg', 'DLIB_Train_Fake/dlib1343.jpg', 'DLIB_Train_Fake/dlib1344.jpg', 'DLIB_Train_Fake/dlib1345.jpg', 'DLIB_Train_Fake/dlib1346.jpg', 'DLIB_Train_Fake/dlib1347.jpg', 'DLIB_Train_Fake/dlib1348.jpg', 'DLIB_Train_Fake/dlib1349.jpg', 'DLIB_Train_Fake/dlib1350.jpg', 'DLIB_Train_Fake/dlib1351.jpg', 'DLIB_Train_Fake/dlib1352.jpg']\n"
          ],
          "name": "stdout"
        }
      ]
    },
    {
      "cell_type": "code",
      "metadata": {
        "id": "sw-yNvEqhVNQ"
      },
      "source": [
        "processedImagePath_Train_Real_dlib = faceDetect_DLIB(\"Train\",\"Real\",imgPath_train_real)"
      ],
      "execution_count": null,
      "outputs": []
    },
    {
      "cell_type": "code",
      "metadata": {
        "id": "egdreZOChbgT",
        "colab": {
          "base_uri": "https://localhost:8080/"
        },
        "outputId": "f5654188-a2ad-4c88-a76f-d679afda6abd"
      },
      "source": [
        "print(processedImagePath_Train_Real_dlib)"
      ],
      "execution_count": null,
      "outputs": [
        {
          "output_type": "stream",
          "text": [
            "['DLIB_Train_Real/dlib0.jpg', 'DLIB_Train_Real/dlib1.jpg', 'DLIB_Train_Real/dlib2.jpg', 'DLIB_Train_Real/dlib3.jpg', 'DLIB_Train_Real/dlib4.jpg', 'DLIB_Train_Real/dlib5.jpg', 'DLIB_Train_Real/dlib6.jpg', 'DLIB_Train_Real/dlib7.jpg', 'DLIB_Train_Real/dlib8.jpg', 'DLIB_Train_Real/dlib9.jpg', 'DLIB_Train_Real/dlib10.jpg', 'DLIB_Train_Real/dlib11.jpg', 'DLIB_Train_Real/dlib12.jpg', 'DLIB_Train_Real/dlib13.jpg', 'DLIB_Train_Real/dlib14.jpg', 'DLIB_Train_Real/dlib15.jpg', 'DLIB_Train_Real/dlib16.jpg', 'DLIB_Train_Real/dlib17.jpg', 'DLIB_Train_Real/dlib18.jpg', 'DLIB_Train_Real/dlib19.jpg', 'DLIB_Train_Real/dlib20.jpg', 'DLIB_Train_Real/dlib21.jpg', 'DLIB_Train_Real/dlib22.jpg', 'DLIB_Train_Real/dlib23.jpg', 'DLIB_Train_Real/dlib24.jpg', 'DLIB_Train_Real/dlib25.jpg', 'DLIB_Train_Real/dlib26.jpg', 'DLIB_Train_Real/dlib27.jpg', 'DLIB_Train_Real/dlib28.jpg', 'DLIB_Train_Real/dlib29.jpg', 'DLIB_Train_Real/dlib30.jpg', 'DLIB_Train_Real/dlib31.jpg', 'DLIB_Train_Real/dlib32.jpg', 'DLIB_Train_Real/dlib33.jpg', 'DLIB_Train_Real/dlib34.jpg', 'DLIB_Train_Real/dlib35.jpg', 'DLIB_Train_Real/dlib36.jpg', 'DLIB_Train_Real/dlib37.jpg', 'DLIB_Train_Real/dlib38.jpg', 'DLIB_Train_Real/dlib39.jpg', 'DLIB_Train_Real/dlib40.jpg', 'DLIB_Train_Real/dlib41.jpg', 'DLIB_Train_Real/dlib42.jpg', 'DLIB_Train_Real/dlib43.jpg', 'DLIB_Train_Real/dlib44.jpg', 'DLIB_Train_Real/dlib45.jpg', 'DLIB_Train_Real/dlib46.jpg', 'DLIB_Train_Real/dlib47.jpg', 'DLIB_Train_Real/dlib48.jpg', 'DLIB_Train_Real/dlib49.jpg', 'DLIB_Train_Real/dlib50.jpg', 'DLIB_Train_Real/dlib51.jpg', 'DLIB_Train_Real/dlib52.jpg', 'DLIB_Train_Real/dlib53.jpg', 'DLIB_Train_Real/dlib54.jpg', 'DLIB_Train_Real/dlib55.jpg', 'DLIB_Train_Real/dlib56.jpg', 'DLIB_Train_Real/dlib57.jpg', 'DLIB_Train_Real/dlib58.jpg', 'DLIB_Train_Real/dlib59.jpg', 'DLIB_Train_Real/dlib60.jpg', 'DLIB_Train_Real/dlib61.jpg', 'DLIB_Train_Real/dlib62.jpg', 'DLIB_Train_Real/dlib63.jpg', 'DLIB_Train_Real/dlib64.jpg', 'DLIB_Train_Real/dlib65.jpg', 'DLIB_Train_Real/dlib66.jpg', 'DLIB_Train_Real/dlib67.jpg', 'DLIB_Train_Real/dlib68.jpg', 'DLIB_Train_Real/dlib69.jpg', 'DLIB_Train_Real/dlib70.jpg', 'DLIB_Train_Real/dlib71.jpg', 'DLIB_Train_Real/dlib72.jpg', 'DLIB_Train_Real/dlib73.jpg', 'DLIB_Train_Real/dlib74.jpg', 'DLIB_Train_Real/dlib75.jpg', 'DLIB_Train_Real/dlib76.jpg', 'DLIB_Train_Real/dlib77.jpg', 'DLIB_Train_Real/dlib78.jpg', 'DLIB_Train_Real/dlib79.jpg', 'DLIB_Train_Real/dlib80.jpg', 'DLIB_Train_Real/dlib81.jpg', 'DLIB_Train_Real/dlib82.jpg', 'DLIB_Train_Real/dlib83.jpg', 'DLIB_Train_Real/dlib84.jpg', 'DLIB_Train_Real/dlib85.jpg', 'DLIB_Train_Real/dlib86.jpg', 'DLIB_Train_Real/dlib87.jpg', 'DLIB_Train_Real/dlib88.jpg', 'DLIB_Train_Real/dlib89.jpg', 'DLIB_Train_Real/dlib90.jpg', 'DLIB_Train_Real/dlib91.jpg', 'DLIB_Train_Real/dlib92.jpg', 'DLIB_Train_Real/dlib93.jpg', 'DLIB_Train_Real/dlib94.jpg', 'DLIB_Train_Real/dlib95.jpg', 'DLIB_Train_Real/dlib96.jpg', 'DLIB_Train_Real/dlib97.jpg', 'DLIB_Train_Real/dlib98.jpg', 'DLIB_Train_Real/dlib99.jpg', 'DLIB_Train_Real/dlib100.jpg', 'DLIB_Train_Real/dlib101.jpg', 'DLIB_Train_Real/dlib102.jpg', 'DLIB_Train_Real/dlib103.jpg', 'DLIB_Train_Real/dlib104.jpg', 'DLIB_Train_Real/dlib105.jpg', 'DLIB_Train_Real/dlib106.jpg', 'DLIB_Train_Real/dlib107.jpg', 'DLIB_Train_Real/dlib108.jpg', 'DLIB_Train_Real/dlib109.jpg', 'DLIB_Train_Real/dlib110.jpg', 'DLIB_Train_Real/dlib111.jpg', 'DLIB_Train_Real/dlib112.jpg', 'DLIB_Train_Real/dlib113.jpg', 'DLIB_Train_Real/dlib114.jpg', 'DLIB_Train_Real/dlib115.jpg', 'DLIB_Train_Real/dlib116.jpg', 'DLIB_Train_Real/dlib117.jpg', 'DLIB_Train_Real/dlib118.jpg', 'DLIB_Train_Real/dlib119.jpg', 'DLIB_Train_Real/dlib120.jpg', 'DLIB_Train_Real/dlib121.jpg', 'DLIB_Train_Real/dlib122.jpg', 'DLIB_Train_Real/dlib123.jpg', 'DLIB_Train_Real/dlib124.jpg', 'DLIB_Train_Real/dlib125.jpg', 'DLIB_Train_Real/dlib126.jpg', 'DLIB_Train_Real/dlib127.jpg', 'DLIB_Train_Real/dlib128.jpg', 'DLIB_Train_Real/dlib129.jpg', 'DLIB_Train_Real/dlib130.jpg', 'DLIB_Train_Real/dlib131.jpg', 'DLIB_Train_Real/dlib132.jpg', 'DLIB_Train_Real/dlib133.jpg', 'DLIB_Train_Real/dlib134.jpg', 'DLIB_Train_Real/dlib135.jpg', 'DLIB_Train_Real/dlib136.jpg', 'DLIB_Train_Real/dlib137.jpg', 'DLIB_Train_Real/dlib138.jpg', 'DLIB_Train_Real/dlib139.jpg', 'DLIB_Train_Real/dlib140.jpg', 'DLIB_Train_Real/dlib141.jpg', 'DLIB_Train_Real/dlib142.jpg', 'DLIB_Train_Real/dlib143.jpg', 'DLIB_Train_Real/dlib144.jpg', 'DLIB_Train_Real/dlib145.jpg', 'DLIB_Train_Real/dlib146.jpg', 'DLIB_Train_Real/dlib147.jpg', 'DLIB_Train_Real/dlib148.jpg', 'DLIB_Train_Real/dlib149.jpg', 'DLIB_Train_Real/dlib150.jpg', 'DLIB_Train_Real/dlib151.jpg', 'DLIB_Train_Real/dlib152.jpg', 'DLIB_Train_Real/dlib153.jpg', 'DLIB_Train_Real/dlib154.jpg', 'DLIB_Train_Real/dlib155.jpg', 'DLIB_Train_Real/dlib156.jpg', 'DLIB_Train_Real/dlib157.jpg', 'DLIB_Train_Real/dlib158.jpg', 'DLIB_Train_Real/dlib159.jpg', 'DLIB_Train_Real/dlib160.jpg', 'DLIB_Train_Real/dlib161.jpg', 'DLIB_Train_Real/dlib162.jpg', 'DLIB_Train_Real/dlib163.jpg', 'DLIB_Train_Real/dlib164.jpg', 'DLIB_Train_Real/dlib165.jpg', 'DLIB_Train_Real/dlib166.jpg', 'DLIB_Train_Real/dlib167.jpg', 'DLIB_Train_Real/dlib168.jpg', 'DLIB_Train_Real/dlib169.jpg', 'DLIB_Train_Real/dlib170.jpg', 'DLIB_Train_Real/dlib171.jpg', 'DLIB_Train_Real/dlib172.jpg', 'DLIB_Train_Real/dlib173.jpg', 'DLIB_Train_Real/dlib174.jpg', 'DLIB_Train_Real/dlib175.jpg', 'DLIB_Train_Real/dlib176.jpg', 'DLIB_Train_Real/dlib177.jpg', 'DLIB_Train_Real/dlib178.jpg', 'DLIB_Train_Real/dlib179.jpg', 'DLIB_Train_Real/dlib180.jpg', 'DLIB_Train_Real/dlib181.jpg', 'DLIB_Train_Real/dlib182.jpg', 'DLIB_Train_Real/dlib183.jpg', 'DLIB_Train_Real/dlib184.jpg', 'DLIB_Train_Real/dlib185.jpg', 'DLIB_Train_Real/dlib186.jpg', 'DLIB_Train_Real/dlib187.jpg', 'DLIB_Train_Real/dlib188.jpg', 'DLIB_Train_Real/dlib189.jpg', 'DLIB_Train_Real/dlib190.jpg', 'DLIB_Train_Real/dlib191.jpg', 'DLIB_Train_Real/dlib192.jpg', 'DLIB_Train_Real/dlib193.jpg', 'DLIB_Train_Real/dlib194.jpg', 'DLIB_Train_Real/dlib195.jpg', 'DLIB_Train_Real/dlib196.jpg', 'DLIB_Train_Real/dlib197.jpg', 'DLIB_Train_Real/dlib198.jpg', 'DLIB_Train_Real/dlib199.jpg', 'DLIB_Train_Real/dlib200.jpg', 'DLIB_Train_Real/dlib201.jpg', 'DLIB_Train_Real/dlib202.jpg', 'DLIB_Train_Real/dlib203.jpg', 'DLIB_Train_Real/dlib204.jpg', 'DLIB_Train_Real/dlib205.jpg', 'DLIB_Train_Real/dlib206.jpg', 'DLIB_Train_Real/dlib207.jpg', 'DLIB_Train_Real/dlib208.jpg', 'DLIB_Train_Real/dlib209.jpg', 'DLIB_Train_Real/dlib210.jpg', 'DLIB_Train_Real/dlib211.jpg', 'DLIB_Train_Real/dlib212.jpg', 'DLIB_Train_Real/dlib213.jpg', 'DLIB_Train_Real/dlib214.jpg', 'DLIB_Train_Real/dlib215.jpg', 'DLIB_Train_Real/dlib216.jpg', 'DLIB_Train_Real/dlib217.jpg', 'DLIB_Train_Real/dlib218.jpg', 'DLIB_Train_Real/dlib219.jpg', 'DLIB_Train_Real/dlib220.jpg', 'DLIB_Train_Real/dlib221.jpg', 'DLIB_Train_Real/dlib222.jpg', 'DLIB_Train_Real/dlib223.jpg', 'DLIB_Train_Real/dlib224.jpg', 'DLIB_Train_Real/dlib225.jpg', 'DLIB_Train_Real/dlib226.jpg', 'DLIB_Train_Real/dlib227.jpg', 'DLIB_Train_Real/dlib228.jpg', 'DLIB_Train_Real/dlib229.jpg', 'DLIB_Train_Real/dlib230.jpg', 'DLIB_Train_Real/dlib231.jpg', 'DLIB_Train_Real/dlib232.jpg', 'DLIB_Train_Real/dlib233.jpg', 'DLIB_Train_Real/dlib234.jpg', 'DLIB_Train_Real/dlib235.jpg', 'DLIB_Train_Real/dlib236.jpg', 'DLIB_Train_Real/dlib237.jpg', 'DLIB_Train_Real/dlib238.jpg', 'DLIB_Train_Real/dlib239.jpg', 'DLIB_Train_Real/dlib240.jpg', 'DLIB_Train_Real/dlib241.jpg', 'DLIB_Train_Real/dlib242.jpg', 'DLIB_Train_Real/dlib243.jpg', 'DLIB_Train_Real/dlib244.jpg', 'DLIB_Train_Real/dlib245.jpg', 'DLIB_Train_Real/dlib246.jpg', 'DLIB_Train_Real/dlib247.jpg', 'DLIB_Train_Real/dlib248.jpg', 'DLIB_Train_Real/dlib249.jpg', 'DLIB_Train_Real/dlib250.jpg', 'DLIB_Train_Real/dlib251.jpg', 'DLIB_Train_Real/dlib252.jpg', 'DLIB_Train_Real/dlib253.jpg', 'DLIB_Train_Real/dlib254.jpg', 'DLIB_Train_Real/dlib255.jpg', 'DLIB_Train_Real/dlib256.jpg', 'DLIB_Train_Real/dlib257.jpg', 'DLIB_Train_Real/dlib258.jpg', 'DLIB_Train_Real/dlib259.jpg', 'DLIB_Train_Real/dlib260.jpg', 'DLIB_Train_Real/dlib261.jpg', 'DLIB_Train_Real/dlib262.jpg', 'DLIB_Train_Real/dlib263.jpg', 'DLIB_Train_Real/dlib264.jpg', 'DLIB_Train_Real/dlib265.jpg', 'DLIB_Train_Real/dlib266.jpg', 'DLIB_Train_Real/dlib267.jpg', 'DLIB_Train_Real/dlib268.jpg', 'DLIB_Train_Real/dlib269.jpg', 'DLIB_Train_Real/dlib270.jpg', 'DLIB_Train_Real/dlib271.jpg', 'DLIB_Train_Real/dlib272.jpg', 'DLIB_Train_Real/dlib273.jpg', 'DLIB_Train_Real/dlib274.jpg', 'DLIB_Train_Real/dlib275.jpg', 'DLIB_Train_Real/dlib276.jpg', 'DLIB_Train_Real/dlib277.jpg', 'DLIB_Train_Real/dlib278.jpg', 'DLIB_Train_Real/dlib279.jpg', 'DLIB_Train_Real/dlib280.jpg', 'DLIB_Train_Real/dlib281.jpg', 'DLIB_Train_Real/dlib282.jpg', 'DLIB_Train_Real/dlib283.jpg', 'DLIB_Train_Real/dlib284.jpg', 'DLIB_Train_Real/dlib285.jpg', 'DLIB_Train_Real/dlib286.jpg', 'DLIB_Train_Real/dlib287.jpg', 'DLIB_Train_Real/dlib288.jpg', 'DLIB_Train_Real/dlib289.jpg', 'DLIB_Train_Real/dlib290.jpg', 'DLIB_Train_Real/dlib291.jpg', 'DLIB_Train_Real/dlib292.jpg', 'DLIB_Train_Real/dlib293.jpg', 'DLIB_Train_Real/dlib294.jpg', 'DLIB_Train_Real/dlib295.jpg', 'DLIB_Train_Real/dlib296.jpg', 'DLIB_Train_Real/dlib297.jpg', 'DLIB_Train_Real/dlib298.jpg', 'DLIB_Train_Real/dlib299.jpg', 'DLIB_Train_Real/dlib300.jpg', 'DLIB_Train_Real/dlib301.jpg', 'DLIB_Train_Real/dlib302.jpg', 'DLIB_Train_Real/dlib303.jpg', 'DLIB_Train_Real/dlib304.jpg', 'DLIB_Train_Real/dlib305.jpg', 'DLIB_Train_Real/dlib306.jpg', 'DLIB_Train_Real/dlib307.jpg', 'DLIB_Train_Real/dlib308.jpg', 'DLIB_Train_Real/dlib309.jpg', 'DLIB_Train_Real/dlib310.jpg', 'DLIB_Train_Real/dlib311.jpg', 'DLIB_Train_Real/dlib312.jpg', 'DLIB_Train_Real/dlib313.jpg', 'DLIB_Train_Real/dlib314.jpg', 'DLIB_Train_Real/dlib315.jpg', 'DLIB_Train_Real/dlib316.jpg', 'DLIB_Train_Real/dlib317.jpg', 'DLIB_Train_Real/dlib318.jpg', 'DLIB_Train_Real/dlib319.jpg', 'DLIB_Train_Real/dlib320.jpg', 'DLIB_Train_Real/dlib321.jpg', 'DLIB_Train_Real/dlib322.jpg', 'DLIB_Train_Real/dlib323.jpg', 'DLIB_Train_Real/dlib324.jpg', 'DLIB_Train_Real/dlib325.jpg', 'DLIB_Train_Real/dlib326.jpg', 'DLIB_Train_Real/dlib327.jpg', 'DLIB_Train_Real/dlib328.jpg', 'DLIB_Train_Real/dlib329.jpg', 'DLIB_Train_Real/dlib330.jpg', 'DLIB_Train_Real/dlib331.jpg', 'DLIB_Train_Real/dlib332.jpg', 'DLIB_Train_Real/dlib333.jpg', 'DLIB_Train_Real/dlib334.jpg', 'DLIB_Train_Real/dlib335.jpg', 'DLIB_Train_Real/dlib336.jpg', 'DLIB_Train_Real/dlib337.jpg', 'DLIB_Train_Real/dlib338.jpg', 'DLIB_Train_Real/dlib339.jpg', 'DLIB_Train_Real/dlib340.jpg', 'DLIB_Train_Real/dlib341.jpg', 'DLIB_Train_Real/dlib342.jpg', 'DLIB_Train_Real/dlib343.jpg', 'DLIB_Train_Real/dlib344.jpg', 'DLIB_Train_Real/dlib345.jpg', 'DLIB_Train_Real/dlib346.jpg', 'DLIB_Train_Real/dlib347.jpg', 'DLIB_Train_Real/dlib348.jpg', 'DLIB_Train_Real/dlib349.jpg', 'DLIB_Train_Real/dlib350.jpg', 'DLIB_Train_Real/dlib351.jpg', 'DLIB_Train_Real/dlib352.jpg', 'DLIB_Train_Real/dlib353.jpg', 'DLIB_Train_Real/dlib354.jpg', 'DLIB_Train_Real/dlib355.jpg', 'DLIB_Train_Real/dlib356.jpg', 'DLIB_Train_Real/dlib357.jpg', 'DLIB_Train_Real/dlib358.jpg', 'DLIB_Train_Real/dlib359.jpg', 'DLIB_Train_Real/dlib360.jpg', 'DLIB_Train_Real/dlib361.jpg', 'DLIB_Train_Real/dlib362.jpg', 'DLIB_Train_Real/dlib363.jpg', 'DLIB_Train_Real/dlib364.jpg', 'DLIB_Train_Real/dlib365.jpg', 'DLIB_Train_Real/dlib366.jpg', 'DLIB_Train_Real/dlib367.jpg', 'DLIB_Train_Real/dlib368.jpg', 'DLIB_Train_Real/dlib369.jpg', 'DLIB_Train_Real/dlib370.jpg', 'DLIB_Train_Real/dlib371.jpg', 'DLIB_Train_Real/dlib372.jpg', 'DLIB_Train_Real/dlib373.jpg', 'DLIB_Train_Real/dlib374.jpg', 'DLIB_Train_Real/dlib375.jpg', 'DLIB_Train_Real/dlib376.jpg', 'DLIB_Train_Real/dlib377.jpg', 'DLIB_Train_Real/dlib378.jpg', 'DLIB_Train_Real/dlib379.jpg', 'DLIB_Train_Real/dlib380.jpg', 'DLIB_Train_Real/dlib381.jpg', 'DLIB_Train_Real/dlib382.jpg', 'DLIB_Train_Real/dlib383.jpg', 'DLIB_Train_Real/dlib384.jpg', 'DLIB_Train_Real/dlib385.jpg', 'DLIB_Train_Real/dlib386.jpg', 'DLIB_Train_Real/dlib387.jpg', 'DLIB_Train_Real/dlib388.jpg', 'DLIB_Train_Real/dlib389.jpg', 'DLIB_Train_Real/dlib390.jpg', 'DLIB_Train_Real/dlib391.jpg', 'DLIB_Train_Real/dlib392.jpg', 'DLIB_Train_Real/dlib393.jpg', 'DLIB_Train_Real/dlib394.jpg', 'DLIB_Train_Real/dlib395.jpg', 'DLIB_Train_Real/dlib396.jpg', 'DLIB_Train_Real/dlib397.jpg', 'DLIB_Train_Real/dlib398.jpg', 'DLIB_Train_Real/dlib399.jpg', 'DLIB_Train_Real/dlib400.jpg', 'DLIB_Train_Real/dlib401.jpg', 'DLIB_Train_Real/dlib402.jpg', 'DLIB_Train_Real/dlib403.jpg', 'DLIB_Train_Real/dlib404.jpg', 'DLIB_Train_Real/dlib405.jpg', 'DLIB_Train_Real/dlib406.jpg', 'DLIB_Train_Real/dlib407.jpg', 'DLIB_Train_Real/dlib408.jpg', 'DLIB_Train_Real/dlib409.jpg', 'DLIB_Train_Real/dlib410.jpg', 'DLIB_Train_Real/dlib411.jpg', 'DLIB_Train_Real/dlib412.jpg', 'DLIB_Train_Real/dlib413.jpg', 'DLIB_Train_Real/dlib414.jpg', 'DLIB_Train_Real/dlib415.jpg', 'DLIB_Train_Real/dlib416.jpg', 'DLIB_Train_Real/dlib417.jpg', 'DLIB_Train_Real/dlib418.jpg', 'DLIB_Train_Real/dlib419.jpg', 'DLIB_Train_Real/dlib420.jpg', 'DLIB_Train_Real/dlib421.jpg', 'DLIB_Train_Real/dlib422.jpg', 'DLIB_Train_Real/dlib423.jpg', 'DLIB_Train_Real/dlib424.jpg', 'DLIB_Train_Real/dlib425.jpg', 'DLIB_Train_Real/dlib426.jpg', 'DLIB_Train_Real/dlib427.jpg', 'DLIB_Train_Real/dlib428.jpg', 'DLIB_Train_Real/dlib429.jpg', 'DLIB_Train_Real/dlib430.jpg', 'DLIB_Train_Real/dlib431.jpg', 'DLIB_Train_Real/dlib432.jpg', 'DLIB_Train_Real/dlib433.jpg', 'DLIB_Train_Real/dlib434.jpg', 'DLIB_Train_Real/dlib435.jpg', 'DLIB_Train_Real/dlib436.jpg', 'DLIB_Train_Real/dlib437.jpg', 'DLIB_Train_Real/dlib438.jpg', 'DLIB_Train_Real/dlib439.jpg', 'DLIB_Train_Real/dlib440.jpg', 'DLIB_Train_Real/dlib441.jpg', 'DLIB_Train_Real/dlib442.jpg', 'DLIB_Train_Real/dlib443.jpg', 'DLIB_Train_Real/dlib444.jpg', 'DLIB_Train_Real/dlib445.jpg', 'DLIB_Train_Real/dlib446.jpg', 'DLIB_Train_Real/dlib447.jpg', 'DLIB_Train_Real/dlib448.jpg', 'DLIB_Train_Real/dlib449.jpg', 'DLIB_Train_Real/dlib450.jpg', 'DLIB_Train_Real/dlib451.jpg', 'DLIB_Train_Real/dlib452.jpg', 'DLIB_Train_Real/dlib453.jpg', 'DLIB_Train_Real/dlib454.jpg', 'DLIB_Train_Real/dlib455.jpg', 'DLIB_Train_Real/dlib456.jpg', 'DLIB_Train_Real/dlib457.jpg', 'DLIB_Train_Real/dlib458.jpg', 'DLIB_Train_Real/dlib459.jpg', 'DLIB_Train_Real/dlib460.jpg', 'DLIB_Train_Real/dlib461.jpg', 'DLIB_Train_Real/dlib462.jpg', 'DLIB_Train_Real/dlib463.jpg', 'DLIB_Train_Real/dlib464.jpg', 'DLIB_Train_Real/dlib465.jpg', 'DLIB_Train_Real/dlib466.jpg', 'DLIB_Train_Real/dlib467.jpg', 'DLIB_Train_Real/dlib468.jpg', 'DLIB_Train_Real/dlib469.jpg', 'DLIB_Train_Real/dlib470.jpg', 'DLIB_Train_Real/dlib471.jpg', 'DLIB_Train_Real/dlib472.jpg', 'DLIB_Train_Real/dlib473.jpg', 'DLIB_Train_Real/dlib474.jpg', 'DLIB_Train_Real/dlib475.jpg', 'DLIB_Train_Real/dlib476.jpg', 'DLIB_Train_Real/dlib477.jpg', 'DLIB_Train_Real/dlib478.jpg', 'DLIB_Train_Real/dlib479.jpg', 'DLIB_Train_Real/dlib480.jpg', 'DLIB_Train_Real/dlib481.jpg', 'DLIB_Train_Real/dlib482.jpg', 'DLIB_Train_Real/dlib483.jpg', 'DLIB_Train_Real/dlib484.jpg', 'DLIB_Train_Real/dlib485.jpg', 'DLIB_Train_Real/dlib486.jpg', 'DLIB_Train_Real/dlib487.jpg', 'DLIB_Train_Real/dlib488.jpg', 'DLIB_Train_Real/dlib489.jpg', 'DLIB_Train_Real/dlib490.jpg', 'DLIB_Train_Real/dlib491.jpg', 'DLIB_Train_Real/dlib492.jpg', 'DLIB_Train_Real/dlib493.jpg', 'DLIB_Train_Real/dlib494.jpg', 'DLIB_Train_Real/dlib495.jpg', 'DLIB_Train_Real/dlib496.jpg', 'DLIB_Train_Real/dlib497.jpg', 'DLIB_Train_Real/dlib498.jpg', 'DLIB_Train_Real/dlib499.jpg', 'DLIB_Train_Real/dlib500.jpg', 'DLIB_Train_Real/dlib501.jpg', 'DLIB_Train_Real/dlib502.jpg', 'DLIB_Train_Real/dlib503.jpg', 'DLIB_Train_Real/dlib504.jpg', 'DLIB_Train_Real/dlib505.jpg', 'DLIB_Train_Real/dlib506.jpg', 'DLIB_Train_Real/dlib507.jpg', 'DLIB_Train_Real/dlib508.jpg', 'DLIB_Train_Real/dlib509.jpg', 'DLIB_Train_Real/dlib510.jpg', 'DLIB_Train_Real/dlib511.jpg', 'DLIB_Train_Real/dlib512.jpg', 'DLIB_Train_Real/dlib513.jpg', 'DLIB_Train_Real/dlib514.jpg', 'DLIB_Train_Real/dlib515.jpg', 'DLIB_Train_Real/dlib516.jpg', 'DLIB_Train_Real/dlib517.jpg', 'DLIB_Train_Real/dlib518.jpg', 'DLIB_Train_Real/dlib519.jpg', 'DLIB_Train_Real/dlib520.jpg', 'DLIB_Train_Real/dlib521.jpg', 'DLIB_Train_Real/dlib522.jpg', 'DLIB_Train_Real/dlib523.jpg', 'DLIB_Train_Real/dlib524.jpg', 'DLIB_Train_Real/dlib525.jpg', 'DLIB_Train_Real/dlib526.jpg', 'DLIB_Train_Real/dlib527.jpg', 'DLIB_Train_Real/dlib528.jpg', 'DLIB_Train_Real/dlib529.jpg', 'DLIB_Train_Real/dlib530.jpg', 'DLIB_Train_Real/dlib531.jpg', 'DLIB_Train_Real/dlib532.jpg', 'DLIB_Train_Real/dlib533.jpg', 'DLIB_Train_Real/dlib534.jpg', 'DLIB_Train_Real/dlib535.jpg', 'DLIB_Train_Real/dlib536.jpg', 'DLIB_Train_Real/dlib537.jpg', 'DLIB_Train_Real/dlib538.jpg', 'DLIB_Train_Real/dlib539.jpg', 'DLIB_Train_Real/dlib540.jpg', 'DLIB_Train_Real/dlib541.jpg', 'DLIB_Train_Real/dlib542.jpg', 'DLIB_Train_Real/dlib543.jpg', 'DLIB_Train_Real/dlib544.jpg', 'DLIB_Train_Real/dlib545.jpg', 'DLIB_Train_Real/dlib546.jpg', 'DLIB_Train_Real/dlib547.jpg', 'DLIB_Train_Real/dlib548.jpg', 'DLIB_Train_Real/dlib549.jpg', 'DLIB_Train_Real/dlib550.jpg', 'DLIB_Train_Real/dlib551.jpg', 'DLIB_Train_Real/dlib552.jpg', 'DLIB_Train_Real/dlib553.jpg', 'DLIB_Train_Real/dlib554.jpg', 'DLIB_Train_Real/dlib555.jpg', 'DLIB_Train_Real/dlib556.jpg', 'DLIB_Train_Real/dlib557.jpg', 'DLIB_Train_Real/dlib558.jpg', 'DLIB_Train_Real/dlib559.jpg', 'DLIB_Train_Real/dlib560.jpg', 'DLIB_Train_Real/dlib561.jpg', 'DLIB_Train_Real/dlib562.jpg', 'DLIB_Train_Real/dlib563.jpg', 'DLIB_Train_Real/dlib564.jpg', 'DLIB_Train_Real/dlib565.jpg', 'DLIB_Train_Real/dlib566.jpg', 'DLIB_Train_Real/dlib567.jpg', 'DLIB_Train_Real/dlib568.jpg', 'DLIB_Train_Real/dlib569.jpg', 'DLIB_Train_Real/dlib570.jpg', 'DLIB_Train_Real/dlib571.jpg', 'DLIB_Train_Real/dlib572.jpg', 'DLIB_Train_Real/dlib573.jpg', 'DLIB_Train_Real/dlib574.jpg', 'DLIB_Train_Real/dlib575.jpg', 'DLIB_Train_Real/dlib576.jpg', 'DLIB_Train_Real/dlib577.jpg', 'DLIB_Train_Real/dlib578.jpg', 'DLIB_Train_Real/dlib579.jpg', 'DLIB_Train_Real/dlib580.jpg', 'DLIB_Train_Real/dlib581.jpg', 'DLIB_Train_Real/dlib582.jpg', 'DLIB_Train_Real/dlib583.jpg', 'DLIB_Train_Real/dlib584.jpg', 'DLIB_Train_Real/dlib585.jpg', 'DLIB_Train_Real/dlib586.jpg', 'DLIB_Train_Real/dlib587.jpg', 'DLIB_Train_Real/dlib588.jpg', 'DLIB_Train_Real/dlib589.jpg', 'DLIB_Train_Real/dlib590.jpg', 'DLIB_Train_Real/dlib591.jpg', 'DLIB_Train_Real/dlib592.jpg', 'DLIB_Train_Real/dlib593.jpg', 'DLIB_Train_Real/dlib594.jpg', 'DLIB_Train_Real/dlib595.jpg', 'DLIB_Train_Real/dlib596.jpg', 'DLIB_Train_Real/dlib597.jpg', 'DLIB_Train_Real/dlib598.jpg', 'DLIB_Train_Real/dlib599.jpg', 'DLIB_Train_Real/dlib600.jpg', 'DLIB_Train_Real/dlib601.jpg', 'DLIB_Train_Real/dlib602.jpg', 'DLIB_Train_Real/dlib603.jpg', 'DLIB_Train_Real/dlib604.jpg', 'DLIB_Train_Real/dlib605.jpg', 'DLIB_Train_Real/dlib606.jpg', 'DLIB_Train_Real/dlib607.jpg', 'DLIB_Train_Real/dlib608.jpg', 'DLIB_Train_Real/dlib609.jpg', 'DLIB_Train_Real/dlib610.jpg', 'DLIB_Train_Real/dlib611.jpg', 'DLIB_Train_Real/dlib612.jpg', 'DLIB_Train_Real/dlib613.jpg', 'DLIB_Train_Real/dlib614.jpg', 'DLIB_Train_Real/dlib615.jpg', 'DLIB_Train_Real/dlib616.jpg', 'DLIB_Train_Real/dlib617.jpg', 'DLIB_Train_Real/dlib618.jpg', 'DLIB_Train_Real/dlib619.jpg', 'DLIB_Train_Real/dlib620.jpg', 'DLIB_Train_Real/dlib621.jpg', 'DLIB_Train_Real/dlib622.jpg', 'DLIB_Train_Real/dlib623.jpg', 'DLIB_Train_Real/dlib624.jpg', 'DLIB_Train_Real/dlib625.jpg', 'DLIB_Train_Real/dlib626.jpg', 'DLIB_Train_Real/dlib627.jpg', 'DLIB_Train_Real/dlib628.jpg', 'DLIB_Train_Real/dlib629.jpg', 'DLIB_Train_Real/dlib630.jpg', 'DLIB_Train_Real/dlib631.jpg', 'DLIB_Train_Real/dlib632.jpg', 'DLIB_Train_Real/dlib633.jpg', 'DLIB_Train_Real/dlib634.jpg', 'DLIB_Train_Real/dlib635.jpg', 'DLIB_Train_Real/dlib636.jpg', 'DLIB_Train_Real/dlib637.jpg', 'DLIB_Train_Real/dlib638.jpg', 'DLIB_Train_Real/dlib639.jpg', 'DLIB_Train_Real/dlib640.jpg', 'DLIB_Train_Real/dlib641.jpg', 'DLIB_Train_Real/dlib642.jpg', 'DLIB_Train_Real/dlib643.jpg', 'DLIB_Train_Real/dlib644.jpg', 'DLIB_Train_Real/dlib645.jpg', 'DLIB_Train_Real/dlib646.jpg', 'DLIB_Train_Real/dlib647.jpg', 'DLIB_Train_Real/dlib648.jpg', 'DLIB_Train_Real/dlib649.jpg', 'DLIB_Train_Real/dlib650.jpg', 'DLIB_Train_Real/dlib651.jpg', 'DLIB_Train_Real/dlib652.jpg', 'DLIB_Train_Real/dlib653.jpg', 'DLIB_Train_Real/dlib654.jpg', 'DLIB_Train_Real/dlib655.jpg', 'DLIB_Train_Real/dlib656.jpg', 'DLIB_Train_Real/dlib657.jpg', 'DLIB_Train_Real/dlib658.jpg', 'DLIB_Train_Real/dlib659.jpg', 'DLIB_Train_Real/dlib660.jpg', 'DLIB_Train_Real/dlib661.jpg', 'DLIB_Train_Real/dlib662.jpg', 'DLIB_Train_Real/dlib663.jpg', 'DLIB_Train_Real/dlib664.jpg', 'DLIB_Train_Real/dlib665.jpg', 'DLIB_Train_Real/dlib666.jpg', 'DLIB_Train_Real/dlib667.jpg', 'DLIB_Train_Real/dlib668.jpg', 'DLIB_Train_Real/dlib669.jpg', 'DLIB_Train_Real/dlib670.jpg', 'DLIB_Train_Real/dlib671.jpg', 'DLIB_Train_Real/dlib672.jpg', 'DLIB_Train_Real/dlib673.jpg', 'DLIB_Train_Real/dlib674.jpg', 'DLIB_Train_Real/dlib675.jpg', 'DLIB_Train_Real/dlib676.jpg', 'DLIB_Train_Real/dlib677.jpg', 'DLIB_Train_Real/dlib678.jpg', 'DLIB_Train_Real/dlib679.jpg', 'DLIB_Train_Real/dlib680.jpg', 'DLIB_Train_Real/dlib681.jpg', 'DLIB_Train_Real/dlib682.jpg', 'DLIB_Train_Real/dlib683.jpg', 'DLIB_Train_Real/dlib684.jpg', 'DLIB_Train_Real/dlib685.jpg', 'DLIB_Train_Real/dlib686.jpg', 'DLIB_Train_Real/dlib687.jpg', 'DLIB_Train_Real/dlib688.jpg', 'DLIB_Train_Real/dlib689.jpg', 'DLIB_Train_Real/dlib690.jpg', 'DLIB_Train_Real/dlib691.jpg', 'DLIB_Train_Real/dlib692.jpg', 'DLIB_Train_Real/dlib693.jpg', 'DLIB_Train_Real/dlib694.jpg', 'DLIB_Train_Real/dlib695.jpg', 'DLIB_Train_Real/dlib696.jpg', 'DLIB_Train_Real/dlib697.jpg', 'DLIB_Train_Real/dlib698.jpg', 'DLIB_Train_Real/dlib699.jpg', 'DLIB_Train_Real/dlib700.jpg', 'DLIB_Train_Real/dlib701.jpg', 'DLIB_Train_Real/dlib702.jpg', 'DLIB_Train_Real/dlib703.jpg', 'DLIB_Train_Real/dlib704.jpg', 'DLIB_Train_Real/dlib705.jpg', 'DLIB_Train_Real/dlib706.jpg', 'DLIB_Train_Real/dlib707.jpg', 'DLIB_Train_Real/dlib708.jpg', 'DLIB_Train_Real/dlib709.jpg', 'DLIB_Train_Real/dlib710.jpg', 'DLIB_Train_Real/dlib711.jpg', 'DLIB_Train_Real/dlib712.jpg', 'DLIB_Train_Real/dlib713.jpg', 'DLIB_Train_Real/dlib714.jpg', 'DLIB_Train_Real/dlib715.jpg', 'DLIB_Train_Real/dlib716.jpg', 'DLIB_Train_Real/dlib717.jpg', 'DLIB_Train_Real/dlib718.jpg', 'DLIB_Train_Real/dlib719.jpg', 'DLIB_Train_Real/dlib720.jpg', 'DLIB_Train_Real/dlib721.jpg', 'DLIB_Train_Real/dlib722.jpg', 'DLIB_Train_Real/dlib723.jpg', 'DLIB_Train_Real/dlib724.jpg', 'DLIB_Train_Real/dlib725.jpg', 'DLIB_Train_Real/dlib726.jpg', 'DLIB_Train_Real/dlib727.jpg', 'DLIB_Train_Real/dlib728.jpg', 'DLIB_Train_Real/dlib729.jpg', 'DLIB_Train_Real/dlib730.jpg', 'DLIB_Train_Real/dlib731.jpg', 'DLIB_Train_Real/dlib732.jpg', 'DLIB_Train_Real/dlib733.jpg', 'DLIB_Train_Real/dlib734.jpg', 'DLIB_Train_Real/dlib735.jpg', 'DLIB_Train_Real/dlib736.jpg', 'DLIB_Train_Real/dlib737.jpg', 'DLIB_Train_Real/dlib738.jpg', 'DLIB_Train_Real/dlib739.jpg', 'DLIB_Train_Real/dlib740.jpg', 'DLIB_Train_Real/dlib741.jpg', 'DLIB_Train_Real/dlib742.jpg', 'DLIB_Train_Real/dlib743.jpg', 'DLIB_Train_Real/dlib744.jpg', 'DLIB_Train_Real/dlib745.jpg', 'DLIB_Train_Real/dlib746.jpg', 'DLIB_Train_Real/dlib747.jpg', 'DLIB_Train_Real/dlib748.jpg', 'DLIB_Train_Real/dlib749.jpg', 'DLIB_Train_Real/dlib750.jpg', 'DLIB_Train_Real/dlib751.jpg', 'DLIB_Train_Real/dlib752.jpg', 'DLIB_Train_Real/dlib753.jpg', 'DLIB_Train_Real/dlib754.jpg', 'DLIB_Train_Real/dlib755.jpg', 'DLIB_Train_Real/dlib756.jpg', 'DLIB_Train_Real/dlib757.jpg', 'DLIB_Train_Real/dlib758.jpg', 'DLIB_Train_Real/dlib759.jpg', 'DLIB_Train_Real/dlib760.jpg', 'DLIB_Train_Real/dlib761.jpg', 'DLIB_Train_Real/dlib762.jpg', 'DLIB_Train_Real/dlib763.jpg', 'DLIB_Train_Real/dlib764.jpg', 'DLIB_Train_Real/dlib765.jpg', 'DLIB_Train_Real/dlib766.jpg', 'DLIB_Train_Real/dlib767.jpg', 'DLIB_Train_Real/dlib768.jpg', 'DLIB_Train_Real/dlib769.jpg', 'DLIB_Train_Real/dlib770.jpg', 'DLIB_Train_Real/dlib771.jpg', 'DLIB_Train_Real/dlib772.jpg', 'DLIB_Train_Real/dlib773.jpg', 'DLIB_Train_Real/dlib774.jpg', 'DLIB_Train_Real/dlib775.jpg', 'DLIB_Train_Real/dlib776.jpg', 'DLIB_Train_Real/dlib777.jpg', 'DLIB_Train_Real/dlib778.jpg', 'DLIB_Train_Real/dlib779.jpg', 'DLIB_Train_Real/dlib780.jpg', 'DLIB_Train_Real/dlib781.jpg', 'DLIB_Train_Real/dlib782.jpg', 'DLIB_Train_Real/dlib783.jpg', 'DLIB_Train_Real/dlib784.jpg', 'DLIB_Train_Real/dlib785.jpg', 'DLIB_Train_Real/dlib786.jpg', 'DLIB_Train_Real/dlib787.jpg', 'DLIB_Train_Real/dlib788.jpg', 'DLIB_Train_Real/dlib789.jpg', 'DLIB_Train_Real/dlib790.jpg', 'DLIB_Train_Real/dlib791.jpg', 'DLIB_Train_Real/dlib792.jpg', 'DLIB_Train_Real/dlib793.jpg', 'DLIB_Train_Real/dlib794.jpg', 'DLIB_Train_Real/dlib795.jpg', 'DLIB_Train_Real/dlib796.jpg', 'DLIB_Train_Real/dlib797.jpg', 'DLIB_Train_Real/dlib798.jpg', 'DLIB_Train_Real/dlib799.jpg', 'DLIB_Train_Real/dlib800.jpg', 'DLIB_Train_Real/dlib801.jpg', 'DLIB_Train_Real/dlib802.jpg', 'DLIB_Train_Real/dlib803.jpg', 'DLIB_Train_Real/dlib804.jpg', 'DLIB_Train_Real/dlib805.jpg', 'DLIB_Train_Real/dlib806.jpg', 'DLIB_Train_Real/dlib807.jpg', 'DLIB_Train_Real/dlib808.jpg', 'DLIB_Train_Real/dlib809.jpg', 'DLIB_Train_Real/dlib810.jpg', 'DLIB_Train_Real/dlib811.jpg', 'DLIB_Train_Real/dlib812.jpg', 'DLIB_Train_Real/dlib813.jpg', 'DLIB_Train_Real/dlib814.jpg', 'DLIB_Train_Real/dlib815.jpg', 'DLIB_Train_Real/dlib816.jpg', 'DLIB_Train_Real/dlib817.jpg', 'DLIB_Train_Real/dlib818.jpg', 'DLIB_Train_Real/dlib819.jpg', 'DLIB_Train_Real/dlib820.jpg', 'DLIB_Train_Real/dlib821.jpg', 'DLIB_Train_Real/dlib822.jpg', 'DLIB_Train_Real/dlib823.jpg', 'DLIB_Train_Real/dlib824.jpg', 'DLIB_Train_Real/dlib825.jpg', 'DLIB_Train_Real/dlib826.jpg', 'DLIB_Train_Real/dlib827.jpg', 'DLIB_Train_Real/dlib828.jpg', 'DLIB_Train_Real/dlib829.jpg', 'DLIB_Train_Real/dlib830.jpg', 'DLIB_Train_Real/dlib831.jpg', 'DLIB_Train_Real/dlib832.jpg', 'DLIB_Train_Real/dlib833.jpg', 'DLIB_Train_Real/dlib834.jpg', 'DLIB_Train_Real/dlib835.jpg', 'DLIB_Train_Real/dlib836.jpg', 'DLIB_Train_Real/dlib837.jpg', 'DLIB_Train_Real/dlib838.jpg', 'DLIB_Train_Real/dlib839.jpg', 'DLIB_Train_Real/dlib840.jpg', 'DLIB_Train_Real/dlib841.jpg', 'DLIB_Train_Real/dlib842.jpg', 'DLIB_Train_Real/dlib843.jpg', 'DLIB_Train_Real/dlib844.jpg', 'DLIB_Train_Real/dlib845.jpg', 'DLIB_Train_Real/dlib846.jpg', 'DLIB_Train_Real/dlib847.jpg', 'DLIB_Train_Real/dlib848.jpg', 'DLIB_Train_Real/dlib849.jpg', 'DLIB_Train_Real/dlib850.jpg', 'DLIB_Train_Real/dlib851.jpg', 'DLIB_Train_Real/dlib852.jpg', 'DLIB_Train_Real/dlib853.jpg', 'DLIB_Train_Real/dlib854.jpg', 'DLIB_Train_Real/dlib855.jpg', 'DLIB_Train_Real/dlib856.jpg', 'DLIB_Train_Real/dlib857.jpg', 'DLIB_Train_Real/dlib858.jpg', 'DLIB_Train_Real/dlib859.jpg', 'DLIB_Train_Real/dlib860.jpg', 'DLIB_Train_Real/dlib861.jpg', 'DLIB_Train_Real/dlib862.jpg', 'DLIB_Train_Real/dlib863.jpg', 'DLIB_Train_Real/dlib864.jpg', 'DLIB_Train_Real/dlib865.jpg', 'DLIB_Train_Real/dlib866.jpg', 'DLIB_Train_Real/dlib867.jpg', 'DLIB_Train_Real/dlib868.jpg', 'DLIB_Train_Real/dlib869.jpg', 'DLIB_Train_Real/dlib870.jpg', 'DLIB_Train_Real/dlib871.jpg', 'DLIB_Train_Real/dlib872.jpg', 'DLIB_Train_Real/dlib873.jpg', 'DLIB_Train_Real/dlib874.jpg', 'DLIB_Train_Real/dlib875.jpg', 'DLIB_Train_Real/dlib876.jpg', 'DLIB_Train_Real/dlib877.jpg', 'DLIB_Train_Real/dlib878.jpg', 'DLIB_Train_Real/dlib879.jpg', 'DLIB_Train_Real/dlib880.jpg', 'DLIB_Train_Real/dlib881.jpg', 'DLIB_Train_Real/dlib882.jpg', 'DLIB_Train_Real/dlib883.jpg', 'DLIB_Train_Real/dlib884.jpg', 'DLIB_Train_Real/dlib885.jpg', 'DLIB_Train_Real/dlib886.jpg', 'DLIB_Train_Real/dlib887.jpg', 'DLIB_Train_Real/dlib888.jpg', 'DLIB_Train_Real/dlib889.jpg', 'DLIB_Train_Real/dlib890.jpg', 'DLIB_Train_Real/dlib891.jpg', 'DLIB_Train_Real/dlib892.jpg', 'DLIB_Train_Real/dlib893.jpg', 'DLIB_Train_Real/dlib894.jpg', 'DLIB_Train_Real/dlib895.jpg', 'DLIB_Train_Real/dlib896.jpg', 'DLIB_Train_Real/dlib897.jpg', 'DLIB_Train_Real/dlib898.jpg', 'DLIB_Train_Real/dlib899.jpg', 'DLIB_Train_Real/dlib900.jpg', 'DLIB_Train_Real/dlib901.jpg', 'DLIB_Train_Real/dlib902.jpg', 'DLIB_Train_Real/dlib903.jpg', 'DLIB_Train_Real/dlib904.jpg', 'DLIB_Train_Real/dlib905.jpg', 'DLIB_Train_Real/dlib906.jpg', 'DLIB_Train_Real/dlib907.jpg', 'DLIB_Train_Real/dlib908.jpg', 'DLIB_Train_Real/dlib909.jpg', 'DLIB_Train_Real/dlib910.jpg', 'DLIB_Train_Real/dlib911.jpg', 'DLIB_Train_Real/dlib912.jpg', 'DLIB_Train_Real/dlib913.jpg', 'DLIB_Train_Real/dlib914.jpg', 'DLIB_Train_Real/dlib915.jpg', 'DLIB_Train_Real/dlib916.jpg', 'DLIB_Train_Real/dlib917.jpg', 'DLIB_Train_Real/dlib918.jpg', 'DLIB_Train_Real/dlib919.jpg', 'DLIB_Train_Real/dlib920.jpg', 'DLIB_Train_Real/dlib921.jpg', 'DLIB_Train_Real/dlib922.jpg', 'DLIB_Train_Real/dlib923.jpg', 'DLIB_Train_Real/dlib924.jpg', 'DLIB_Train_Real/dlib925.jpg', 'DLIB_Train_Real/dlib926.jpg', 'DLIB_Train_Real/dlib927.jpg', 'DLIB_Train_Real/dlib928.jpg', 'DLIB_Train_Real/dlib929.jpg', 'DLIB_Train_Real/dlib930.jpg', 'DLIB_Train_Real/dlib931.jpg', 'DLIB_Train_Real/dlib932.jpg', 'DLIB_Train_Real/dlib933.jpg', 'DLIB_Train_Real/dlib934.jpg', 'DLIB_Train_Real/dlib935.jpg', 'DLIB_Train_Real/dlib936.jpg', 'DLIB_Train_Real/dlib937.jpg', 'DLIB_Train_Real/dlib938.jpg', 'DLIB_Train_Real/dlib939.jpg', 'DLIB_Train_Real/dlib940.jpg', 'DLIB_Train_Real/dlib941.jpg', 'DLIB_Train_Real/dlib942.jpg', 'DLIB_Train_Real/dlib943.jpg', 'DLIB_Train_Real/dlib944.jpg', 'DLIB_Train_Real/dlib945.jpg', 'DLIB_Train_Real/dlib946.jpg', 'DLIB_Train_Real/dlib947.jpg', 'DLIB_Train_Real/dlib948.jpg', 'DLIB_Train_Real/dlib949.jpg', 'DLIB_Train_Real/dlib950.jpg', 'DLIB_Train_Real/dlib951.jpg', 'DLIB_Train_Real/dlib952.jpg', 'DLIB_Train_Real/dlib953.jpg', 'DLIB_Train_Real/dlib954.jpg', 'DLIB_Train_Real/dlib955.jpg', 'DLIB_Train_Real/dlib956.jpg', 'DLIB_Train_Real/dlib957.jpg', 'DLIB_Train_Real/dlib958.jpg', 'DLIB_Train_Real/dlib959.jpg', 'DLIB_Train_Real/dlib960.jpg', 'DLIB_Train_Real/dlib961.jpg', 'DLIB_Train_Real/dlib962.jpg', 'DLIB_Train_Real/dlib963.jpg', 'DLIB_Train_Real/dlib964.jpg', 'DLIB_Train_Real/dlib965.jpg', 'DLIB_Train_Real/dlib966.jpg', 'DLIB_Train_Real/dlib967.jpg', 'DLIB_Train_Real/dlib968.jpg', 'DLIB_Train_Real/dlib969.jpg', 'DLIB_Train_Real/dlib970.jpg', 'DLIB_Train_Real/dlib971.jpg', 'DLIB_Train_Real/dlib972.jpg', 'DLIB_Train_Real/dlib973.jpg', 'DLIB_Train_Real/dlib974.jpg', 'DLIB_Train_Real/dlib975.jpg', 'DLIB_Train_Real/dlib976.jpg', 'DLIB_Train_Real/dlib977.jpg', 'DLIB_Train_Real/dlib978.jpg', 'DLIB_Train_Real/dlib979.jpg', 'DLIB_Train_Real/dlib980.jpg', 'DLIB_Train_Real/dlib981.jpg', 'DLIB_Train_Real/dlib982.jpg', 'DLIB_Train_Real/dlib983.jpg', 'DLIB_Train_Real/dlib984.jpg', 'DLIB_Train_Real/dlib985.jpg', 'DLIB_Train_Real/dlib986.jpg', 'DLIB_Train_Real/dlib987.jpg', 'DLIB_Train_Real/dlib988.jpg', 'DLIB_Train_Real/dlib989.jpg', 'DLIB_Train_Real/dlib990.jpg', 'DLIB_Train_Real/dlib991.jpg', 'DLIB_Train_Real/dlib992.jpg', 'DLIB_Train_Real/dlib993.jpg', 'DLIB_Train_Real/dlib994.jpg', 'DLIB_Train_Real/dlib995.jpg', 'DLIB_Train_Real/dlib996.jpg', 'DLIB_Train_Real/dlib997.jpg', 'DLIB_Train_Real/dlib998.jpg', 'DLIB_Train_Real/dlib999.jpg', 'DLIB_Train_Real/dlib1000.jpg', 'DLIB_Train_Real/dlib1001.jpg', 'DLIB_Train_Real/dlib1002.jpg', 'DLIB_Train_Real/dlib1003.jpg', 'DLIB_Train_Real/dlib1004.jpg', 'DLIB_Train_Real/dlib1005.jpg', 'DLIB_Train_Real/dlib1006.jpg', 'DLIB_Train_Real/dlib1007.jpg', 'DLIB_Train_Real/dlib1008.jpg', 'DLIB_Train_Real/dlib1009.jpg', 'DLIB_Train_Real/dlib1010.jpg', 'DLIB_Train_Real/dlib1011.jpg', 'DLIB_Train_Real/dlib1012.jpg', 'DLIB_Train_Real/dlib1013.jpg', 'DLIB_Train_Real/dlib1014.jpg', 'DLIB_Train_Real/dlib1015.jpg', 'DLIB_Train_Real/dlib1016.jpg', 'DLIB_Train_Real/dlib1017.jpg', 'DLIB_Train_Real/dlib1018.jpg', 'DLIB_Train_Real/dlib1019.jpg', 'DLIB_Train_Real/dlib1020.jpg', 'DLIB_Train_Real/dlib1021.jpg', 'DLIB_Train_Real/dlib1022.jpg', 'DLIB_Train_Real/dlib1023.jpg', 'DLIB_Train_Real/dlib1024.jpg', 'DLIB_Train_Real/dlib1025.jpg', 'DLIB_Train_Real/dlib1026.jpg', 'DLIB_Train_Real/dlib1027.jpg', 'DLIB_Train_Real/dlib1028.jpg', 'DLIB_Train_Real/dlib1029.jpg', 'DLIB_Train_Real/dlib1030.jpg', 'DLIB_Train_Real/dlib1031.jpg', 'DLIB_Train_Real/dlib1032.jpg', 'DLIB_Train_Real/dlib1033.jpg', 'DLIB_Train_Real/dlib1034.jpg', 'DLIB_Train_Real/dlib1035.jpg', 'DLIB_Train_Real/dlib1036.jpg', 'DLIB_Train_Real/dlib1037.jpg', 'DLIB_Train_Real/dlib1038.jpg', 'DLIB_Train_Real/dlib1039.jpg', 'DLIB_Train_Real/dlib1040.jpg', 'DLIB_Train_Real/dlib1041.jpg', 'DLIB_Train_Real/dlib1042.jpg', 'DLIB_Train_Real/dlib1043.jpg', 'DLIB_Train_Real/dlib1044.jpg', 'DLIB_Train_Real/dlib1045.jpg', 'DLIB_Train_Real/dlib1046.jpg', 'DLIB_Train_Real/dlib1047.jpg', 'DLIB_Train_Real/dlib1048.jpg', 'DLIB_Train_Real/dlib1049.jpg', 'DLIB_Train_Real/dlib1050.jpg', 'DLIB_Train_Real/dlib1051.jpg', 'DLIB_Train_Real/dlib1052.jpg', 'DLIB_Train_Real/dlib1053.jpg', 'DLIB_Train_Real/dlib1054.jpg', 'DLIB_Train_Real/dlib1055.jpg', 'DLIB_Train_Real/dlib1056.jpg', 'DLIB_Train_Real/dlib1057.jpg', 'DLIB_Train_Real/dlib1058.jpg', 'DLIB_Train_Real/dlib1059.jpg', 'DLIB_Train_Real/dlib1060.jpg', 'DLIB_Train_Real/dlib1061.jpg', 'DLIB_Train_Real/dlib1062.jpg', 'DLIB_Train_Real/dlib1063.jpg', 'DLIB_Train_Real/dlib1064.jpg', 'DLIB_Train_Real/dlib1065.jpg', 'DLIB_Train_Real/dlib1066.jpg', 'DLIB_Train_Real/dlib1067.jpg', 'DLIB_Train_Real/dlib1068.jpg', 'DLIB_Train_Real/dlib1069.jpg', 'DLIB_Train_Real/dlib1070.jpg', 'DLIB_Train_Real/dlib1071.jpg', 'DLIB_Train_Real/dlib1072.jpg', 'DLIB_Train_Real/dlib1073.jpg', 'DLIB_Train_Real/dlib1074.jpg', 'DLIB_Train_Real/dlib1075.jpg', 'DLIB_Train_Real/dlib1076.jpg', 'DLIB_Train_Real/dlib1077.jpg', 'DLIB_Train_Real/dlib1078.jpg', 'DLIB_Train_Real/dlib1079.jpg', 'DLIB_Train_Real/dlib1080.jpg', 'DLIB_Train_Real/dlib1081.jpg', 'DLIB_Train_Real/dlib1082.jpg', 'DLIB_Train_Real/dlib1083.jpg', 'DLIB_Train_Real/dlib1084.jpg', 'DLIB_Train_Real/dlib1085.jpg', 'DLIB_Train_Real/dlib1086.jpg', 'DLIB_Train_Real/dlib1087.jpg', 'DLIB_Train_Real/dlib1088.jpg', 'DLIB_Train_Real/dlib1089.jpg', 'DLIB_Train_Real/dlib1090.jpg', 'DLIB_Train_Real/dlib1091.jpg', 'DLIB_Train_Real/dlib1092.jpg', 'DLIB_Train_Real/dlib1093.jpg', 'DLIB_Train_Real/dlib1094.jpg', 'DLIB_Train_Real/dlib1095.jpg', 'DLIB_Train_Real/dlib1096.jpg', 'DLIB_Train_Real/dlib1097.jpg', 'DLIB_Train_Real/dlib1098.jpg', 'DLIB_Train_Real/dlib1099.jpg', 'DLIB_Train_Real/dlib1100.jpg', 'DLIB_Train_Real/dlib1101.jpg', 'DLIB_Train_Real/dlib1102.jpg', 'DLIB_Train_Real/dlib1103.jpg', 'DLIB_Train_Real/dlib1104.jpg', 'DLIB_Train_Real/dlib1105.jpg', 'DLIB_Train_Real/dlib1106.jpg', 'DLIB_Train_Real/dlib1107.jpg', 'DLIB_Train_Real/dlib1108.jpg', 'DLIB_Train_Real/dlib1109.jpg', 'DLIB_Train_Real/dlib1110.jpg', 'DLIB_Train_Real/dlib1111.jpg', 'DLIB_Train_Real/dlib1112.jpg', 'DLIB_Train_Real/dlib1113.jpg', 'DLIB_Train_Real/dlib1114.jpg', 'DLIB_Train_Real/dlib1115.jpg', 'DLIB_Train_Real/dlib1116.jpg', 'DLIB_Train_Real/dlib1117.jpg', 'DLIB_Train_Real/dlib1118.jpg', 'DLIB_Train_Real/dlib1119.jpg', 'DLIB_Train_Real/dlib1120.jpg', 'DLIB_Train_Real/dlib1121.jpg', 'DLIB_Train_Real/dlib1122.jpg', 'DLIB_Train_Real/dlib1123.jpg', 'DLIB_Train_Real/dlib1124.jpg', 'DLIB_Train_Real/dlib1125.jpg', 'DLIB_Train_Real/dlib1126.jpg', 'DLIB_Train_Real/dlib1127.jpg', 'DLIB_Train_Real/dlib1128.jpg', 'DLIB_Train_Real/dlib1129.jpg', 'DLIB_Train_Real/dlib1130.jpg', 'DLIB_Train_Real/dlib1131.jpg', 'DLIB_Train_Real/dlib1132.jpg', 'DLIB_Train_Real/dlib1133.jpg', 'DLIB_Train_Real/dlib1134.jpg', 'DLIB_Train_Real/dlib1135.jpg', 'DLIB_Train_Real/dlib1136.jpg', 'DLIB_Train_Real/dlib1137.jpg', 'DLIB_Train_Real/dlib1138.jpg', 'DLIB_Train_Real/dlib1139.jpg', 'DLIB_Train_Real/dlib1140.jpg', 'DLIB_Train_Real/dlib1141.jpg', 'DLIB_Train_Real/dlib1142.jpg', 'DLIB_Train_Real/dlib1143.jpg', 'DLIB_Train_Real/dlib1144.jpg', 'DLIB_Train_Real/dlib1145.jpg', 'DLIB_Train_Real/dlib1146.jpg', 'DLIB_Train_Real/dlib1147.jpg', 'DLIB_Train_Real/dlib1148.jpg', 'DLIB_Train_Real/dlib1149.jpg', 'DLIB_Train_Real/dlib1150.jpg', 'DLIB_Train_Real/dlib1151.jpg', 'DLIB_Train_Real/dlib1152.jpg', 'DLIB_Train_Real/dlib1153.jpg', 'DLIB_Train_Real/dlib1154.jpg', 'DLIB_Train_Real/dlib1155.jpg', 'DLIB_Train_Real/dlib1156.jpg', 'DLIB_Train_Real/dlib1157.jpg', 'DLIB_Train_Real/dlib1158.jpg', 'DLIB_Train_Real/dlib1159.jpg', 'DLIB_Train_Real/dlib1160.jpg', 'DLIB_Train_Real/dlib1161.jpg', 'DLIB_Train_Real/dlib1162.jpg', 'DLIB_Train_Real/dlib1163.jpg', 'DLIB_Train_Real/dlib1164.jpg', 'DLIB_Train_Real/dlib1165.jpg', 'DLIB_Train_Real/dlib1166.jpg', 'DLIB_Train_Real/dlib1167.jpg', 'DLIB_Train_Real/dlib1168.jpg', 'DLIB_Train_Real/dlib1169.jpg', 'DLIB_Train_Real/dlib1170.jpg', 'DLIB_Train_Real/dlib1171.jpg', 'DLIB_Train_Real/dlib1172.jpg', 'DLIB_Train_Real/dlib1173.jpg', 'DLIB_Train_Real/dlib1174.jpg', 'DLIB_Train_Real/dlib1175.jpg', 'DLIB_Train_Real/dlib1176.jpg', 'DLIB_Train_Real/dlib1177.jpg', 'DLIB_Train_Real/dlib1178.jpg', 'DLIB_Train_Real/dlib1179.jpg', 'DLIB_Train_Real/dlib1180.jpg', 'DLIB_Train_Real/dlib1181.jpg', 'DLIB_Train_Real/dlib1182.jpg', 'DLIB_Train_Real/dlib1183.jpg', 'DLIB_Train_Real/dlib1184.jpg', 'DLIB_Train_Real/dlib1185.jpg', 'DLIB_Train_Real/dlib1186.jpg', 'DLIB_Train_Real/dlib1187.jpg', 'DLIB_Train_Real/dlib1188.jpg', 'DLIB_Train_Real/dlib1189.jpg', 'DLIB_Train_Real/dlib1190.jpg', 'DLIB_Train_Real/dlib1191.jpg', 'DLIB_Train_Real/dlib1192.jpg', 'DLIB_Train_Real/dlib1193.jpg', 'DLIB_Train_Real/dlib1194.jpg', 'DLIB_Train_Real/dlib1195.jpg', 'DLIB_Train_Real/dlib1196.jpg', 'DLIB_Train_Real/dlib1197.jpg', 'DLIB_Train_Real/dlib1198.jpg', 'DLIB_Train_Real/dlib1199.jpg', 'DLIB_Train_Real/dlib1200.jpg', 'DLIB_Train_Real/dlib1201.jpg', 'DLIB_Train_Real/dlib1202.jpg', 'DLIB_Train_Real/dlib1203.jpg', 'DLIB_Train_Real/dlib1204.jpg', 'DLIB_Train_Real/dlib1205.jpg', 'DLIB_Train_Real/dlib1206.jpg', 'DLIB_Train_Real/dlib1207.jpg', 'DLIB_Train_Real/dlib1208.jpg', 'DLIB_Train_Real/dlib1209.jpg', 'DLIB_Train_Real/dlib1210.jpg', 'DLIB_Train_Real/dlib1211.jpg', 'DLIB_Train_Real/dlib1212.jpg', 'DLIB_Train_Real/dlib1213.jpg', 'DLIB_Train_Real/dlib1214.jpg', 'DLIB_Train_Real/dlib1215.jpg', 'DLIB_Train_Real/dlib1216.jpg', 'DLIB_Train_Real/dlib1217.jpg', 'DLIB_Train_Real/dlib1218.jpg', 'DLIB_Train_Real/dlib1219.jpg', 'DLIB_Train_Real/dlib1220.jpg', 'DLIB_Train_Real/dlib1221.jpg', 'DLIB_Train_Real/dlib1222.jpg', 'DLIB_Train_Real/dlib1223.jpg', 'DLIB_Train_Real/dlib1224.jpg', 'DLIB_Train_Real/dlib1225.jpg', 'DLIB_Train_Real/dlib1226.jpg', 'DLIB_Train_Real/dlib1227.jpg', 'DLIB_Train_Real/dlib1228.jpg', 'DLIB_Train_Real/dlib1229.jpg', 'DLIB_Train_Real/dlib1230.jpg', 'DLIB_Train_Real/dlib1231.jpg', 'DLIB_Train_Real/dlib1232.jpg', 'DLIB_Train_Real/dlib1233.jpg', 'DLIB_Train_Real/dlib1234.jpg', 'DLIB_Train_Real/dlib1235.jpg', 'DLIB_Train_Real/dlib1236.jpg', 'DLIB_Train_Real/dlib1237.jpg', 'DLIB_Train_Real/dlib1238.jpg', 'DLIB_Train_Real/dlib1239.jpg', 'DLIB_Train_Real/dlib1240.jpg', 'DLIB_Train_Real/dlib1241.jpg', 'DLIB_Train_Real/dlib1242.jpg', 'DLIB_Train_Real/dlib1243.jpg', 'DLIB_Train_Real/dlib1244.jpg', 'DLIB_Train_Real/dlib1245.jpg', 'DLIB_Train_Real/dlib1246.jpg', 'DLIB_Train_Real/dlib1247.jpg', 'DLIB_Train_Real/dlib1248.jpg', 'DLIB_Train_Real/dlib1249.jpg', 'DLIB_Train_Real/dlib1250.jpg', 'DLIB_Train_Real/dlib1251.jpg', 'DLIB_Train_Real/dlib1252.jpg', 'DLIB_Train_Real/dlib1253.jpg', 'DLIB_Train_Real/dlib1254.jpg', 'DLIB_Train_Real/dlib1255.jpg', 'DLIB_Train_Real/dlib1256.jpg', 'DLIB_Train_Real/dlib1257.jpg', 'DLIB_Train_Real/dlib1258.jpg', 'DLIB_Train_Real/dlib1259.jpg', 'DLIB_Train_Real/dlib1260.jpg', 'DLIB_Train_Real/dlib1261.jpg', 'DLIB_Train_Real/dlib1262.jpg', 'DLIB_Train_Real/dlib1263.jpg', 'DLIB_Train_Real/dlib1264.jpg', 'DLIB_Train_Real/dlib1265.jpg', 'DLIB_Train_Real/dlib1266.jpg', 'DLIB_Train_Real/dlib1267.jpg', 'DLIB_Train_Real/dlib1268.jpg', 'DLIB_Train_Real/dlib1269.jpg', 'DLIB_Train_Real/dlib1270.jpg', 'DLIB_Train_Real/dlib1271.jpg', 'DLIB_Train_Real/dlib1272.jpg', 'DLIB_Train_Real/dlib1273.jpg', 'DLIB_Train_Real/dlib1274.jpg', 'DLIB_Train_Real/dlib1275.jpg', 'DLIB_Train_Real/dlib1276.jpg', 'DLIB_Train_Real/dlib1277.jpg', 'DLIB_Train_Real/dlib1278.jpg', 'DLIB_Train_Real/dlib1279.jpg', 'DLIB_Train_Real/dlib1280.jpg', 'DLIB_Train_Real/dlib1281.jpg', 'DLIB_Train_Real/dlib1282.jpg', 'DLIB_Train_Real/dlib1283.jpg', 'DLIB_Train_Real/dlib1284.jpg', 'DLIB_Train_Real/dlib1285.jpg', 'DLIB_Train_Real/dlib1286.jpg', 'DLIB_Train_Real/dlib1287.jpg', 'DLIB_Train_Real/dlib1288.jpg', 'DLIB_Train_Real/dlib1289.jpg', 'DLIB_Train_Real/dlib1290.jpg', 'DLIB_Train_Real/dlib1291.jpg', 'DLIB_Train_Real/dlib1292.jpg', 'DLIB_Train_Real/dlib1293.jpg', 'DLIB_Train_Real/dlib1294.jpg', 'DLIB_Train_Real/dlib1295.jpg', 'DLIB_Train_Real/dlib1296.jpg', 'DLIB_Train_Real/dlib1297.jpg', 'DLIB_Train_Real/dlib1298.jpg', 'DLIB_Train_Real/dlib1299.jpg', 'DLIB_Train_Real/dlib1300.jpg', 'DLIB_Train_Real/dlib1301.jpg', 'DLIB_Train_Real/dlib1302.jpg', 'DLIB_Train_Real/dlib1303.jpg', 'DLIB_Train_Real/dlib1304.jpg', 'DLIB_Train_Real/dlib1305.jpg', 'DLIB_Train_Real/dlib1306.jpg', 'DLIB_Train_Real/dlib1307.jpg', 'DLIB_Train_Real/dlib1308.jpg', 'DLIB_Train_Real/dlib1309.jpg', 'DLIB_Train_Real/dlib1310.jpg', 'DLIB_Train_Real/dlib1311.jpg', 'DLIB_Train_Real/dlib1312.jpg', 'DLIB_Train_Real/dlib1313.jpg', 'DLIB_Train_Real/dlib1314.jpg', 'DLIB_Train_Real/dlib1315.jpg', 'DLIB_Train_Real/dlib1316.jpg', 'DLIB_Train_Real/dlib1317.jpg', 'DLIB_Train_Real/dlib1318.jpg', 'DLIB_Train_Real/dlib1319.jpg', 'DLIB_Train_Real/dlib1320.jpg', 'DLIB_Train_Real/dlib1321.jpg', 'DLIB_Train_Real/dlib1322.jpg', 'DLIB_Train_Real/dlib1323.jpg', 'DLIB_Train_Real/dlib1324.jpg', 'DLIB_Train_Real/dlib1325.jpg', 'DLIB_Train_Real/dlib1326.jpg', 'DLIB_Train_Real/dlib1327.jpg', 'DLIB_Train_Real/dlib1328.jpg', 'DLIB_Train_Real/dlib1329.jpg', 'DLIB_Train_Real/dlib1330.jpg', 'DLIB_Train_Real/dlib1331.jpg', 'DLIB_Train_Real/dlib1332.jpg', 'DLIB_Train_Real/dlib1333.jpg', 'DLIB_Train_Real/dlib1334.jpg', 'DLIB_Train_Real/dlib1335.jpg', 'DLIB_Train_Real/dlib1336.jpg', 'DLIB_Train_Real/dlib1337.jpg', 'DLIB_Train_Real/dlib1338.jpg', 'DLIB_Train_Real/dlib1339.jpg', 'DLIB_Train_Real/dlib1340.jpg', 'DLIB_Train_Real/dlib1341.jpg', 'DLIB_Train_Real/dlib1342.jpg', 'DLIB_Train_Real/dlib1343.jpg', 'DLIB_Train_Real/dlib1344.jpg', 'DLIB_Train_Real/dlib1345.jpg', 'DLIB_Train_Real/dlib1346.jpg', 'DLIB_Train_Real/dlib1347.jpg', 'DLIB_Train_Real/dlib1348.jpg', 'DLIB_Train_Real/dlib1349.jpg', 'DLIB_Train_Real/dlib1350.jpg', 'DLIB_Train_Real/dlib1351.jpg', 'DLIB_Train_Real/dlib1352.jpg', 'DLIB_Train_Real/dlib1353.jpg', 'DLIB_Train_Real/dlib1354.jpg', 'DLIB_Train_Real/dlib1355.jpg', 'DLIB_Train_Real/dlib1356.jpg', 'DLIB_Train_Real/dlib1357.jpg', 'DLIB_Train_Real/dlib1358.jpg', 'DLIB_Train_Real/dlib1359.jpg', 'DLIB_Train_Real/dlib1360.jpg', 'DLIB_Train_Real/dlib1361.jpg', 'DLIB_Train_Real/dlib1362.jpg', 'DLIB_Train_Real/dlib1363.jpg', 'DLIB_Train_Real/dlib1364.jpg', 'DLIB_Train_Real/dlib1365.jpg', 'DLIB_Train_Real/dlib1366.jpg', 'DLIB_Train_Real/dlib1367.jpg', 'DLIB_Train_Real/dlib1368.jpg', 'DLIB_Train_Real/dlib1369.jpg', 'DLIB_Train_Real/dlib1370.jpg', 'DLIB_Train_Real/dlib1371.jpg', 'DLIB_Train_Real/dlib1372.jpg', 'DLIB_Train_Real/dlib1373.jpg', 'DLIB_Train_Real/dlib1374.jpg', 'DLIB_Train_Real/dlib1375.jpg', 'DLIB_Train_Real/dlib1376.jpg', 'DLIB_Train_Real/dlib1377.jpg', 'DLIB_Train_Real/dlib1378.jpg', 'DLIB_Train_Real/dlib1379.jpg', 'DLIB_Train_Real/dlib1380.jpg', 'DLIB_Train_Real/dlib1381.jpg', 'DLIB_Train_Real/dlib1382.jpg', 'DLIB_Train_Real/dlib1383.jpg', 'DLIB_Train_Real/dlib1384.jpg', 'DLIB_Train_Real/dlib1385.jpg', 'DLIB_Train_Real/dlib1386.jpg', 'DLIB_Train_Real/dlib1387.jpg', 'DLIB_Train_Real/dlib1388.jpg', 'DLIB_Train_Real/dlib1389.jpg', 'DLIB_Train_Real/dlib1390.jpg', 'DLIB_Train_Real/dlib1391.jpg', 'DLIB_Train_Real/dlib1392.jpg', 'DLIB_Train_Real/dlib1393.jpg', 'DLIB_Train_Real/dlib1394.jpg', 'DLIB_Train_Real/dlib1395.jpg', 'DLIB_Train_Real/dlib1396.jpg', 'DLIB_Train_Real/dlib1397.jpg', 'DLIB_Train_Real/dlib1398.jpg', 'DLIB_Train_Real/dlib1399.jpg', 'DLIB_Train_Real/dlib1400.jpg', 'DLIB_Train_Real/dlib1401.jpg', 'DLIB_Train_Real/dlib1402.jpg', 'DLIB_Train_Real/dlib1403.jpg', 'DLIB_Train_Real/dlib1404.jpg', 'DLIB_Train_Real/dlib1405.jpg', 'DLIB_Train_Real/dlib1406.jpg', 'DLIB_Train_Real/dlib1407.jpg', 'DLIB_Train_Real/dlib1408.jpg', 'DLIB_Train_Real/dlib1409.jpg', 'DLIB_Train_Real/dlib1410.jpg', 'DLIB_Train_Real/dlib1411.jpg', 'DLIB_Train_Real/dlib1412.jpg', 'DLIB_Train_Real/dlib1413.jpg', 'DLIB_Train_Real/dlib1414.jpg', 'DLIB_Train_Real/dlib1415.jpg', 'DLIB_Train_Real/dlib1416.jpg', 'DLIB_Train_Real/dlib1417.jpg', 'DLIB_Train_Real/dlib1418.jpg', 'DLIB_Train_Real/dlib1419.jpg', 'DLIB_Train_Real/dlib1420.jpg', 'DLIB_Train_Real/dlib1421.jpg', 'DLIB_Train_Real/dlib1422.jpg', 'DLIB_Train_Real/dlib1423.jpg', 'DLIB_Train_Real/dlib1424.jpg', 'DLIB_Train_Real/dlib1425.jpg', 'DLIB_Train_Real/dlib1426.jpg', 'DLIB_Train_Real/dlib1427.jpg', 'DLIB_Train_Real/dlib1428.jpg', 'DLIB_Train_Real/dlib1429.jpg', 'DLIB_Train_Real/dlib1430.jpg', 'DLIB_Train_Real/dlib1431.jpg', 'DLIB_Train_Real/dlib1432.jpg', 'DLIB_Train_Real/dlib1433.jpg', 'DLIB_Train_Real/dlib1434.jpg', 'DLIB_Train_Real/dlib1435.jpg', 'DLIB_Train_Real/dlib1436.jpg', 'DLIB_Train_Real/dlib1437.jpg', 'DLIB_Train_Real/dlib1438.jpg', 'DLIB_Train_Real/dlib1439.jpg', 'DLIB_Train_Real/dlib1440.jpg', 'DLIB_Train_Real/dlib1441.jpg', 'DLIB_Train_Real/dlib1442.jpg', 'DLIB_Train_Real/dlib1443.jpg', 'DLIB_Train_Real/dlib1444.jpg', 'DLIB_Train_Real/dlib1445.jpg', 'DLIB_Train_Real/dlib1446.jpg', 'DLIB_Train_Real/dlib1447.jpg', 'DLIB_Train_Real/dlib1448.jpg', 'DLIB_Train_Real/dlib1449.jpg', 'DLIB_Train_Real/dlib1450.jpg', 'DLIB_Train_Real/dlib1451.jpg', 'DLIB_Train_Real/dlib1452.jpg', 'DLIB_Train_Real/dlib1453.jpg', 'DLIB_Train_Real/dlib1454.jpg', 'DLIB_Train_Real/dlib1455.jpg', 'DLIB_Train_Real/dlib1456.jpg', 'DLIB_Train_Real/dlib1457.jpg', 'DLIB_Train_Real/dlib1458.jpg', 'DLIB_Train_Real/dlib1459.jpg', 'DLIB_Train_Real/dlib1460.jpg', 'DLIB_Train_Real/dlib1461.jpg', 'DLIB_Train_Real/dlib1462.jpg']\n"
          ],
          "name": "stdout"
        }
      ]
    },
    {
      "cell_type": "code",
      "metadata": {
        "id": "iedML09QtxsB"
      },
      "source": [
        "processedImagePath_Val_Fake_dlib = faceDetect_DLIB(\"Val\",\"Fake\",imgPath_test_fake)"
      ],
      "execution_count": null,
      "outputs": []
    },
    {
      "cell_type": "code",
      "metadata": {
        "id": "3RpL3veBt2PZ"
      },
      "source": [
        "processedImagePath_Val_Real_dlib = faceDetect_DLIB(\"Val\",\"Real\",imgPath_val_real)"
      ],
      "execution_count": null,
      "outputs": []
    },
    {
      "cell_type": "code",
      "metadata": {
        "id": "eoxQvnCBIr5H"
      },
      "source": [
        "processedImagePath_Test_Fake_dlib = faceDetect_DLIB(\"Test\",\"Fake\",imgPath_test_fake)"
      ],
      "execution_count": null,
      "outputs": []
    },
    {
      "cell_type": "code",
      "metadata": {
        "id": "RUI2fby4PjHO"
      },
      "source": [
        "processedImagePath_Test_Real_dlib = faceDetect_DLIB(\"Test\",\"Real\",imgPath_test_real)"
      ],
      "execution_count": null,
      "outputs": []
    },
    {
      "cell_type": "markdown",
      "metadata": {
        "id": "bMhUJm8bPALf"
      },
      "source": [
        "# Data Augmentation"
      ]
    },
    {
      "cell_type": "code",
      "metadata": {
        "id": "BVRQqhxvPDJs"
      },
      "source": [
        "from torchvision import datasets\n",
        "from torch.utils.data import DataLoader\n",
        "from torchvision.utils import save_image\n",
        "from skimage.util import random_noise\n",
        "import numpy as np\n",
        "import torch\n",
        "import matplotlib.pyplot as plt\n",
        "import torchvision.transforms as transforms\n",
        "import argparse"
      ],
      "execution_count": null,
      "outputs": []
    },
    {
      "cell_type": "code",
      "metadata": {
        "id": "QSlQgwjvazlW"
      },
      "source": [
        "import numpy as np\n",
        "import os\n",
        "import cv2\n",
        "\n",
        "def noisy(noise_typ,image):\n",
        "  if noise_typ == \"gauss\":\n",
        "    mean = 0\n",
        "    var = 100\n",
        "    sigma = var ** 0.5\n",
        "    row, col, _ = image.shape\n",
        "    gaussian = np.random.normal(mean, sigma, (row, col)) \n",
        "\n",
        "    noisy = np.zeros(image.shape, np.float32)\n",
        "\n",
        "    if len(image.shape) == 2:\n",
        "        noisy = image + gaussian\n",
        "    else:\n",
        "        noisy[:, :, 0] = image[:, :, 0] + gaussian\n",
        "        noisy[:, :, 1] = image[:, :, 1] + gaussian\n",
        "        noisy[:, :, 2] = image[:, :, 2] + gaussian\n",
        "\n",
        "    cv2.normalize(noisy, noisy, 0, 255, cv2.NORM_MINMAX, dtype=-1)\n",
        "    noisy = noisy.astype(np.uint8)\n",
        "    return noisy\n",
        "  elif noise_typ == \"s&p\":\n",
        "    row,col,ch = image.shape\n",
        "    s_vs_p = 0.5\n",
        "    amount = 0.05\n",
        "    out = np.copy(image)\n",
        "    # Salt mode\n",
        "    num_salt = np.ceil(amount * image.size * s_vs_p)\n",
        "    coords = [np.random.randint(0, i - 1, int(num_salt)) for i in image.shape]\n",
        "    out[coords] = 1\n",
        "\n",
        "    # Pepper mode\n",
        "    num_pepper = np.ceil(amount* image.size * (1. - s_vs_p))\n",
        "    coords = [np.random.randint(0, i - 1, int(num_pepper)) for i in image.shape]\n",
        "    out[coords] = 0\n",
        "    return out\n",
        "\n",
        "  \n",
        "  \n",
        "  elif noise_typ ==\"speckle\":\n",
        "    row,col,ch = image.shape\n",
        "    gauss = np.random.randn(row,col,ch)\n",
        "    gauss = gauss.reshape(row,col,ch)\n",
        "    noisy = image + image * gauss\n",
        "    return noisy\n",
        "\n"
      ],
      "execution_count": null,
      "outputs": []
    },
    {
      "cell_type": "code",
      "metadata": {
        "id": "UDpXnCTObESW"
      },
      "source": [
        "img = cv2.imread(processedImagePath_mediapipe[0])\n",
        "noisy_img = noisy(\"gauss\", img)\n",
        "cv2_imshow(noisy_img)"
      ],
      "execution_count": null,
      "outputs": []
    },
    {
      "cell_type": "code",
      "metadata": {
        "id": "KV7ZJyoyhX22"
      },
      "source": [
        "def create_noisy_img(face_detector,face_detector_arr,type_dataset,label):\n",
        "    arr=[]\n",
        "    for i in range(len(face_detector_arr)):\n",
        "        img=cv2.imread(face_detector_arr[i])\n",
        "        \n",
        "        noisy_img = noisy(\"gauss\", img)\n",
        "        noisy_img = cv2.resize(noisy_img, (64, 64))\n",
        "        \n",
        "        cv2.imwrite(\"/content/DLIB_\"+type_dataset+\"_\"+label+\"_Noise/dlib_noise%d.jpg\" % i,noisy_img)\n",
        "        arr.append(\"/content/DLIB_\"+type_dataset+\"_\"+label+\"_Noise/dlib_noise%d.jpg\"%i)\n",
        "    return arr\n",
        "\n"
      ],
      "execution_count": null,
      "outputs": []
    },
    {
      "cell_type": "code",
      "metadata": {
        "id": "8klBVD54RDLb"
      },
      "source": [
        "processedImagePath_MTCNN_noise=create_noisy_img(\"MTCNN\",processedImagePath_MTCNN)"
      ],
      "execution_count": null,
      "outputs": []
    },
    {
      "cell_type": "code",
      "metadata": {
        "id": "Xdb_qOfbTlsl"
      },
      "source": [
        "processedImagePath_Train_Real_dlib_noise=create_noisy_img(\"DLIB\",processedImagePath_Train_Real_dlib,\"Train\",\"Real\")"
      ],
      "execution_count": null,
      "outputs": []
    },
    {
      "cell_type": "code",
      "metadata": {
        "id": "6y9wpxs1QI-9"
      },
      "source": [
        "processedImagePath_Train_Fake_dlib_noise=create_noisy_img(\"DLIB\",processedImagePath_Train_Fake_dlib,\"Train\",\"Fake\")"
      ],
      "execution_count": null,
      "outputs": []
    },
    {
      "cell_type": "markdown",
      "metadata": {
        "id": "t_aUhnqGAg0-"
      },
      "source": [
        "#Training"
      ]
    },
    {
      "cell_type": "code",
      "metadata": {
        "id": "LLpk6TDGHBmw"
      },
      "source": [
        "from sklearn.metrics import accuracy_score\n",
        "from sklearn.metrics import f1_score\n",
        "from sklearn.metrics import log_loss\n",
        "from skimage.color import rgb2grey\n",
        "from skimage.feature import hog\n",
        "\n",
        "def create_features(img):\n",
        "\n",
        "    gray = cv2.cvtColor(img, cv2.COLOR_RGB2GRAY)\n",
        "    features=[]\n",
        "    for i in gray:\n",
        "      for j in i:\n",
        "        features.append(j)\n",
        "    \n",
        "    return features\n"
      ],
      "execution_count": null,
      "outputs": []
    },
    {
      "cell_type": "code",
      "metadata": {
        "id": "6AJmWvMGAjCs"
      },
      "source": [
        "def createFeatureDatabase(real_list, fake_list):\n",
        "  train=[]\n",
        "  label = []\n",
        "\n",
        "  \n",
        "\n",
        "  for i in range(len(fake_list)):\n",
        "    \n",
        "    img = cv2.imread(fake_list[i])\n",
        "    tmp_features = create_features(img)\n",
        "    train.append(tmp_features)\n",
        "    label.append(0)\n",
        "\n",
        "  for i in range(len(real_list)):\n",
        "    \n",
        "    img = cv2.imread(real_list[i])\n",
        "    tmp_features = create_features(img)\n",
        "    train.append(tmp_features)\n",
        "    label.append(1)\n",
        "\n",
        "  \n",
        "  return train,label"
      ],
      "execution_count": null,
      "outputs": []
    },
    {
      "cell_type": "markdown",
      "metadata": {
        "id": "53suxg2mVNLx"
      },
      "source": [
        "#DLIB"
      ]
    },
    {
      "cell_type": "code",
      "metadata": {
        "id": "xzEg07vH6ECr"
      },
      "source": [
        "\n",
        "\n",
        "train_data,label_data = createFeatureDatabase(processedImagePath_Train_Real_dlib,processedImagePath_Train_Fake_dlib)\n"
      ],
      "execution_count": null,
      "outputs": []
    },
    {
      "cell_type": "code",
      "metadata": {
        "id": "KsYcTUDtQvqD"
      },
      "source": [
        "train_data_noise,label_data_noise = createFeatureDatabase(processedImagePath_Train_Real_dlib_noise,processedImagePath_Train_Fake_dlib_noise)"
      ],
      "execution_count": null,
      "outputs": []
    },
    {
      "cell_type": "code",
      "metadata": {
        "id": "BACDbvps6KBB",
        "colab": {
          "base_uri": "https://localhost:8080/"
        },
        "outputId": "04744f2a-d188-4052-8161-54b04a73ab65"
      },
      "source": [
        "\n",
        "len(train_data)"
      ],
      "execution_count": null,
      "outputs": [
        {
          "output_type": "execute_result",
          "data": {
            "text/plain": [
              "2816"
            ]
          },
          "metadata": {
            "tags": []
          },
          "execution_count": 60
        }
      ]
    },
    {
      "cell_type": "code",
      "metadata": {
        "id": "BtvJDT4-LyZ1"
      },
      "source": [
        "test_data, test_label = createFeatureDatabase(processedImagePath_Test_Real_dlib,processedImagePath_Test_Fake_dlib)"
      ],
      "execution_count": null,
      "outputs": []
    },
    {
      "cell_type": "markdown",
      "metadata": {
        "id": "pWYeznXmeB9I"
      },
      "source": [
        "##Standard Scaler"
      ]
    },
    {
      "cell_type": "code",
      "metadata": {
        "id": "5aBWnl05eFPf"
      },
      "source": [
        "from sklearn.preprocessing import StandardScaler  \n",
        "scaler = StandardScaler()  \n",
        "\n",
        "scaler.fit(train_data)  \n",
        "train_data_ss = scaler.transform(train_data)  \n",
        "\n",
        "test_data_ss = scaler.transform(test_data)"
      ],
      "execution_count": null,
      "outputs": []
    },
    {
      "cell_type": "markdown",
      "metadata": {
        "id": "o-z3W1lrtsDv"
      },
      "source": [
        "##LDA"
      ]
    },
    {
      "cell_type": "code",
      "metadata": {
        "id": "YLLghI8LttXB"
      },
      "source": [
        "from sklearn.discriminant_analysis import LinearDiscriminantAnalysis\n",
        "\n",
        "lda = LinearDiscriminantAnalysis()\n",
        "lda_train_data = lda.fit_transform(train_data_ss, label_data)\n"
      ],
      "execution_count": null,
      "outputs": []
    },
    {
      "cell_type": "code",
      "metadata": {
        "id": "sDnE0FVoHzmq"
      },
      "source": [
        "lda_test_data=lda.transform(test_data_ss)"
      ],
      "execution_count": null,
      "outputs": []
    },
    {
      "cell_type": "code",
      "metadata": {
        "id": "jf-8FaPTHMwg",
        "colab": {
          "base_uri": "https://localhost:8080/"
        },
        "outputId": "65842c53-5a02-45e2-fcce-1a3240f15f76"
      },
      "source": [
        "lda.explained_variance_ratio_"
      ],
      "execution_count": null,
      "outputs": [
        {
          "output_type": "execute_result",
          "data": {
            "text/plain": [
              "array([1.])"
            ]
          },
          "metadata": {
            "tags": []
          },
          "execution_count": 65
        }
      ]
    },
    {
      "cell_type": "code",
      "metadata": {
        "id": "dvfvGIh5GXAm",
        "colab": {
          "base_uri": "https://localhost:8080/"
        },
        "outputId": "b61f765a-f73b-4c1f-9ff3-4c358f80e5db"
      },
      "source": [
        "lda_train_data"
      ],
      "execution_count": null,
      "outputs": [
        {
          "output_type": "execute_result",
          "data": {
            "text/plain": [
              "array([[-2.79605545],\n",
              "       [-5.14096826],\n",
              "       [-2.45258223],\n",
              "       ...,\n",
              "       [ 2.546712  ],\n",
              "       [ 2.20970008],\n",
              "       [ 3.35836081]])"
            ]
          },
          "metadata": {
            "tags": []
          },
          "execution_count": 66
        }
      ]
    },
    {
      "cell_type": "code",
      "metadata": {
        "id": "mm4Lz5XdA_vF",
        "colab": {
          "base_uri": "https://localhost:8080/"
        },
        "outputId": "5be2f52f-37e7-4064-aee2-1fa0c6383269"
      },
      "source": [
        "len(lda_train_data[0])"
      ],
      "execution_count": null,
      "outputs": [
        {
          "output_type": "execute_result",
          "data": {
            "text/plain": [
              "1"
            ]
          },
          "metadata": {
            "tags": []
          },
          "execution_count": 67
        }
      ]
    },
    {
      "cell_type": "markdown",
      "metadata": {
        "id": "A8o8pfBrP8DG"
      },
      "source": [
        "##PCA"
      ]
    },
    {
      "cell_type": "code",
      "metadata": {
        "id": "aNJDRnaHP_Mw"
      },
      "source": [
        "from sklearn.decomposition import PCA\n",
        "pca = PCA(0.99)\n",
        "pca_train_data=pca.fit_transform(train_data_ss)"
      ],
      "execution_count": null,
      "outputs": []
    },
    {
      "cell_type": "code",
      "metadata": {
        "id": "7XDDQEzTP_Im"
      },
      "source": [
        "pca_test_data=pca.transform(test_data_ss)"
      ],
      "execution_count": null,
      "outputs": []
    },
    {
      "cell_type": "code",
      "metadata": {
        "id": "DR9ogwh7P_GE"
      },
      "source": [
        "pca.explained_variance_ratio_"
      ],
      "execution_count": null,
      "outputs": []
    },
    {
      "cell_type": "code",
      "metadata": {
        "id": "6lxGI5iSBDRc",
        "colab": {
          "base_uri": "https://localhost:8080/"
        },
        "outputId": "cc1dfdc6-fef3-4ac0-ad46-9b2655d75a6c"
      },
      "source": [
        "pca_train_data"
      ],
      "execution_count": null,
      "outputs": [
        {
          "output_type": "execute_result",
          "data": {
            "text/plain": [
              "array([[-4.55245714e+01, -4.44443507e+01, -1.72042785e+01, ...,\n",
              "        -4.01733655e-03,  7.86725292e-02, -3.87189898e-01],\n",
              "       [-4.52969342e+01, -4.43977308e+01, -1.73951387e+01, ...,\n",
              "        -4.54895997e-02, -1.12534848e-01, -3.97847853e-01],\n",
              "       [-4.53625292e+01, -4.44486810e+01, -1.74321576e+01, ...,\n",
              "        -2.57956977e-03, -5.95287575e-02, -3.66251720e-01],\n",
              "       ...,\n",
              "       [ 3.60973854e+01, -2.93092440e+01, -3.04211577e+01, ...,\n",
              "        -2.33502764e-01,  3.24943973e-01,  7.25584123e-01],\n",
              "       [ 2.62557879e+01, -3.96765839e+01, -2.82869807e+01, ...,\n",
              "        -1.60304884e-01, -4.83875158e-01, -8.78218922e-01],\n",
              "       [-2.01799974e+00, -5.88501948e+01, -1.72589930e+01, ...,\n",
              "         3.78234923e-01, -1.89632748e-01,  2.41575537e-01]])"
            ]
          },
          "metadata": {
            "tags": []
          },
          "execution_count": 71
        }
      ]
    },
    {
      "cell_type": "code",
      "metadata": {
        "id": "oDYA2yJaRV7z",
        "colab": {
          "base_uri": "https://localhost:8080/"
        },
        "outputId": "a9776079-863e-4905-f3f1-029cf0f7d0a2"
      },
      "source": [
        "len(pca_train_data[0])"
      ],
      "execution_count": null,
      "outputs": [
        {
          "output_type": "execute_result",
          "data": {
            "text/plain": [
              "577"
            ]
          },
          "metadata": {
            "tags": []
          },
          "execution_count": 72
        }
      ]
    },
    {
      "cell_type": "markdown",
      "metadata": {
        "id": "zOq3RBof9cAL"
      },
      "source": [
        "#DeepFake Result"
      ]
    },
    {
      "cell_type": "code",
      "metadata": {
        "id": "lbn--s9p9aoi"
      },
      "source": [
        "def predictDeepFakeResult(predicted_test,frame_count_test):\n",
        "  k=0\n",
        "  prediction=[]\n",
        "  len1=len(predicted_test)\n",
        "  for i in frame_count_test:\n",
        "    real_count=0\n",
        "    fake_count=0\n",
        "    \n",
        "    for j in range(i):\n",
        "      if predicted_test[k]>0.5:\n",
        "        real_count+=1\n",
        "      else:\n",
        "        fake_count+=1\n",
        "      k+=1\n",
        "    if real_count>fake_count:\n",
        "      prediction.append(1)\n",
        "    else:\n",
        "      prediction.append(0)\n",
        "    print(real_count,fake_count)\n",
        "  return prediction"
      ],
      "execution_count": null,
      "outputs": []
    },
    {
      "cell_type": "code",
      "metadata": {
        "id": "ilemwP5G-T01"
      },
      "source": [
        "actual_test_label=video_label_test_fake+video_label_test_real"
      ],
      "execution_count": null,
      "outputs": []
    },
    {
      "cell_type": "markdown",
      "metadata": {
        "id": "j6MY_qahWMb4"
      },
      "source": [
        "##SVC"
      ]
    },
    {
      "cell_type": "code",
      "metadata": {
        "id": "Z1z-uT_T9TUq"
      },
      "source": [
        "from sklearn.svm import SVC\n",
        "from sklearn.model_selection import cross_val_score\n",
        "def trainSVC(train_data, label_data, test_data,test_label):\n",
        "  model = SVC()\n",
        "  \n",
        "  model.fit(train_data,label_data)\n",
        "  print(model.score(test_data,test_label))\n",
        "  cvs = cross_val_score(model, train_data, label_data, cv=5)\n",
        "  print(cvs)\n",
        "  predicted_test = model.predict(test_data)\n",
        "  return predicted_test, cvs"
      ],
      "execution_count": null,
      "outputs": []
    },
    {
      "cell_type": "markdown",
      "metadata": {
        "id": "TGnEIJeV81JT"
      },
      "source": [
        "##SVC_LDA"
      ]
    },
    {
      "cell_type": "code",
      "metadata": {
        "id": "uK_wN44dFv95",
        "colab": {
          "base_uri": "https://localhost:8080/"
        },
        "outputId": "759f0b44-3c19-4f18-e373-2dbc9e51e01b"
      },
      "source": [
        "predicted_test_SVC_lda, cvs_SVC_lda = trainSVC(lda_train_data,label_data,lda_test_data,test_label)\n",
        "predicted_test_SVC_lda"
      ],
      "execution_count": null,
      "outputs": [
        {
          "output_type": "stream",
          "text": [
            "0.48770491803278687\n",
            "[0.99113475 0.99111901 0.9946714  0.9946714  0.9982238 ]\n"
          ],
          "name": "stdout"
        },
        {
          "output_type": "execute_result",
          "data": {
            "text/plain": [
              "array([0, 1, 1, ..., 1, 0, 0])"
            ]
          },
          "metadata": {
            "tags": []
          },
          "execution_count": 77
        }
      ]
    },
    {
      "cell_type": "code",
      "metadata": {
        "id": "7cMTA10zZ1J9",
        "colab": {
          "base_uri": "https://localhost:8080/"
        },
        "outputId": "234aadf5-ed3a-4e6b-f5fb-dff196314088"
      },
      "source": [
        "print(predicted_test_SVC_lda)"
      ],
      "execution_count": null,
      "outputs": [
        {
          "output_type": "stream",
          "text": [
            "[0 1 1 ... 1 0 0]\n"
          ],
          "name": "stdout"
        }
      ]
    },
    {
      "cell_type": "code",
      "metadata": {
        "id": "HjWb4m5x9IMZ",
        "colab": {
          "base_uri": "https://localhost:8080/"
        },
        "outputId": "1ea6954a-1ada-469d-af90-8c79a6de8aa8"
      },
      "source": [
        "pred_SVC_lda=predictDeepFakeResult(predicted_test_SVC_lda,frame_count_test_fake+frame_count_test_real)\n",
        "print(pred_SVC_lda)"
      ],
      "execution_count": null,
      "outputs": [
        {
          "output_type": "stream",
          "text": [
            "[1, 0, 0, 1, 0, 0, 1, 1, 1, 1, 1, 1, 1, 1, 0, 0, 0, 1, 1, 1, 1, 1, 1, 1, 1, 1, 1, 0, 1, 1, 1, 0, 1, 1, 1, 0, 0, 1, 1, 0, 0, 1, 1, 0, 1, 1, 1, 1, 0, 1]\n"
          ],
          "name": "stdout"
        }
      ]
    },
    {
      "cell_type": "code",
      "metadata": {
        "id": "2Lr8k0OL-yXw",
        "colab": {
          "base_uri": "https://localhost:8080/"
        },
        "outputId": "1dc37ce8-290f-4508-a670-2e9e81cd8005"
      },
      "source": [
        "\n",
        "accuracy_score(actual_test_label, pred_SVC_lda)"
      ],
      "execution_count": null,
      "outputs": [
        {
          "output_type": "execute_result",
          "data": {
            "text/plain": [
              "0.48"
            ]
          },
          "metadata": {
            "tags": []
          },
          "execution_count": 80
        }
      ]
    },
    {
      "cell_type": "code",
      "metadata": {
        "id": "6xR5OkNF-yUE",
        "colab": {
          "base_uri": "https://localhost:8080/"
        },
        "outputId": "f0107772-ae49-4ec4-9b3f-e930841b9add"
      },
      "source": [
        "\n",
        "f1_score(actual_test_label, pred_SVC_lda)"
      ],
      "execution_count": null,
      "outputs": [
        {
          "output_type": "execute_result",
          "data": {
            "text/plain": [
              "0.5666666666666667"
            ]
          },
          "metadata": {
            "tags": []
          },
          "execution_count": 81
        }
      ]
    },
    {
      "cell_type": "code",
      "metadata": {
        "id": "RNj09viv-yP9",
        "colab": {
          "base_uri": "https://localhost:8080/"
        },
        "outputId": "2f187824-204e-46e2-a5f2-401f1c75df77"
      },
      "source": [
        "\n",
        "log_loss(actual_test_label,pred_SVC_lda)"
      ],
      "execution_count": null,
      "outputs": [
        {
          "output_type": "execute_result",
          "data": {
            "text/plain": [
              "17.960451580428426"
            ]
          },
          "metadata": {
            "tags": []
          },
          "execution_count": 82
        }
      ]
    },
    {
      "cell_type": "markdown",
      "metadata": {
        "id": "NnUrfBYZ9AyP"
      },
      "source": [
        "##SVC_PCA"
      ]
    },
    {
      "cell_type": "code",
      "metadata": {
        "id": "3mJoxol6RljO",
        "colab": {
          "base_uri": "https://localhost:8080/"
        },
        "outputId": "0a44056c-23cd-464b-f6e9-49fc5c4b8e40"
      },
      "source": [
        "predicted_test_SVC_pca, cvs_SVC_pca =trainSVC(pca_train_data,label_data,pca_test_data,test_label)\n",
        "predicted_test_SVC_pca"
      ],
      "execution_count": null,
      "outputs": [
        {
          "output_type": "stream",
          "text": [
            "0.6434426229508197\n",
            "[0.39007092 0.57015986 0.64831261 0.59502664 0.68738899]\n"
          ],
          "name": "stdout"
        },
        {
          "output_type": "execute_result",
          "data": {
            "text/plain": [
              "array([1, 1, 1, ..., 0, 0, 0])"
            ]
          },
          "metadata": {
            "tags": []
          },
          "execution_count": 83
        }
      ]
    },
    {
      "cell_type": "code",
      "metadata": {
        "id": "IGBDagbDRlaO",
        "colab": {
          "base_uri": "https://localhost:8080/"
        },
        "outputId": "4eae877c-fd0a-4274-83e0-ff131d189e1d"
      },
      "source": [
        "pred_SVC_pca=predictDeepFakeResult(predicted_test_SVC_pca,frame_count_test_fake+frame_count_test_real)\n",
        "print(pred_SVC_pca)"
      ],
      "execution_count": null,
      "outputs": [
        {
          "output_type": "stream",
          "text": [
            "[1, 0, 0, 1, 1, 1, 1, 1, 1, 1, 1, 1, 0, 1, 1, 0, 0, 0, 0, 0, 0, 0, 0, 0, 0, 0, 1, 1, 1, 1, 1, 1, 1, 1, 1, 1, 1, 1, 1, 0, 0, 1, 1, 1, 1, 1, 1, 0, 0, 1]\n"
          ],
          "name": "stdout"
        }
      ]
    },
    {
      "cell_type": "code",
      "metadata": {
        "id": "TerB_tc3rZzS",
        "colab": {
          "base_uri": "https://localhost:8080/"
        },
        "outputId": "f47bf09d-ef79-4cf1-8d52-470cef5f5e57"
      },
      "source": [
        "\n",
        "accuracy_score(actual_test_label, pred_SVC_pca)"
      ],
      "execution_count": null,
      "outputs": [
        {
          "output_type": "execute_result",
          "data": {
            "text/plain": [
              "0.66"
            ]
          },
          "metadata": {
            "tags": []
          },
          "execution_count": 85
        }
      ]
    },
    {
      "cell_type": "code",
      "metadata": {
        "id": "bdLZ8PqIR9Ci",
        "colab": {
          "base_uri": "https://localhost:8080/"
        },
        "outputId": "cd5032b7-5064-42bb-a561-dcdc7be8a06c"
      },
      "source": [
        "\n",
        "f1_score(actual_test_label, pred_SVC_pca)"
      ],
      "execution_count": null,
      "outputs": [
        {
          "output_type": "execute_result",
          "data": {
            "text/plain": [
              "0.7017543859649122"
            ]
          },
          "metadata": {
            "tags": []
          },
          "execution_count": 86
        }
      ]
    },
    {
      "cell_type": "code",
      "metadata": {
        "id": "559zFvwFMQkN",
        "colab": {
          "base_uri": "https://localhost:8080/"
        },
        "outputId": "9c33182b-5d13-4033-c51d-9776ba4c1ca3"
      },
      "source": [
        "\n",
        "log_loss(actual_test_label,pred_SVC_pca)"
      ],
      "execution_count": null,
      "outputs": [
        {
          "output_type": "execute_result",
          "data": {
            "text/plain": [
              "11.743375877652879"
            ]
          },
          "metadata": {
            "tags": []
          },
          "execution_count": 87
        }
      ]
    },
    {
      "cell_type": "markdown",
      "metadata": {
        "id": "taQTXkZv65TN"
      },
      "source": [
        "##SVC_Normal"
      ]
    },
    {
      "cell_type": "code",
      "metadata": {
        "id": "8-LAbgPI69HY",
        "colab": {
          "base_uri": "https://localhost:8080/"
        },
        "outputId": "7c98fec4-a605-4556-bf7f-5722e3b62c1e"
      },
      "source": [
        "predicted_test_SVC_normal, cvs_SVC_normal =trainSVC(train_data,label_data,test_data,test_label)\n",
        "predicted_test_SVC_normal"
      ],
      "execution_count": null,
      "outputs": [
        {
          "output_type": "stream",
          "text": [
            "0.6379781420765027\n",
            "[0.36347518 0.55239787 0.63587922 0.60746004 0.73001776]\n"
          ],
          "name": "stdout"
        },
        {
          "output_type": "execute_result",
          "data": {
            "text/plain": [
              "array([1, 1, 1, ..., 0, 0, 0])"
            ]
          },
          "metadata": {
            "tags": []
          },
          "execution_count": 88
        }
      ]
    },
    {
      "cell_type": "code",
      "metadata": {
        "id": "IlM7rFxp683Z",
        "colab": {
          "base_uri": "https://localhost:8080/"
        },
        "outputId": "0b910b44-6405-4667-eab9-00860fc15516"
      },
      "source": [
        "pred_SVC_normal=predictDeepFakeResult(predicted_test_SVC_normal,frame_count_test_fake+frame_count_test_real)\n",
        "print(pred_SVC_normal)"
      ],
      "execution_count": null,
      "outputs": [
        {
          "output_type": "stream",
          "text": [
            "[1, 0, 0, 1, 1, 1, 1, 1, 0, 1, 1, 1, 0, 1, 1, 0, 0, 0, 0, 0, 0, 0, 0, 0, 0, 0, 1, 1, 1, 1, 1, 1, 1, 1, 1, 1, 1, 1, 1, 0, 0, 1, 0, 1, 1, 1, 1, 0, 0, 1]\n"
          ],
          "name": "stdout"
        }
      ]
    },
    {
      "cell_type": "code",
      "metadata": {
        "id": "vdavN_Iw68zt",
        "colab": {
          "base_uri": "https://localhost:8080/"
        },
        "outputId": "8e6076f5-45a9-4452-eeee-559dd17e3eb3"
      },
      "source": [
        "\n",
        "accuracy_score(actual_test_label, pred_SVC_normal)"
      ],
      "execution_count": null,
      "outputs": [
        {
          "output_type": "execute_result",
          "data": {
            "text/plain": [
              "0.66"
            ]
          },
          "metadata": {
            "tags": []
          },
          "execution_count": 90
        }
      ]
    },
    {
      "cell_type": "code",
      "metadata": {
        "id": "LBkw5psF67u1",
        "colab": {
          "base_uri": "https://localhost:8080/"
        },
        "outputId": "b45f3e6f-57f4-4acd-cd86-8474e0ad40e2"
      },
      "source": [
        "\n",
        "f1_score(actual_test_label, pred_SVC_normal)"
      ],
      "execution_count": null,
      "outputs": [
        {
          "output_type": "execute_result",
          "data": {
            "text/plain": [
              "0.6909090909090909"
            ]
          },
          "metadata": {
            "tags": []
          },
          "execution_count": 91
        }
      ]
    },
    {
      "cell_type": "code",
      "metadata": {
        "id": "RpBt72wC670n",
        "colab": {
          "base_uri": "https://localhost:8080/"
        },
        "outputId": "a59ee677-d4a9-465d-885c-20023d22093b"
      },
      "source": [
        "\n",
        "log_loss(actual_test_label,pred_SVC_normal)"
      ],
      "execution_count": null,
      "outputs": [
        {
          "output_type": "execute_result",
          "data": {
            "text/plain": [
              "11.743359885704276"
            ]
          },
          "metadata": {
            "tags": []
          },
          "execution_count": 92
        }
      ]
    },
    {
      "cell_type": "markdown",
      "metadata": {
        "id": "CmBwlCJdUk3x"
      },
      "source": [
        "##Comparison"
      ]
    },
    {
      "cell_type": "code",
      "metadata": {
        "id": "zDVuzxw9UnQ6",
        "colab": {
          "base_uri": "https://localhost:8080/",
          "height": 552
        },
        "outputId": "b9708812-124a-4f3d-a860-ff44e1887182"
      },
      "source": [
        "#BoxPlot for cross validation scores\n",
        "\n",
        "data_SVC = [cvs_SVC_lda, cvs_SVC_pca, cvs_SVC_normal]\n",
        "\n",
        "fig_SVC = plt.figure(figsize =(10, 7))\n",
        "  \n",
        "# Creating axes instance\n",
        "ax_SVC = fig_SVC.add_axes([0, 0, 1, 1])\n",
        "  \n",
        "# Creating plot\n",
        "bp_SVC = ax_SVC.boxplot(data_SVC)\n",
        "  \n",
        "# show plot\n",
        "plt.show()"
      ],
      "execution_count": null,
      "outputs": [
        {
          "output_type": "display_data",
          "data": {
            "image/png": "[encoded data removed]",
            "text/plain": [
              "<Figure size 720x504 with 1 Axes>"
            ]
          },
          "metadata": {
            "tags": [],
            "needs_background": "light"
          }
        }
      ]
    },
    {
      "cell_type": "markdown",
      "metadata": {
        "id": "Tx9xQBTlWPxq"
      },
      "source": [
        "##MLP"
      ]
    },
    {
      "cell_type": "code",
      "metadata": {
        "id": "sXg46Jw2WSC5"
      },
      "source": [
        "from sklearn.neural_network import MLPClassifier\n",
        "from sklearn.model_selection import cross_val_score\n",
        "\n",
        "def trainMLP(train_data, label_data, test_data,test_label):\n",
        "  clf = MLPClassifier()\n",
        "  clf=clf.fit(train_data,label_data)\n",
        "  print(clf.score(test_data,test_label))\n",
        "  cvs = cross_val_score(clf, train_data, label_data, cv=5)\n",
        "  print(cvs)\n",
        "  predicted_test = clf.predict(test_data)\n",
        "  return predicted_test, cvs"
      ],
      "execution_count": null,
      "outputs": []
    },
    {
      "cell_type": "markdown",
      "metadata": {
        "id": "Ff-e4OrJ_p18"
      },
      "source": [
        "##MLP_LDA"
      ]
    },
    {
      "cell_type": "code",
      "metadata": {
        "colab": {
          "base_uri": "https://localhost:8080/"
        },
        "id": "fu4HvIoCZxd0",
        "outputId": "d6fa7bc1-79c6-47df-fe8e-b5b755ec4bfe"
      },
      "source": [
        "predicted_test_MLP_lda, cvs_MLP_lda =trainMLP(lda_train_data,label_data,lda_test_data,test_label)\n",
        "predicted_test_MLP_lda"
      ],
      "execution_count": null,
      "outputs": [
        {
          "output_type": "stream",
          "text": [
            "0.4672131147540984\n",
            "[0.99113475 0.99111901 0.9946714  0.9946714  0.9982238 ]\n"
          ],
          "name": "stdout"
        },
        {
          "output_type": "execute_result",
          "data": {
            "text/plain": [
              "array([0, 1, 1, ..., 1, 0, 0])"
            ]
          },
          "metadata": {
            "tags": []
          },
          "execution_count": 96
        }
      ]
    },
    {
      "cell_type": "code",
      "metadata": {
        "colab": {
          "base_uri": "https://localhost:8080/"
        },
        "id": "OppoErzFZ05L",
        "outputId": "19bac97d-433f-4d33-b990-112e8248a45d"
      },
      "source": [
        "pred_MLP_lda=predictDeepFakeResult(predicted_test_MLP_lda,frame_count_test_fake+frame_count_test_real)\n",
        "print(pred_MLP_lda)"
      ],
      "execution_count": null,
      "outputs": [
        {
          "output_type": "stream",
          "text": [
            "[1, 0, 0, 1, 0, 0, 1, 1, 1, 1, 1, 1, 0, 0, 0, 0, 0, 1, 1, 1, 1, 1, 1, 1, 1, 1, 0, 0, 1, 1, 1, 0, 0, 1, 1, 0, 0, 1, 1, 0, 0, 1, 1, 0, 1, 1, 1, 1, 0, 1]\n"
          ],
          "name": "stdout"
        }
      ]
    },
    {
      "cell_type": "code",
      "metadata": {
        "colab": {
          "base_uri": "https://localhost:8080/"
        },
        "id": "vfP9nJ3xZ02C",
        "outputId": "2e511fae-aa0e-48aa-ea4b-b2474acab3e9"
      },
      "source": [
        "\n",
        "accuracy_score(actual_test_label, pred_MLP_lda)"
      ],
      "execution_count": null,
      "outputs": [
        {
          "output_type": "execute_result",
          "data": {
            "text/plain": [
              "0.48"
            ]
          },
          "metadata": {
            "tags": []
          },
          "execution_count": 98
        }
      ]
    },
    {
      "cell_type": "code",
      "metadata": {
        "colab": {
          "base_uri": "https://localhost:8080/"
        },
        "id": "Ycf1jkjWZ0yx",
        "outputId": "7bd6491e-5257-4b50-96ac-519e2b66a35b"
      },
      "source": [
        "\n",
        "f1_score(actual_test_label, pred_MLP_lda)"
      ],
      "execution_count": null,
      "outputs": [
        {
          "output_type": "execute_result",
          "data": {
            "text/plain": [
              "0.5357142857142857"
            ]
          },
          "metadata": {
            "tags": []
          },
          "execution_count": 99
        }
      ]
    },
    {
      "cell_type": "code",
      "metadata": {
        "colab": {
          "base_uri": "https://localhost:8080/"
        },
        "id": "sCPaRe4HZ0vi",
        "outputId": "1a2f31c3-3b70-4041-b712-ae4634d56f30"
      },
      "source": [
        "\n",
        "log_loss(actual_test_label,pred_MLP_lda)"
      ],
      "execution_count": null,
      "outputs": [
        {
          "output_type": "execute_result",
          "data": {
            "text/plain": [
              "17.96041959653122"
            ]
          },
          "metadata": {
            "tags": []
          },
          "execution_count": 100
        }
      ]
    },
    {
      "cell_type": "markdown",
      "metadata": {
        "id": "rH1YLBZUAlYg"
      },
      "source": [
        "##MLP_PCA"
      ]
    },
    {
      "cell_type": "code",
      "metadata": {
        "colab": {
          "base_uri": "https://localhost:8080/"
        },
        "id": "mCy5eWGSXPQx",
        "outputId": "2d3d962e-f816-453a-ab56-09f03e0e9d15"
      },
      "source": [
        "predicted_test_MLP_pca, cvs_MLP_pca =trainMLP(pca_train_data,label_data,pca_test_data,test_label)\n",
        "predicted_test_MLP_pca"
      ],
      "execution_count": null,
      "outputs": [
        {
          "output_type": "stream",
          "text": [
            "0.6161202185792349\n",
            "[0.39539007 0.56305506 0.57904085 0.56660746 0.54706927]\n"
          ],
          "name": "stdout"
        },
        {
          "output_type": "execute_result",
          "data": {
            "text/plain": [
              "array([0, 1, 1, ..., 0, 1, 0])"
            ]
          },
          "metadata": {
            "tags": []
          },
          "execution_count": 101
        }
      ]
    },
    {
      "cell_type": "code",
      "metadata": {
        "colab": {
          "base_uri": "https://localhost:8080/"
        },
        "id": "Hvfprsf4XaFx",
        "outputId": "3af96557-a14a-4713-b52f-6ceb7e8edfad"
      },
      "source": [
        "pred_MLP_pca=predictDeepFakeResult(predicted_test_MLP_pca,frame_count_test_fake+frame_count_test_real)\n",
        "print(pred_MLP_pca)"
      ],
      "execution_count": null,
      "outputs": [
        {
          "output_type": "stream",
          "text": [
            "[1, 0, 0, 1, 1, 1, 1, 1, 0, 1, 1, 1, 0, 0, 1, 0, 0, 0, 0, 0, 0, 0, 0, 0, 0, 0, 0, 1, 1, 1, 1, 1, 1, 1, 1, 1, 1, 1, 1, 1, 1, 1, 1, 1, 1, 1, 1, 1, 0, 1]\n"
          ],
          "name": "stdout"
        }
      ]
    },
    {
      "cell_type": "code",
      "metadata": {
        "colab": {
          "base_uri": "https://localhost:8080/"
        },
        "id": "E_hRzY9-Xh9J",
        "outputId": "9ea98222-067b-45ec-e988-f033f801e610"
      },
      "source": [
        "\n",
        "accuracy_score(actual_test_label, pred_MLP_pca)"
      ],
      "execution_count": null,
      "outputs": [
        {
          "output_type": "execute_result",
          "data": {
            "text/plain": [
              "0.74"
            ]
          },
          "metadata": {
            "tags": []
          },
          "execution_count": 103
        }
      ]
    },
    {
      "cell_type": "code",
      "metadata": {
        "colab": {
          "base_uri": "https://localhost:8080/"
        },
        "id": "gPODVSVtXjid",
        "outputId": "9688b375-3ef2-4bb3-899b-f59c6e139a3a"
      },
      "source": [
        "\n",
        "f1_score(actual_test_label, pred_MLP_pca)"
      ],
      "execution_count": null,
      "outputs": [
        {
          "output_type": "execute_result",
          "data": {
            "text/plain": [
              "0.7719298245614036"
            ]
          },
          "metadata": {
            "tags": []
          },
          "execution_count": 104
        }
      ]
    },
    {
      "cell_type": "code",
      "metadata": {
        "colab": {
          "base_uri": "https://localhost:8080/"
        },
        "id": "5N06ZiqgXqPO",
        "outputId": "274b5176-8868-455c-f732-dd36b18983b5"
      },
      "source": [
        "\n",
        "log_loss(actual_test_label,pred_MLP_pca)"
      ],
      "execution_count": null,
      "outputs": [
        {
          "output_type": "execute_result",
          "data": {
            "text/plain": [
              "8.980241782162816"
            ]
          },
          "metadata": {
            "tags": []
          },
          "execution_count": 105
        }
      ]
    },
    {
      "cell_type": "markdown",
      "metadata": {
        "id": "bzHAkJcq7Vo9"
      },
      "source": [
        "##MLP_Normal"
      ]
    },
    {
      "cell_type": "code",
      "metadata": {
        "colab": {
          "base_uri": "https://localhost:8080/"
        },
        "id": "1IrRRyEg7YV4",
        "outputId": "97843902-a2d8-4f0e-b762-d0bd47d413cc"
      },
      "source": [
        "predicted_test_MLP_normal, cvs_MLP_normal =trainMLP(train_data,label_data,test_data,test_label)\n",
        "predicted_test_MLP_normal"
      ],
      "execution_count": null,
      "outputs": [
        {
          "output_type": "stream",
          "text": [
            "0.5437158469945356\n",
            "[0.40602837 0.52220249 0.43161634 0.52042629 0.52042629]\n"
          ],
          "name": "stdout"
        },
        {
          "output_type": "execute_result",
          "data": {
            "text/plain": [
              "array([1, 1, 1, ..., 1, 1, 1])"
            ]
          },
          "metadata": {
            "tags": []
          },
          "execution_count": 106
        }
      ]
    },
    {
      "cell_type": "code",
      "metadata": {
        "colab": {
          "base_uri": "https://localhost:8080/"
        },
        "id": "npZIrfbX7ZW7",
        "outputId": "2d72b246-ac35-4ed0-c8cb-bcdde57a91e3"
      },
      "source": [
        "pred_MLP_normal=predictDeepFakeResult(predicted_test_MLP_normal,frame_count_test_fake+frame_count_test_real)\n",
        "print(pred_MLP_normal)"
      ],
      "execution_count": null,
      "outputs": [
        {
          "output_type": "stream",
          "text": [
            "[1, 1, 1, 1, 1, 1, 1, 1, 1, 1, 1, 1, 1, 1, 1, 1, 1, 1, 1, 1, 1, 1, 1, 1, 1, 1, 1, 1, 1, 1, 1, 1, 1, 1, 1, 1, 1, 1, 1, 1, 1, 1, 1, 1, 1, 1, 1, 1, 1, 1]\n"
          ],
          "name": "stdout"
        }
      ]
    },
    {
      "cell_type": "code",
      "metadata": {
        "colab": {
          "base_uri": "https://localhost:8080/"
        },
        "id": "rT7m0y2J7ZNC",
        "outputId": "d38ba0f3-c84f-4a49-f377-6d049ad710e3"
      },
      "source": [
        "\n",
        "accuracy_score(actual_test_label, pred_MLP_normal)"
      ],
      "execution_count": null,
      "outputs": [
        {
          "output_type": "execute_result",
          "data": {
            "text/plain": [
              "0.5"
            ]
          },
          "metadata": {
            "tags": []
          },
          "execution_count": 108
        }
      ]
    },
    {
      "cell_type": "code",
      "metadata": {
        "colab": {
          "base_uri": "https://localhost:8080/"
        },
        "id": "kHdlahk37Y_k",
        "outputId": "d942bcfd-6698-4528-d68a-bc9d14253f03"
      },
      "source": [
        "\n",
        "f1_score(actual_test_label, pred_MLP_normal)"
      ],
      "execution_count": null,
      "outputs": [
        {
          "output_type": "execute_result",
          "data": {
            "text/plain": [
              "0.6666666666666666"
            ]
          },
          "metadata": {
            "tags": []
          },
          "execution_count": 109
        }
      ]
    },
    {
      "cell_type": "code",
      "metadata": {
        "colab": {
          "base_uri": "https://localhost:8080/"
        },
        "id": "ogXNGnNX7Yu9",
        "outputId": "6bfa96ac-3fa1-415b-c505-84e9f6a661c1"
      },
      "source": [
        "\n",
        "log_loss(actual_test_label,pred_MLP_normal)"
      ],
      "execution_count": null,
      "outputs": [
        {
          "output_type": "execute_result",
          "data": {
            "text/plain": [
              "17.26978799617044"
            ]
          },
          "metadata": {
            "tags": []
          },
          "execution_count": 110
        }
      ]
    },
    {
      "cell_type": "markdown",
      "metadata": {
        "id": "TulOTpr4U3N6"
      },
      "source": [
        "##Comparison"
      ]
    },
    {
      "cell_type": "code",
      "metadata": {
        "id": "YJvXN2rCU4rL",
        "colab": {
          "base_uri": "https://localhost:8080/",
          "height": 552
        },
        "outputId": "6301cc51-4e95-49dd-bd70-d3be4749f01d"
      },
      "source": [
        "#BoxPlot for cross validation scores\n",
        "\n",
        "data_MLP = [cvs_MLP_lda, cvs_MLP_pca, cvs_MLP_normal]\n",
        "\n",
        "fig_MLP = plt.figure(figsize =(10, 7))\n",
        "  \n",
        "# Creating axes instance\n",
        "ax_MLP = fig_MLP.add_axes([0, 0, 1, 1])\n",
        "  \n",
        "# Creating plot\n",
        "bp_MLP = ax_MLP.boxplot(data_MLP)\n",
        "  \n",
        "# show plot\n",
        "plt.show()"
      ],
      "execution_count": null,
      "outputs": [
        {
          "output_type": "display_data",
          "data": {
            "image/png": "[encoded data removed]",
            "text/plain": [
              "<Figure size 720x504 with 1 Axes>"
            ]
          },
          "metadata": {
            "tags": [],
            "needs_background": "light"
          }
        }
      ]
    },
    {
      "cell_type": "markdown",
      "metadata": {
        "id": "o7nxvpXUgy9D"
      },
      "source": [
        "##KNN"
      ]
    },
    {
      "cell_type": "code",
      "metadata": {
        "id": "6HNuBsPRg1kp"
      },
      "source": [
        "from sklearn.neighbors import KNeighborsClassifier\n",
        "from sklearn.model_selection import cross_val_score\n",
        "def trainKNN(train_data, label_data, test_data,test_label):\n",
        "  clf = KNeighborsClassifier(n_neighbors=3)\n",
        "  clf.fit(train_data,label_data)\n",
        "  print(clf.score(test_data,test_label))\n",
        "  cvs = cross_val_score(clf, train_data, label_data, cv=5)\n",
        "  print(cvs)\n",
        "  predicted_test = clf.predict(test_data)\n",
        "  return predicted_test, cvs"
      ],
      "execution_count": null,
      "outputs": []
    },
    {
      "cell_type": "markdown",
      "metadata": {
        "id": "yZqmIjQmg6BO"
      },
      "source": [
        "##KNN_LDA"
      ]
    },
    {
      "cell_type": "code",
      "metadata": {
        "colab": {
          "base_uri": "https://localhost:8080/"
        },
        "id": "BTfxuEfihAwg",
        "outputId": "7b66e877-3e81-4e86-8123-abef7fb0cd12"
      },
      "source": [
        "predicted_test_KNN_lda, cvs_KNN_lda =trainKNN(lda_train_data,label_data,lda_test_data,test_label)\n",
        "predicted_test_KNN_lda"
      ],
      "execution_count": null,
      "outputs": [
        {
          "output_type": "stream",
          "text": [
            "0.46994535519125685\n",
            "[0.9893617  0.99111901 0.9946714  0.9946714  0.9982238 ]\n"
          ],
          "name": "stdout"
        },
        {
          "output_type": "execute_result",
          "data": {
            "text/plain": [
              "array([0, 1, 1, ..., 1, 0, 0])"
            ]
          },
          "metadata": {
            "tags": []
          },
          "execution_count": 113
        }
      ]
    },
    {
      "cell_type": "code",
      "metadata": {
        "colab": {
          "base_uri": "https://localhost:8080/"
        },
        "id": "QQFE9LDJhArU",
        "outputId": "0b07a649-6209-4864-ebd2-170f1c5e56be"
      },
      "source": [
        "pred_KNN_lda=predictDeepFakeResult(predicted_test_KNN_lda,frame_count_test_fake+frame_count_test_real)\n",
        "print(pred_KNN_lda)"
      ],
      "execution_count": null,
      "outputs": [
        {
          "output_type": "stream",
          "text": [
            "[1, 0, 0, 1, 0, 0, 1, 1, 1, 1, 1, 1, 0, 0, 0, 0, 0, 1, 1, 1, 1, 1, 1, 1, 1, 1, 0, 0, 1, 1, 1, 0, 0, 1, 1, 0, 0, 1, 1, 0, 0, 1, 1, 0, 1, 1, 1, 1, 1, 1]\n"
          ],
          "name": "stdout"
        }
      ]
    },
    {
      "cell_type": "code",
      "metadata": {
        "colab": {
          "base_uri": "https://localhost:8080/"
        },
        "id": "MOkS5Z_qhAai",
        "outputId": "33cbfc5b-3556-4303-a5a4-c78f2e3e91ec"
      },
      "source": [
        "\n",
        "accuracy_score(actual_test_label, pred_KNN_lda)"
      ],
      "execution_count": null,
      "outputs": [
        {
          "output_type": "execute_result",
          "data": {
            "text/plain": [
              "0.5"
            ]
          },
          "metadata": {
            "tags": []
          },
          "execution_count": 115
        }
      ]
    },
    {
      "cell_type": "code",
      "metadata": {
        "colab": {
          "base_uri": "https://localhost:8080/"
        },
        "id": "MDEH75sbhAW8",
        "outputId": "b15f5539-bee6-463b-cc9d-a63107a9d314"
      },
      "source": [
        "\n",
        "f1_score(actual_test_label, pred_KNN_lda)"
      ],
      "execution_count": null,
      "outputs": [
        {
          "output_type": "execute_result",
          "data": {
            "text/plain": [
              "0.5614035087719298"
            ]
          },
          "metadata": {
            "tags": []
          },
          "execution_count": 116
        }
      ]
    },
    {
      "cell_type": "code",
      "metadata": {
        "colab": {
          "base_uri": "https://localhost:8080/"
        },
        "id": "uPdL_7BehATA",
        "outputId": "19b0a86d-2d68-461a-d58e-f87fa8232fdd"
      },
      "source": [
        "\n",
        "log_loss(actual_test_label,pred_KNN_lda)"
      ],
      "execution_count": null,
      "outputs": [
        {
          "output_type": "execute_result",
          "data": {
            "text/plain": [
              "17.269644068633006"
            ]
          },
          "metadata": {
            "tags": []
          },
          "execution_count": 117
        }
      ]
    },
    {
      "cell_type": "markdown",
      "metadata": {
        "id": "9JOHono1hBeA"
      },
      "source": [
        "##KNN_PCA"
      ]
    },
    {
      "cell_type": "code",
      "metadata": {
        "colab": {
          "base_uri": "https://localhost:8080/"
        },
        "id": "t6JpOxV9hGID",
        "outputId": "b3851891-dcf8-416f-a90e-43e656d6aa39"
      },
      "source": [
        "predicted_test_KNN_pca, cvs_KNN_pca =trainKNN(pca_train_data,label_data,pca_test_data,test_label)\n",
        "predicted_test_KNN_pca"
      ],
      "execution_count": null,
      "outputs": [
        {
          "output_type": "stream",
          "text": [
            "0.578551912568306\n",
            "[0.36702128 0.51332149 0.58436945 0.54884547 0.76376554]\n"
          ],
          "name": "stdout"
        },
        {
          "output_type": "execute_result",
          "data": {
            "text/plain": [
              "array([1, 1, 1, ..., 0, 0, 0])"
            ]
          },
          "metadata": {
            "tags": []
          },
          "execution_count": 118
        }
      ]
    },
    {
      "cell_type": "code",
      "metadata": {
        "colab": {
          "base_uri": "https://localhost:8080/"
        },
        "id": "kOnHQlbFhGEf",
        "outputId": "0e209d1e-deef-4675-d153-16409e726812"
      },
      "source": [
        "pred_KNN_pca=predictDeepFakeResult(predicted_test_KNN_pca,frame_count_test_fake+frame_count_test_real)\n",
        "print(pred_KNN_pca)"
      ],
      "execution_count": null,
      "outputs": [
        {
          "output_type": "stream",
          "text": [
            "[1, 1, 0, 0, 0, 1, 1, 1, 1, 1, 1, 1, 0, 0, 1, 0, 0, 1, 0, 0, 0, 0, 1, 0, 0, 0, 0, 1, 1, 1, 0, 1, 1, 1, 1, 1, 1, 1, 0, 0, 0, 1, 0, 1, 1, 1, 1, 1, 1, 1]\n"
          ],
          "name": "stdout"
        }
      ]
    },
    {
      "cell_type": "code",
      "metadata": {
        "colab": {
          "base_uri": "https://localhost:8080/"
        },
        "id": "DYEHHSGFhF0D",
        "outputId": "e706725e-258b-4e9c-d40c-ea0b0426db0e"
      },
      "source": [
        "\n",
        "accuracy_score(actual_test_label, pred_KNN_pca)"
      ],
      "execution_count": null,
      "outputs": [
        {
          "output_type": "execute_result",
          "data": {
            "text/plain": [
              "0.62"
            ]
          },
          "metadata": {
            "tags": []
          },
          "execution_count": 120
        }
      ]
    },
    {
      "cell_type": "code",
      "metadata": {
        "colab": {
          "base_uri": "https://localhost:8080/"
        },
        "id": "ywJ-mehzhFwm",
        "outputId": "010c0ad6-9bce-4cd7-c2fa-1dc245cd11b3"
      },
      "source": [
        "\n",
        "f1_score(actual_test_label, pred_KNN_pca)"
      ],
      "execution_count": null,
      "outputs": [
        {
          "output_type": "execute_result",
          "data": {
            "text/plain": [
              "0.6545454545454547"
            ]
          },
          "metadata": {
            "tags": []
          },
          "execution_count": 121
        }
      ]
    },
    {
      "cell_type": "code",
      "metadata": {
        "colab": {
          "base_uri": "https://localhost:8080/"
        },
        "id": "8UZ89LbthFtl",
        "outputId": "a1207712-29b5-4eab-88c7-3dfb77f34d07"
      },
      "source": [
        "\n",
        "log_loss(actual_test_label,pred_KNN_pca)"
      ],
      "execution_count": null,
      "outputs": [
        {
          "output_type": "execute_result",
          "data": {
            "text/plain": [
              "13.124926933449306"
            ]
          },
          "metadata": {
            "tags": []
          },
          "execution_count": 122
        }
      ]
    },
    {
      "cell_type": "markdown",
      "metadata": {
        "id": "SeuX_v-n70b5"
      },
      "source": [
        "##KNN_Normal"
      ]
    },
    {
      "cell_type": "code",
      "metadata": {
        "colab": {
          "base_uri": "https://localhost:8080/"
        },
        "id": "i5TNj1Id73ay",
        "outputId": "a2707a2d-57d3-43e4-b30a-43bbe415e02f"
      },
      "source": [
        "predicted_test_KNN_normal, cvs_KNN_normal =trainKNN(train_data,label_data,test_data,test_label)\n",
        "predicted_test_KNN_normal"
      ],
      "execution_count": null,
      "outputs": [
        {
          "output_type": "stream",
          "text": [
            "0.5525956284153005\n",
            "[0.35460993 0.52753108 0.56483126 0.57726465 0.74067496]\n"
          ],
          "name": "stdout"
        },
        {
          "output_type": "execute_result",
          "data": {
            "text/plain": [
              "array([1, 1, 1, ..., 0, 0, 0])"
            ]
          },
          "metadata": {
            "tags": []
          },
          "execution_count": 123
        }
      ]
    },
    {
      "cell_type": "code",
      "metadata": {
        "colab": {
          "base_uri": "https://localhost:8080/"
        },
        "id": "BrU-2uYc73Xa",
        "outputId": "d15d9eb9-0f9c-4d15-cf40-489787d34427"
      },
      "source": [
        "pred_KNN_normal=predictDeepFakeResult(predicted_test_KNN_normal,frame_count_test_fake+frame_count_test_real)\n",
        "print(pred_KNN_normal)"
      ],
      "execution_count": null,
      "outputs": [
        {
          "output_type": "stream",
          "text": [
            "[1, 1, 0, 1, 0, 1, 1, 1, 1, 1, 1, 1, 0, 0, 1, 0, 0, 1, 0, 0, 0, 0, 1, 0, 0, 0, 0, 1, 1, 1, 0, 0, 1, 1, 1, 1, 1, 1, 0, 0, 0, 1, 0, 1, 1, 0, 1, 1, 1, 1]\n"
          ],
          "name": "stdout"
        }
      ]
    },
    {
      "cell_type": "code",
      "metadata": {
        "colab": {
          "base_uri": "https://localhost:8080/"
        },
        "id": "MFiuf42173GS",
        "outputId": "de000556-a221-4f06-a944-5e85ca2f5360"
      },
      "source": [
        "\n",
        "accuracy_score(actual_test_label, pred_KNN_normal)"
      ],
      "execution_count": null,
      "outputs": [
        {
          "output_type": "execute_result",
          "data": {
            "text/plain": [
              "0.56"
            ]
          },
          "metadata": {
            "tags": []
          },
          "execution_count": 125
        }
      ]
    },
    {
      "cell_type": "code",
      "metadata": {
        "colab": {
          "base_uri": "https://localhost:8080/"
        },
        "id": "XB6duBCm73DS",
        "outputId": "bfe24138-72de-420e-d44a-0484edab4635"
      },
      "source": [
        "\n",
        "f1_score(actual_test_label, pred_KNN_normal)"
      ],
      "execution_count": null,
      "outputs": [
        {
          "output_type": "execute_result",
          "data": {
            "text/plain": [
              "0.5925925925925927"
            ]
          },
          "metadata": {
            "tags": []
          },
          "execution_count": 126
        }
      ]
    },
    {
      "cell_type": "code",
      "metadata": {
        "colab": {
          "base_uri": "https://localhost:8080/"
        },
        "id": "GE2ZBvLI72-d",
        "outputId": "893d8870-70b0-4b4f-f02c-0804297bcf83"
      },
      "source": [
        "\n",
        "log_loss(actual_test_label,pred_KNN_normal)"
      ],
      "execution_count": null,
      "outputs": [
        {
          "output_type": "execute_result",
          "data": {
            "text/plain": [
              "15.197269509092553"
            ]
          },
          "metadata": {
            "tags": []
          },
          "execution_count": 127
        }
      ]
    },
    {
      "cell_type": "markdown",
      "metadata": {
        "id": "1O7IQOR1U-FC"
      },
      "source": [
        "##Comparison"
      ]
    },
    {
      "cell_type": "code",
      "metadata": {
        "id": "hARD43uvU_i9",
        "colab": {
          "base_uri": "https://localhost:8080/",
          "height": 552
        },
        "outputId": "4e744df6-8fde-4c79-fb1c-40159917dbea"
      },
      "source": [
        "#BoxPlot for cross validation scores\n",
        "\n",
        "data_KNN = [cvs_KNN_lda, cvs_KNN_pca, cvs_KNN_normal]\n",
        "\n",
        "fig_KNN = plt.figure(figsize =(10, 7))\n",
        "  \n",
        "# Creating axes instance\n",
        "ax_KNN = fig_KNN.add_axes([0, 0, 1, 1])\n",
        "  \n",
        "# Creating plot\n",
        "bp_KNN = ax_KNN.boxplot(data_KNN)\n",
        "  \n",
        "# show plot\n",
        "plt.show()"
      ],
      "execution_count": null,
      "outputs": [
        {
          "output_type": "display_data",
          "data": {
            "image/png": "[encoded data removed]",
            "text/plain": [
              "<Figure size 720x504 with 1 Axes>"
            ]
          },
          "metadata": {
            "tags": [],
            "needs_background": "light"
          }
        }
      ]
    },
    {
      "cell_type": "markdown",
      "metadata": {
        "id": "HVrMP3wwV2w_"
      },
      "source": [
        "##Comparison for LDAs"
      ]
    },
    {
      "cell_type": "code",
      "metadata": {
        "id": "znabxcXnV5CN",
        "colab": {
          "base_uri": "https://localhost:8080/",
          "height": 552
        },
        "outputId": "d66ea2e3-7483-41eb-865e-70e6756455fd"
      },
      "source": [
        "#BoxPlot for cross validation scores\n",
        "\n",
        "data_LDA = [cvs_SVC_lda, cvs_MLP_lda, cvs_KNN_lda]\n",
        "\n",
        "fig_LDA = plt.figure(figsize =(10, 7))\n",
        "  \n",
        "# Creating axes instance\n",
        "ax_LDA = fig_LDA.add_axes([0, 0, 1, 1])\n",
        "  \n",
        "# Creating plot\n",
        "bp_LDA = ax_LDA.boxplot(data_LDA)\n",
        "  \n",
        "# show plot\n",
        "plt.show()"
      ],
      "execution_count": null,
      "outputs": [
        {
          "output_type": "display_data",
          "data": {
            "image/png": "[encoded data removed]",
            "text/plain": [
              "<Figure size 720x504 with 1 Axes>"
            ]
          },
          "metadata": {
            "tags": [],
            "needs_background": "light"
          }
        }
      ]
    },
    {
      "cell_type": "markdown",
      "metadata": {
        "id": "SAjZYsWsWJjU"
      },
      "source": [
        "##Comparison for PCAs"
      ]
    },
    {
      "cell_type": "code",
      "metadata": {
        "id": "MMsm1wQJWG1e",
        "colab": {
          "base_uri": "https://localhost:8080/",
          "height": 552
        },
        "outputId": "4b7eded4-cb67-4370-d2c4-16e8ab80e215"
      },
      "source": [
        "#BoxPlot for cross validation scores\n",
        "\n",
        "data_PCA = [cvs_SVC_pca, cvs_MLP_pca, cvs_KNN_pca]\n",
        "\n",
        "fig_PCA = plt.figure(figsize =(10, 7))\n",
        "  \n",
        "# Creating axes instance\n",
        "ax_PCA = fig_PCA.add_axes([0, 0, 1, 1])\n",
        "  \n",
        "# Creating plot\n",
        "bp_PCA = ax_PCA.boxplot(data_PCA)\n",
        "  \n",
        "# show plot\n",
        "plt.show()"
      ],
      "execution_count": null,
      "outputs": [
        {
          "output_type": "display_data",
          "data": {
            "image/png": "[encoded data removed]",
            "text/plain": [
              "<Figure size 720x504 with 1 Axes>"
            ]
          },
          "metadata": {
            "tags": [],
            "needs_background": "light"
          }
        }
      ]
    },
    {
      "cell_type": "markdown",
      "metadata": {
        "id": "eHgSIOqkWfvR"
      },
      "source": [
        "##Comparison for Normals"
      ]
    },
    {
      "cell_type": "code",
      "metadata": {
        "id": "KNdzB59uWffe",
        "colab": {
          "base_uri": "https://localhost:8080/",
          "height": 552
        },
        "outputId": "1ca6baee-952b-4ae9-ac3d-c329b4c38d34"
      },
      "source": [
        "#BoxPlot for cross validation scores\n",
        "\n",
        "data_NORMAL = [cvs_SVC_normal, cvs_MLP_normal, cvs_KNN_normal]\n",
        "\n",
        "fig_NORMAL = plt.figure(figsize =(10, 7))\n",
        "  \n",
        "# Creating axes instance\n",
        "ax_NORMAL = fig_NORMAL.add_axes([0, 0, 1, 1])\n",
        "  \n",
        "# Creating plot\n",
        "bp_NORMAL = ax_NORMAL.boxplot(data_NORMAL)\n",
        "  \n",
        "# show plot\n",
        "plt.show()"
      ],
      "execution_count": null,
      "outputs": [
        {
          "output_type": "display_data",
          "data": {
            "image/png": "[encoded data removed]",
            "text/plain": [
              "<Figure size 720x504 with 1 Axes>"
            ]
          },
          "metadata": {
            "tags": [],
            "needs_background": "light"
          }
        }
      ]
    },
    {
      "cell_type": "markdown",
      "metadata": {
        "id": "YJfrWtQun06O"
      },
      "source": [
        "##CNN"
      ]
    },
    {
      "cell_type": "code",
      "metadata": {
        "id": "iFVp8d1jn2G7"
      },
      "source": [
        "def createImageArray(path_list):\n",
        "  img_list = []\n",
        "  for path in path_list:\n",
        "    img = cv2.imread(path)\n",
        "    img_list.append(img)\n",
        "  return img_list"
      ],
      "execution_count": null,
      "outputs": []
    },
    {
      "cell_type": "code",
      "metadata": {
        "id": "b4AqC9IkqPHw"
      },
      "source": [
        "# train_images_dlib_CNN = createImageArray(processedImagePath_Train_Fake_dlib + processedImagePath_Train_Real_dlib)\n",
        "train_images_dlib_CNN = createImageArray(processedImagePath_Train_Real_dlib + processedImagePath_Train_Fake_dlib )"
      ],
      "execution_count": null,
      "outputs": []
    },
    {
      "cell_type": "code",
      "metadata": {
        "id": "FzAruM6xqutr"
      },
      "source": [
        "train_images_dlib_label_CNN = [1]*len(processedImagePath_Train_Real_dlib) + [0]*len(processedImagePath_Train_Fake_dlib) "
      ],
      "execution_count": null,
      "outputs": []
    },
    {
      "cell_type": "code",
      "metadata": {
        "id": "-UJ2PyDsx2Cc"
      },
      "source": [
        "val_images_dlib_CNN = createImageArray(processedImagePath_Val_Fake_dlib + processedImagePath_Val_Real_dlib)"
      ],
      "execution_count": null,
      "outputs": []
    },
    {
      "cell_type": "code",
      "metadata": {
        "id": "LYVutGphx69I"
      },
      "source": [
        "val_images_dlib_label_CNN = [0]*len(processedImagePath_Val_Fake_dlib) + [1]*len(processedImagePath_Val_Real_dlib)"
      ],
      "execution_count": null,
      "outputs": []
    },
    {
      "cell_type": "code",
      "metadata": {
        "id": "wOE15_exyG80"
      },
      "source": [
        "test_images_dlib_CNN = createImageArray(processedImagePath_Test_Fake_dlib + processedImagePath_Test_Real_dlib)"
      ],
      "execution_count": null,
      "outputs": []
    },
    {
      "cell_type": "code",
      "metadata": {
        "id": "1-dDseLXyOgr"
      },
      "source": [
        "test_images_dlib_label_CNN = [0]*len(processedImagePath_Test_Fake_dlib) + [1]*len(processedImagePath_Test_Real_dlib)"
      ],
      "execution_count": null,
      "outputs": []
    },
    {
      "cell_type": "code",
      "metadata": {
        "id": "DnFqWTErPMhK"
      },
      "source": [
        "train_images_dlib_CNN_noise = createImageArray(processedImagePath_Train_Real_dlib_noise + processedImagePath_Train_Fake_dlib_noise )"
      ],
      "execution_count": null,
      "outputs": []
    },
    {
      "cell_type": "code",
      "metadata": {
        "id": "UewLGvrgS94f"
      },
      "source": [
        "train_images_dlib_label_CNN_noise = [1]*len(processedImagePath_Train_Real_dlib_noise) + [0]*len(processedImagePath_Train_Fake_dlib_noise) "
      ],
      "execution_count": null,
      "outputs": []
    },
    {
      "cell_type": "code",
      "metadata": {
        "id": "A7VGfBy2PUAF"
      },
      "source": [
        "# processedImagePath_Train"
      ],
      "execution_count": null,
      "outputs": []
    },
    {
      "cell_type": "code",
      "metadata": {
        "id": "_WvvwR0uzhZi"
      },
      "source": [
        "train_images_dlib_CNN = np.array(train_images_dlib_CNN)\n",
        "train_images_dlib_label_CNN = np.array(train_images_dlib_label_CNN)\n",
        "val_images_dlib_CNN = np.array(val_images_dlib_CNN)\n",
        "val_images_dlib_label_CNN  = np.array(val_images_dlib_label_CNN )"
      ],
      "execution_count": null,
      "outputs": []
    },
    {
      "cell_type": "code",
      "metadata": {
        "id": "v2na3TRMylQL"
      },
      "source": [
        "test_images_dlib_CNN = np.array(test_images_dlib_CNN)\n",
        "test_images_dlib_label_CNN  = np.array(test_images_dlib_label_CNN )"
      ],
      "execution_count": null,
      "outputs": []
    },
    {
      "cell_type": "code",
      "metadata": {
        "id": "C2kYNO69S3xt"
      },
      "source": [
        "train_images_dlib_CNN_noise = np.array(train_images_dlib_CNN_noise)\n",
        "train_images_dlib_label_CNN_noise = np.array(train_images_dlib_label_CNN_noise)"
      ],
      "execution_count": null,
      "outputs": []
    },
    {
      "cell_type": "code",
      "metadata": {
        "id": "-cFcBhbrriCW"
      },
      "source": [
        "import keras\n",
        "from keras.models import Sequential,Input,Model\n",
        "from keras.layers import Dense, Dropout, Flatten\n",
        "from keras.layers import Conv2D, MaxPooling2D\n",
        "from keras.layers.normalization import BatchNormalization\n",
        "from keras.layers.advanced_activations import LeakyReLU\n",
        "import tensorflow as tf"
      ],
      "execution_count": null,
      "outputs": []
    },
    {
      "cell_type": "code",
      "metadata": {
        "id": "5H2SwX_xrijo"
      },
      "source": [
        "batch_size = 100\n",
        "epochs = 20\n",
        "num_classes = 2"
      ],
      "execution_count": null,
      "outputs": []
    },
    {
      "cell_type": "code",
      "metadata": {
        "id": "WBkaA97Jrkkv"
      },
      "source": [
        "# cnn = Sequential()\n",
        "\n",
        "# cnn.add(Conv2D(32, kernel_size=(3, 3),activation='linear',input_shape=(64,64,3),padding='same'))\n",
        "# cnn.add(LeakyReLU(alpha=0.1))\n",
        "# cnn.add(MaxPooling2D((2, 2),padding='same'))\n",
        "# cnn.add(Conv2D(64, (3, 3), activation='linear',padding='same'))\n",
        "# cnn.add(LeakyReLU(alpha=0.1))\n",
        "# cnn.add(MaxPooling2D(pool_size=(2, 2),padding='same'))\n",
        "# cnn.add(Conv2D(128, (3, 3), activation='linear',padding='same'))\n",
        "# cnn.add(LeakyReLU(alpha=0.1))                  \n",
        "# cnn.add(MaxPooling2D(pool_size=(2, 2),padding='same'))\n",
        "# cnn.add(Flatten())\n",
        "# cnn.add(Dense(128, activation='linear'))\n",
        "# cnn.add(LeakyReLU(alpha=0.1))                  \n",
        "# cnn.add(Dense(num_classes, activation='softmax'))\n",
        "\n",
        "\n",
        "classifier = Sequential()\n",
        "classifier.add(Conv2D(32, (3, 3), input_shape = (64, 64, 3), activation = 'relu'))\n",
        "classifier.add(MaxPooling2D(pool_size = (2, 2)))\n",
        "classifier.add(Dropout(0.25))\n",
        "\n",
        "classifier.add(Conv2D(64, (3, 3), activation='linear',padding='same'))\n",
        "classifier.add(MaxPooling2D((2, 2),padding='same'))\n",
        "classifier.add(Dropout(0.25))\n",
        "\n",
        "classifier.add(Conv2D(128, (3, 3), activation='linear',padding='same'))\n",
        "classifier.add(Dropout(0.4))\n",
        "\n",
        "# classifier.add(LeakyReLU(alpha=0.1))  \n",
        "classifier.add(Flatten())\n",
        "# classifier.add(Dense(2, activation='softmax'))\n",
        "# classifier.add(Dense(units = 128, activation = 'relu'))\n",
        "# classifier.add(Dense(units = 1, activation = 'sigmoid'))\n",
        "# classifier.add(keras.layers.Dense(1, activation=tf.nn.softmax))\n",
        "# classifier.add(keras.layers.Activation('sigmoid'))\n",
        "classifier.add(Dropout(0.3))\n",
        "\n",
        "classifier.add(keras.layers.Activation('sigmoid'))\n",
        "classifier.compile(optimizer = 'adam', loss = 'binary_crossentropy', metrics = ['accuracy'])"
      ],
      "execution_count": null,
      "outputs": []
    },
    {
      "cell_type": "code",
      "metadata": {
        "id": "vz79Lm_esmUE"
      },
      "source": [
        "# cnn.compile(loss=keras.losses.categorical_crossentropy, optimizer=keras.optimizers.Adam(),metrics=['accuracy'])\n",
        "classifier.compile(loss=keras.losses.categorical_crossentropy, optimizer=keras.optimizers.Adam(),metrics=['accuracy'])"
      ],
      "execution_count": null,
      "outputs": []
    },
    {
      "cell_type": "code",
      "metadata": {
        "colab": {
          "base_uri": "https://localhost:8080/"
        },
        "id": "ZBMfKV2wsoEu",
        "outputId": "8fce690d-abb7-4173-d195-888e9f348fdf"
      },
      "source": [
        "# cnn.summary()\n",
        "classifier.summary()"
      ],
      "execution_count": null,
      "outputs": [
        {
          "output_type": "stream",
          "text": [
            "Model: \"sequential_11\"\n",
            "_________________________________________________________________\n",
            "Layer (type)                 Output Shape              Param #   \n",
            "=================================================================\n",
            "conv2d_33 (Conv2D)           (None, 62, 62, 32)        896       \n",
            "_________________________________________________________________\n",
            "max_pooling2d_22 (MaxPooling (None, 31, 31, 32)        0         \n",
            "_________________________________________________________________\n",
            "dropout_38 (Dropout)         (None, 31, 31, 32)        0         \n",
            "_________________________________________________________________\n",
            "conv2d_34 (Conv2D)           (None, 31, 31, 64)        18496     \n",
            "_________________________________________________________________\n",
            "max_pooling2d_23 (MaxPooling (None, 16, 16, 64)        0         \n",
            "_________________________________________________________________\n",
            "dropout_39 (Dropout)         (None, 16, 16, 64)        0         \n",
            "_________________________________________________________________\n",
            "conv2d_35 (Conv2D)           (None, 16, 16, 128)       73856     \n",
            "_________________________________________________________________\n",
            "dropout_40 (Dropout)         (None, 16, 16, 128)       0         \n",
            "_________________________________________________________________\n",
            "flatten_11 (Flatten)         (None, 32768)             0         \n",
            "_________________________________________________________________\n",
            "dropout_41 (Dropout)         (None, 32768)             0         \n",
            "_________________________________________________________________\n",
            "activation_5 (Activation)    (None, 32768)             0         \n",
            "=================================================================\n",
            "Total params: 93,248\n",
            "Trainable params: 93,248\n",
            "Non-trainable params: 0\n",
            "_________________________________________________________________\n"
          ],
          "name": "stdout"
        }
      ]
    },
    {
      "cell_type": "code",
      "metadata": {
        "id": "i7qoXWXsyuft"
      },
      "source": [
        "train_images_dlib_CNN = train_images_dlib_CNN.astype('float32')\n",
        "val_images_dlib_CNN = val_images_dlib_CNN.astype('float32')\n",
        "train_images_dlib_CNN  = train_images_dlib_CNN  / 255.\n",
        "val_images_dlib_CNN = val_images_dlib_CNN / 255."
      ],
      "execution_count": null,
      "outputs": []
    },
    {
      "cell_type": "code",
      "metadata": {
        "id": "HUheovylyXSc"
      },
      "source": [
        "test_images_dlib_CNN = test_images_dlib_CNN.astype('float32')\n",
        "test_images_dlib_CNN  = test_images_dlib_CNN  / 255"
      ],
      "execution_count": null,
      "outputs": []
    },
    {
      "cell_type": "code",
      "metadata": {
        "id": "FZvQlPnfTNZB"
      },
      "source": [
        "train_images_dlib_CNN_noise = train_images_dlib_CNN_noise.astype('float32')\n",
        "train_images_dlib_CNN_noise  = train_images_dlib_CNN_noise / 255"
      ],
      "execution_count": null,
      "outputs": []
    },
    {
      "cell_type": "code",
      "metadata": {
        "id": "UVlvr-Xns0bu"
      },
      "source": [
        "# train_cnn = cnn.fit(train_images_dlib_CNN, train_images_dlib_label_CNN, batch_size=batch_size,epochs=epochs,verbose=1,validation_data=(val_images_dlib_CNN, val_images_dlib_label_CNN))\n",
        "train_cnn = classifier.fit(train_images_dlib_CNN, train_images_dlib_label_CNN, batch_size=batch_size,epochs=epochs,verbose=1,validation_data=(val_images_dlib_CNN, val_images_dlib_label_CNN),validation_steps = 2000)"
      ],
      "execution_count": null,
      "outputs": []
    },
    {
      "cell_type": "code",
      "metadata": {
        "id": "243zYLr4vTCE"
      },
      "source": [
        "predicted_test_CNN= classifier.predict(test_images_dlib_CNN)"
      ],
      "execution_count": null,
      "outputs": []
    },
    {
      "cell_type": "code",
      "metadata": {
        "id": "_wA8kIXuzm8t"
      },
      "source": [
        "pred_CNN_dlib = predictDeepFakeResult(predicted_test_CNN,frame_count_test_fake+frame_count_test_real)"
      ],
      "execution_count": null,
      "outputs": []
    },
    {
      "cell_type": "code",
      "metadata": {
        "colab": {
          "base_uri": "https://localhost:8080/"
        },
        "id": "LeZcFYccKOh4",
        "outputId": "0bb2fd70-192a-414b-9870-36fb61dc1340"
      },
      "source": [
        "print(pred_CNN_dlib)"
      ],
      "execution_count": null,
      "outputs": [
        {
          "output_type": "stream",
          "text": [
            "[0, 0, 0, 0, 0, 0, 0, 0, 0, 0, 0, 0, 0, 0, 0, 0, 0, 0, 0, 0, 0, 0, 0, 0, 0, 0, 0, 0, 0, 0, 0, 0, 0, 0, 0, 0, 0, 0, 0, 0, 0, 0, 0, 0, 0, 0, 0, 0, 0, 0]\n"
          ],
          "name": "stdout"
        }
      ]
    },
    {
      "cell_type": "code",
      "metadata": {
        "colab": {
          "base_uri": "https://localhost:8080/"
        },
        "id": "4pdCwkcFz_6p",
        "outputId": "2800f258-f7e5-4496-cf4c-7e4009843333"
      },
      "source": [
        "from sklearn.metrics import accuracy_score\n",
        "accuracy_score(actual_test_label, pred_CNN_dlib)"
      ],
      "execution_count": null,
      "outputs": [
        {
          "output_type": "execute_result",
          "data": {
            "text/plain": [
              "0.5"
            ]
          },
          "metadata": {
            "tags": []
          },
          "execution_count": 69
        }
      ]
    },
    {
      "cell_type": "code",
      "metadata": {
        "colab": {
          "base_uri": "https://localhost:8080/"
        },
        "id": "IrZrBWkP0SGl",
        "outputId": "672b9c64-6f04-4d36-df10-e42429b4364e"
      },
      "source": [
        "from sklearn.metrics import f1_score\n",
        "f1_score(actual_test_label, pred_CNN_dlib)"
      ],
      "execution_count": null,
      "outputs": [
        {
          "output_type": "execute_result",
          "data": {
            "text/plain": [
              "0.0"
            ]
          },
          "metadata": {
            "tags": []
          },
          "execution_count": 70
        }
      ]
    },
    {
      "cell_type": "code",
      "metadata": {
        "colab": {
          "base_uri": "https://localhost:8080/"
        },
        "id": "schQ2QIu0ZhH",
        "outputId": "1dbfbfb7-01ec-44c5-9c92-e27777ab65f1"
      },
      "source": [
        "from sklearn.metrics import log_loss\n",
        "log_loss(actual_test_label, pred_CNN_dlib)"
      ],
      "execution_count": null,
      "outputs": [
        {
          "output_type": "execute_result",
          "data": {
            "text/plain": [
              "17.269388197455342"
            ]
          },
          "metadata": {
            "tags": []
          },
          "execution_count": 71
        }
      ]
    },
    {
      "cell_type": "markdown",
      "metadata": {
        "id": "GK8ofE3D6AOc"
      },
      "source": [
        "##InceptionResnetV2"
      ]
    },
    {
      "cell_type": "code",
      "metadata": {
        "id": "qtUOr5TJ76UI"
      },
      "source": [
        "from tensorflow.keras.applications import InceptionResNetV2\n",
        "from tensorflow.keras.layers import Conv2D\n",
        "from tensorflow.keras.layers import MaxPooling2D\n",
        "from tensorflow.keras.layers import Flatten\n",
        "from tensorflow.keras.layers import Dense\n",
        "from tensorflow.keras.layers import Dropout\n",
        "from tensorflow.keras.layers import InputLayer\n",
        "from tensorflow.keras.layers import GlobalAveragePooling2D\n",
        "from tensorflow.keras.models import Sequential\n",
        "from tensorflow.keras.models import Model\n",
        "from tensorflow.keras import optimizers\n",
        "from tensorflow.keras.callbacks import ReduceLROnPlateau, EarlyStopping\n",
        "from tensorflow.keras.utils import to_categorical"
      ],
      "execution_count": null,
      "outputs": []
    },
    {
      "cell_type": "code",
      "metadata": {
        "id": "Oc_v1XLn6LoB"
      },
      "source": [
        "def resizingImages(img_list):\n",
        "  newImgList=[]\n",
        "  for i in img_list:\n",
        "    img = cv2.resize(i,(128, 128), interpolation=cv2.INTER_CUBIC)\n",
        "    newImgList.append(img)\n",
        "  return np.array(newImgList)"
      ],
      "execution_count": null,
      "outputs": []
    },
    {
      "cell_type": "code",
      "metadata": {
        "id": "hcNKMVf2-3lG"
      },
      "source": [
        "train_Resizedimages_dlib_label = [0]*len(processedImagePath_Train_Fake_dlib) + [1]*len(processedImagePath_Train_Real_dlib)\n",
        "train_Resizedimages_dlib_label = to_categorical(train_Resizedimages_dlib_label,2)\n",
        "val_Resizedimages_dlib_label = [0]*len(processedImagePath_Val_Fake_dlib) + [1]*len(processedImagePath_Val_Real_dlib)\n",
        "val_Resizedimages_dlib_label = to_categorical(val_Resizedimages_dlib_label,2)\n",
        "test_Resizedimages_dlib_label = [0]*len(processedImagePath_Test_Fake_dlib) + [1]*len(processedImagePath_Test_Real_dlib)\n",
        "test_Resizedimages_dlib_label = to_categorical(test_Resizedimages_dlib_label,2)\n",
        "# train_images_dlib_label_CNN = [[1,0] for i in range(len(processedImagePath_Train_Fake_dlib))] + [[0,1] for i in range(len(processedImagePath_Train_Real_dlib))]\n",
        "# val_images_dlib_label_CNN = [[1,0] for i in range(len(processedImagePath_Val_Fake_dlib))] + [[0,1] for i in range(len(processedImagePath_Val_Real_dlib))]\n",
        "# print(train_images_dlib_label_CNN)"
      ],
      "execution_count": null,
      "outputs": []
    },
    {
      "cell_type": "code",
      "metadata": {
        "id": "eLoZDB5KUzBo"
      },
      "source": [
        "train_Resizedimages_dlib_label_noise = [0]*len(processedImagePath_Train_Fake_dlib_noise) + [1]*len(processedImagePath_Train_Real_dlib_noise)"
      ],
      "execution_count": null,
      "outputs": []
    },
    {
      "cell_type": "code",
      "metadata": {
        "colab": {
          "base_uri": "https://localhost:8080/"
        },
        "id": "mUCL-iN9I5R0",
        "outputId": "8f90b354-6522-49e7-c948-56e4d66f3f7a"
      },
      "source": [
        "print(train_Resizedimages_dlib_label)"
      ],
      "execution_count": null,
      "outputs": [
        {
          "output_type": "stream",
          "text": [
            "[[1. 0.]\n",
            " [1. 0.]\n",
            " [1. 0.]\n",
            " ...\n",
            " [0. 1.]\n",
            " [0. 1.]\n",
            " [0. 1.]]\n"
          ],
          "name": "stdout"
        }
      ]
    },
    {
      "cell_type": "code",
      "metadata": {
        "id": "vWNvyYWM6LF1"
      },
      "source": [
        "train_Resizedimages_dlib = resizingImages(train_images_dlib_CNN)\n",
        "# train_Resizedimages_dlib_label = np.array(train_images_dlib_label_CNN)\n",
        "val_Resizedimages_dlib = resizingImages(val_images_dlib_CNN)\n",
        "# val_Resizedimages_dlib_label = np.array(val_images_dlib_label_CNN )"
      ],
      "execution_count": null,
      "outputs": []
    },
    {
      "cell_type": "code",
      "metadata": {
        "id": "dtsbNXSrEwN2"
      },
      "source": [
        "# test_images_dlib_label_CNN = [[1,0] for i in range(len(processedImagePath_Test_Fake_dlib))] + [[0,1] for i in range(len(processedImagePath_Test_Real_dlib))]\n",
        "test_Resizedimages_dlib = resizingImages(test_images_dlib_CNN)\n",
        "# test_Resizedimages_dlib_label  = np.array(test_images_dlib_label_CNN )"
      ],
      "execution_count": null,
      "outputs": []
    },
    {
      "cell_type": "code",
      "metadata": {
        "id": "4J6luTLVTjRj"
      },
      "source": [
        "train_Resizedimages_dlib_noise = resizingImages(train_images_dlib_CNN_noise)"
      ],
      "execution_count": null,
      "outputs": []
    },
    {
      "cell_type": "code",
      "metadata": {
        "id": "w2gzOTPE7d0U"
      },
      "source": [
        "train_Resizedimages_dlib = train_Resizedimages_dlib.astype('float32')\n",
        "val_Resizedimages_dlib = val_Resizedimages_dlib.astype('float32')\n",
        "train_Resizedimages_dlib  = train_Resizedimages_dlib  / 255.\n",
        "val_Resizedimages_dlib = val_Resizedimages_dlib / 255."
      ],
      "execution_count": null,
      "outputs": []
    },
    {
      "cell_type": "code",
      "metadata": {
        "id": "bT76SoGcFc-0"
      },
      "source": [
        "test_Resizedimages_dlib = test_Resizedimages_dlib.astype('float32')\n",
        "test_Resizedimages_dlib = test_Resizedimages_dlib / 255"
      ],
      "execution_count": null,
      "outputs": []
    },
    {
      "cell_type": "code",
      "metadata": {
        "id": "3q__iWinTfjD"
      },
      "source": [
        "train_Resizedimages_dlib_noise = train_Resizedimages_dlib_noise.astype('float32')\n",
        "train_Resizedimages_dlib_noise  = train_Resizedimages_dlib_noise / 255."
      ],
      "execution_count": null,
      "outputs": []
    },
    {
      "cell_type": "code",
      "metadata": {
        "id": "hh8t1_bwwvVU"
      },
      "source": [
        "x = []\n",
        "# train_Resizedimages_dlib_label_noise_list = []\n",
        "train_Resizedimages_dlib_label_list = []\n",
        "\n",
        "# for i in range(len(train_Resizedimages_dlib_label_noise)):\n",
        "#   train_Resizedimages_dlib_label_noise_list.append(list(train_Resizedimages_dlib_label_noise[i]))\n",
        "\n",
        "for i in range(len(train_Resizedimages_dlib_label)):\n",
        "  train_Resizedimages_dlib_label_list.append(list(train_Resizedimages_dlib_label[i]))\n",
        "x = train_Resizedimages_dlib_label_list\n",
        "\n",
        "s = train_Resizedimages_dlib_label_noise\n",
        "\n",
        "for i in range(len(s)):\n",
        "  if(s[i]==1):\n",
        "    x.append([0,1])\n",
        "  else:\n",
        "    x.append([1,0])\n"
      ],
      "execution_count": null,
      "outputs": []
    },
    {
      "cell_type": "code",
      "metadata": {
        "colab": {
          "base_uri": "https://localhost:8080/"
        },
        "id": "BlxQH0Is6DZA",
        "outputId": "1f821565-4b7d-4d35-8459-10ddf3ad299c"
      },
      "source": [
        "googleNet_model = InceptionResNetV2(include_top=False, weights='imagenet', input_shape=(128,128,3))\n",
        "googleNet_model.trainable = True\n",
        "model = Sequential()\n",
        "model.add(googleNet_model)\n",
        "model.add(GlobalAveragePooling2D())\n",
        "model.add(Dense(units=2, activation='softmax'))\n",
        "model.compile(loss='binary_crossentropy',\n",
        "              optimizer=optimizers.Adam(lr=1e-5, beta_1=0.9, beta_2=0.999, epsilon=None, decay=0.0, amsgrad=False),\n",
        "              metrics=['accuracy'])\n",
        "model.summary()"
      ],
      "execution_count": null,
      "outputs": [
        {
          "output_type": "stream",
          "text": [
            "Model: \"sequential_12\"\n",
            "_________________________________________________________________\n",
            "Layer (type)                 Output Shape              Param #   \n",
            "=================================================================\n",
            "inception_resnet_v2 (Functio (None, 2, 2, 1536)        54336736  \n",
            "_________________________________________________________________\n",
            "global_average_pooling2d_4 ( (None, 1536)              0         \n",
            "_________________________________________________________________\n",
            "dense_28 (Dense)             (None, 2)                 3074      \n",
            "=================================================================\n",
            "Total params: 54,339,810\n",
            "Trainable params: 54,279,266\n",
            "Non-trainable params: 60,544\n",
            "_________________________________________________________________\n"
          ],
          "name": "stdout"
        }
      ]
    },
    {
      "cell_type": "code",
      "metadata": {
        "colab": {
          "base_uri": "https://localhost:8080/"
        },
        "id": "wH95aOLQl1X9",
        "outputId": "7e602edb-3922-49a9-ec64-0eb774db4526"
      },
      "source": [
        "len(train_data)"
      ],
      "execution_count": null,
      "outputs": [
        {
          "output_type": "execute_result",
          "data": {
            "text/plain": [
              "2816"
            ]
          },
          "metadata": {
            "tags": []
          },
          "execution_count": 355
        }
      ]
    },
    {
      "cell_type": "code",
      "metadata": {
        "colab": {
          "base_uri": "https://localhost:8080/"
        },
        "id": "2bKYA6VEtxFW",
        "outputId": "efa29a63-f4a3-4a4e-ff5f-0fb2a1d0a12c"
      },
      "source": [
        "len(x)"
      ],
      "execution_count": null,
      "outputs": [
        {
          "output_type": "execute_result",
          "data": {
            "text/plain": [
              "5632"
            ]
          },
          "metadata": {
            "tags": []
          },
          "execution_count": 356
        }
      ]
    },
    {
      "cell_type": "code",
      "metadata": {
        "id": "yLdH_5Qbt_TP"
      },
      "source": [
        "train_data[0]"
      ],
      "execution_count": null,
      "outputs": []
    },
    {
      "cell_type": "code",
      "metadata": {
        "colab": {
          "base_uri": "https://localhost:8080/"
        },
        "id": "K_C1kfbxvWoc",
        "outputId": "54d6a368-6bd4-4322-8946-35697b6af069"
      },
      "source": [
        "type(train_Resizedimages_dlib)"
      ],
      "execution_count": null,
      "outputs": [
        {
          "output_type": "execute_result",
          "data": {
            "text/plain": [
              "numpy.ndarray"
            ]
          },
          "metadata": {
            "tags": []
          },
          "execution_count": 368
        }
      ]
    },
    {
      "cell_type": "code",
      "metadata": {
        "colab": {
          "base_uri": "https://localhost:8080/"
        },
        "id": "45fP94bP7_kl",
        "outputId": "1bffa0ee-9193-450c-d7c7-3a669de63a3a"
      },
      "source": [
        "EPOCHS = 5\n",
        "BATCH_SIZE = 16\n",
        "\n",
        "# history = model.fit(train_Resizedimages_dlib, train_Resizedimages_dlib_label, batch_size = BATCH_SIZE, epochs = EPOCHS, validation_data = (val_Resizedimages_dlib, val_Resizedimages_dlib_label), verbose = 1)\n",
        "history = model.fit(np.array(train_list), np.array(x), batch_size = BATCH_SIZE, epochs = EPOCHS, validation_data = (val_Resizedimages_dlib, val_Resizedimages_dlib_label), verbose = 1)"
      ],
      "execution_count": 378,
      "outputs": [
        {
          "output_type": "stream",
          "text": [
            "Epoch 1/5\n",
            "352/352 [==============================] - 72s 147ms/step - loss: 0.7350 - accuracy: 0.4997 - val_loss: 0.9866 - val_accuracy: 0.3896\n",
            "Epoch 2/5\n",
            "352/352 [==============================] - 48s 137ms/step - loss: 0.6173 - accuracy: 0.6239 - val_loss: 1.4075 - val_accuracy: 0.3238\n",
            "Epoch 3/5\n",
            "352/352 [==============================] - 48s 138ms/step - loss: 0.5677 - accuracy: 0.6556 - val_loss: 1.8490 - val_accuracy: 0.2775\n",
            "Epoch 4/5\n",
            "352/352 [==============================] - 48s 136ms/step - loss: 0.5115 - accuracy: 0.6812 - val_loss: 2.0687 - val_accuracy: 0.3048\n",
            "Epoch 5/5\n",
            "352/352 [==============================] - 48s 136ms/step - loss: 0.4754 - accuracy: 0.7214 - val_loss: 2.6059 - val_accuracy: 0.2698\n"
          ],
          "name": "stdout"
        }
      ]
    },
    {
      "cell_type": "code",
      "metadata": {
        "colab": {
          "base_uri": "https://localhost:8080/"
        },
        "id": "IWWHhCGeEmS4",
        "outputId": "5ff12cb2-2821-496c-afe3-b6666f61c26b"
      },
      "source": [
        "predicted_test_Inception= model.predict_classes(test_Resizedimages_dlib)"
      ],
      "execution_count": null,
      "outputs": [
        {
          "output_type": "stream",
          "text": [
            "/usr/local/lib/python3.7/dist-packages/tensorflow/python/keras/engine/sequential.py:450: UserWarning: `model.predict_classes()` is deprecated and will be removed after 2021-01-01. Please use instead:* `np.argmax(model.predict(x), axis=-1)`,   if your model does multi-class classification   (e.g. if it uses a `softmax` last-layer activation).* `(model.predict(x) > 0.5).astype(\"int32\")`,   if your model does binary classification   (e.g. if it uses a `sigmoid` last-layer activation).\n",
            "  warnings.warn('`model.predict_classes()` is deprecated and '\n"
          ],
          "name": "stderr"
        }
      ]
    },
    {
      "cell_type": "code",
      "metadata": {
        "colab": {
          "base_uri": "https://localhost:8080/"
        },
        "id": "ZO_wFRvfGhFM",
        "outputId": "377b5f23-807f-4c1c-9064-625f1f848e4e"
      },
      "source": [
        "#predicted_test_Inception.sort()\n",
        "print(predicted_test_Inception)"
      ],
      "execution_count": null,
      "outputs": [
        {
          "output_type": "stream",
          "text": [
            "[1 1 1 ... 1 1 1]\n"
          ],
          "name": "stdout"
        }
      ]
    },
    {
      "cell_type": "code",
      "metadata": {
        "id": "jdb-tnbbGW-i",
        "colab": {
          "base_uri": "https://localhost:8080/"
        },
        "outputId": "4cd2ad63-d81b-42dc-e7eb-aca8814bc43d"
      },
      "source": [
        "pred_Inception_dlib = predictDeepFakeResult(predicted_test_Inception,frame_count_test_fake+frame_count_test_real)\n",
        "print(pred_Inception_dlib)"
      ],
      "execution_count": null,
      "outputs": [
        {
          "output_type": "stream",
          "text": [
            "[1, 1, 1, 1, 1, 1, 1, 1, 1, 1, 1, 1, 1, 1, 1, 1, 1, 1, 1, 1, 1, 1, 1, 1, 1, 1, 1, 1, 1, 1, 1, 1, 1, 1, 1, 1, 1, 1, 1, 1, 1, 1, 1, 1, 1, 1, 1, 1, 1, 1]\n"
          ],
          "name": "stdout"
        }
      ]
    },
    {
      "cell_type": "code",
      "metadata": {
        "colab": {
          "base_uri": "https://localhost:8080/"
        },
        "id": "HtWyLkF_KNSA",
        "outputId": "e71a846e-54d6-4dc1-e727-f40c8c8d6ec6"
      },
      "source": [
        "from sklearn.metrics import accuracy_score\n",
        "accuracy_score(actual_test_label, pred_Inception_dlib)"
      ],
      "execution_count": null,
      "outputs": [
        {
          "output_type": "execute_result",
          "data": {
            "text/plain": [
              "0.5"
            ]
          },
          "metadata": {
            "tags": []
          },
          "execution_count": 127
        }
      ]
    },
    {
      "cell_type": "code",
      "metadata": {
        "colab": {
          "base_uri": "https://localhost:8080/"
        },
        "id": "E1um6gKJKPio",
        "outputId": "7837f83c-d0e9-4eee-aa0b-168348b5848b"
      },
      "source": [
        "from sklearn.metrics import f1_score\n",
        "f1_score(actual_test_label, pred_Inception_dlib)"
      ],
      "execution_count": null,
      "outputs": [
        {
          "output_type": "execute_result",
          "data": {
            "text/plain": [
              "0.6666666666666666"
            ]
          },
          "metadata": {
            "tags": []
          },
          "execution_count": 128
        }
      ]
    },
    {
      "cell_type": "code",
      "metadata": {
        "colab": {
          "base_uri": "https://localhost:8080/"
        },
        "id": "dsZ9RvhHKRuB",
        "outputId": "7befcea2-b133-4508-f189-8c25b55ddf96"
      },
      "source": [
        "from sklearn.metrics import log_loss\n",
        "log_loss(actual_test_label, pred_Inception_dlib)"
      ],
      "execution_count": null,
      "outputs": [
        {
          "output_type": "execute_result",
          "data": {
            "text/plain": [
              "17.26978799617044"
            ]
          },
          "metadata": {
            "tags": []
          },
          "execution_count": 129
        }
      ]
    },
    {
      "cell_type": "code",
      "metadata": {
        "id": "_t46ji6lVVyV"
      },
      "source": [
        "train_data_mediapipe,label_data_mediapipe = createFeatureDatabase(processedImagePath_Train_Real_mediapipe,processedImagePath_Train_Fake_mediapipe)"
      ],
      "execution_count": null,
      "outputs": []
    },
    {
      "cell_type": "code",
      "metadata": {
        "colab": {
          "base_uri": "https://localhost:8080/"
        },
        "id": "G-Q5AfRTVVuA",
        "outputId": "8f0e5e6d-6f2b-4c93-d44a-b0f3cb71ceff"
      },
      "source": [
        "len(train_data_mediapipe)"
      ],
      "execution_count": null,
      "outputs": [
        {
          "output_type": "execute_result",
          "data": {
            "text/plain": [
              "2760"
            ]
          },
          "metadata": {
            "tags": []
          },
          "execution_count": 74
        }
      ]
    },
    {
      "cell_type": "code",
      "metadata": {
        "id": "ji-la6WzVVsg"
      },
      "source": [
        "test_data_mediapipe, test_label_mediapipe = createFeatureDatabase(processedImagePath_Test_Real_mediapipe,processedImagePath_Test_Fake_mediapipe)"
      ],
      "execution_count": null,
      "outputs": []
    },
    {
      "cell_type": "markdown",
      "metadata": {
        "id": "_V6093fjKrz_"
      },
      "source": [
        "##Efficient Net"
      ]
    },
    {
      "cell_type": "code",
      "metadata": {
        "colab": {
          "base_uri": "https://localhost:8080/"
        },
        "id": "UJ-EzCarKuDH",
        "outputId": "1160ae86-5b1a-4ed6-b411-bfadc3ef1a04"
      },
      "source": [
        "!pip install efficientnet"
      ],
      "execution_count": null,
      "outputs": [
        {
          "output_type": "stream",
          "text": [
            "Collecting efficientnet\n",
            "  Downloading https://files.pythonhosted.org/packages/53/97/84f88e581d6ac86dcf1ab347c497c4c568c38784e3a2bd659b96912ab793/efficientnet-1.1.1-py3-none-any.whl\n",
            "Collecting keras-applications<=1.0.8,>=1.0.7\n",
            "\u001b[?25l  Downloading https://files.pythonhosted.org/packages/71/e3/19762fdfc62877ae9102edf6342d71b28fbfd9dea3d2f96a882ce099b03f/Keras_Applications-1.0.8-py3-none-any.whl (50kB)\n",
            "\r\u001b[K     |██████▌                         | 10kB 22.1MB/s eta 0:00:01\r\u001b[K     |█████████████                   | 20kB 23.5MB/s eta 0:00:01\r\u001b[K     |███████████████████▍            | 30kB 16.8MB/s eta 0:00:01\r\u001b[K     |█████████████████████████▉      | 40kB 14.1MB/s eta 0:00:01\r\u001b[K     |████████████████████████████████| 51kB 3.9MB/s \n",
            "\u001b[?25hRequirement already satisfied: scikit-image in /usr/local/lib/python3.7/dist-packages (from efficientnet) (0.16.2)\n",
            "Requirement already satisfied: h5py in /usr/local/lib/python3.7/dist-packages (from keras-applications<=1.0.8,>=1.0.7->efficientnet) (2.10.0)\n",
            "Requirement already satisfied: numpy>=1.9.1 in /usr/local/lib/python3.7/dist-packages (from keras-applications<=1.0.8,>=1.0.7->efficientnet) (1.19.5)\n",
            "Requirement already satisfied: scipy>=0.19.0 in /usr/local/lib/python3.7/dist-packages (from scikit-image->efficientnet) (1.4.1)\n",
            "Requirement already satisfied: imageio>=2.3.0 in /usr/local/lib/python3.7/dist-packages (from scikit-image->efficientnet) (2.4.1)\n",
            "Requirement already satisfied: PyWavelets>=0.4.0 in /usr/local/lib/python3.7/dist-packages (from scikit-image->efficientnet) (1.1.1)\n",
            "Requirement already satisfied: pillow>=4.3.0 in /usr/local/lib/python3.7/dist-packages (from scikit-image->efficientnet) (7.1.2)\n",
            "Requirement already satisfied: networkx>=2.0 in /usr/local/lib/python3.7/dist-packages (from scikit-image->efficientnet) (2.5.1)\n",
            "Requirement already satisfied: matplotlib!=3.0.0,>=2.0.0 in /usr/local/lib/python3.7/dist-packages (from scikit-image->efficientnet) (3.2.2)\n",
            "Requirement already satisfied: six in /usr/local/lib/python3.7/dist-packages (from h5py->keras-applications<=1.0.8,>=1.0.7->efficientnet) (1.15.0)\n",
            "Requirement already satisfied: decorator<5,>=4.3 in /usr/local/lib/python3.7/dist-packages (from networkx>=2.0->scikit-image->efficientnet) (4.4.2)\n",
            "Requirement already satisfied: cycler>=0.10 in /usr/local/lib/python3.7/dist-packages (from matplotlib!=3.0.0,>=2.0.0->scikit-image->efficientnet) (0.10.0)\n",
            "Requirement already satisfied: kiwisolver>=1.0.1 in /usr/local/lib/python3.7/dist-packages (from matplotlib!=3.0.0,>=2.0.0->scikit-image->efficientnet) (1.3.1)\n",
            "Requirement already satisfied: python-dateutil>=2.1 in /usr/local/lib/python3.7/dist-packages (from matplotlib!=3.0.0,>=2.0.0->scikit-image->efficientnet) (2.8.1)\n",
            "Requirement already satisfied: pyparsing!=2.0.4,!=2.1.2,!=2.1.6,>=2.0.1 in /usr/local/lib/python3.7/dist-packages (from matplotlib!=3.0.0,>=2.0.0->scikit-image->efficientnet) (2.4.7)\n",
            "Installing collected packages: keras-applications, efficientnet\n",
            "Successfully installed efficientnet-1.1.1 keras-applications-1.0.8\n"
          ],
          "name": "stdout"
        }
      ]
    },
    {
      "cell_type": "code",
      "metadata": {
        "colab": {
          "base_uri": "https://localhost:8080/"
        },
        "id": "SS0Ki_j6KwCz",
        "outputId": "b2f90fb8-1a73-4169-c10b-4f946d92c6f5"
      },
      "source": [
        "from efficientnet.tfkeras import EfficientNetB4\n",
        "from keras.regularizers import l2\n",
        "efficient_net = EfficientNetB4(\n",
        "    weights = 'imagenet',\n",
        "    input_shape = (128, 128, 3),\n",
        "    include_top = False,\n",
        "    pooling = 'max'\n",
        ")\n",
        "\n",
        "model = Sequential()\n",
        "model.add(efficient_net)\n",
        "model.add(Dense(units = 512, activation = 'relu'))\n",
        "model.add(Dropout(0.5))\n",
        "model.add(Dense(units = 128, activation = 'relu'))\n",
        "model.add(Dense(units = 1, activation = 'sigmoid',kernel_regularizer=l2(0.01), bias_regularizer=l2(0.01)))\n",
        "model.summary()"
      ],
      "execution_count": null,
      "outputs": [
        {
          "output_type": "stream",
          "text": [
            "Model: \"sequential_8\"\n",
            "_________________________________________________________________\n",
            "Layer (type)                 Output Shape              Param #   \n",
            "=================================================================\n",
            "efficientnet-b4 (Functional) (None, 1792)              17673816  \n",
            "_________________________________________________________________\n",
            "dense_22 (Dense)             (None, 512)               918016    \n",
            "_________________________________________________________________\n",
            "dropout_7 (Dropout)          (None, 512)               0         \n",
            "_________________________________________________________________\n",
            "dense_23 (Dense)             (None, 128)               65664     \n",
            "_________________________________________________________________\n",
            "dense_24 (Dense)             (None, 1)                 129       \n",
            "=================================================================\n",
            "Total params: 18,657,625\n",
            "Trainable params: 18,532,425\n",
            "Non-trainable params: 125,200\n",
            "_________________________________________________________________\n"
          ],
          "name": "stdout"
        }
      ]
    },
    {
      "cell_type": "code",
      "metadata": {
        "id": "twinuD0MLqHj"
      },
      "source": [
        "batch_size = 20\n",
        "epochs = 3\n",
        "num_classes = 2"
      ],
      "execution_count": null,
      "outputs": []
    },
    {
      "cell_type": "code",
      "metadata": {
        "id": "e7PlDZKLKxxD"
      },
      "source": [
        "# cnn.summary()\n",
        "# classifier.summary()\n",
        "from tensorflow.keras.optimizers import Adam\n",
        "model.compile(optimizer = Adam(lr=0.0001), loss='binary_crossentropy', metrics=['accuracy'])"
      ],
      "execution_count": null,
      "outputs": []
    },
    {
      "cell_type": "code",
      "metadata": {
        "id": "cOtiIKwlKzbp"
      },
      "source": [
        "x = []\n",
        "# train_Resizedimages_dlib_label_noise_list = []\n",
        "train_Resizedimages_dlib_label_list = []\n",
        "\n",
        "# for i in range(len(train_Resizedimages_dlib_label_noise)):\n",
        "#   train_Resizedimages_dlib_label_noise_list.append(list(train_Resizedimages_dlib_label_noise[i]))\n",
        "\n",
        "for i in range(len(train_Resizedimages_dlib_label)):\n",
        "  train_Resizedimages_dlib_label_list.append(list(train_Resizedimages_dlib_label[i]))\n",
        "x = train_Resizedimages_dlib_label_noise \n",
        "\n",
        "s = train_Resizedimages_dlib_label_list\n",
        "\n",
        "for i in range(len(s)):\n",
        "  if(s[i][0]==1):\n",
        "    x.append(0)\n",
        "  else:\n",
        "    x.append(1)\n"
      ],
      "execution_count": null,
      "outputs": []
    },
    {
      "cell_type": "code",
      "metadata": {
        "colab": {
          "base_uri": "https://localhost:8080/"
        },
        "id": "3VBcyZYxwkNM",
        "outputId": "6fd3c20b-b204-4c56-c0b3-28c12b4dcf6c"
      },
      "source": [
        ""
      ],
      "execution_count": null,
      "outputs": [
        {
          "output_type": "execute_result",
          "data": {
            "text/plain": [
              "0"
            ]
          },
          "metadata": {
            "tags": []
          },
          "execution_count": 372
        }
      ]
    },
    {
      "cell_type": "code",
      "metadata": {
        "id": "IkTE_KXQYBmp"
      },
      "source": [
        "train_list = []\n",
        "train_Resizedimages_dlib_noise_list = []\n",
        "train_Resizedimages_dlib_list = []\n",
        "\n",
        "for i in range(len(train_Resizedimages_dlib_noise)):\n",
        "  train_Resizedimages_dlib_noise_list.append(list(train_Resizedimages_dlib_noise[i]))\n",
        "\n",
        "for i in range(len(train_Resizedimages_dlib)):\n",
        "  train_Resizedimages_dlib_list.append(list(train_Resizedimages_dlib[i]))\n",
        "\n",
        "# x = train_Resizedimages_dlib_label_noise \n",
        "train_list = train_Resizedimages_dlib_noise_list + train_Resizedimages_dlib_list \n"
      ],
      "execution_count": null,
      "outputs": []
    },
    {
      "cell_type": "code",
      "metadata": {
        "id": "f-LORId7K1Mg"
      },
      "source": [
        "y = []\n",
        "for i in range(len(val_Resizedimages_dlib_label)):\n",
        "  if(val_Resizedimages_dlib_label[i][0]==1):\n",
        "    y.append(0)\n",
        "  else:\n",
        "    y.append(1)"
      ],
      "execution_count": null,
      "outputs": []
    },
    {
      "cell_type": "code",
      "metadata": {
        "colab": {
          "base_uri": "https://localhost:8080/"
        },
        "id": "5E0p1YA-hPaC",
        "outputId": "8a273b3b-9e21-4697-edbc-60e9195986c3"
      },
      "source": [
        "len(x)"
      ],
      "execution_count": null,
      "outputs": [
        {
          "output_type": "execute_result",
          "data": {
            "text/plain": [
              "5632"
            ]
          },
          "metadata": {
            "tags": []
          },
          "execution_count": 307
        }
      ]
    },
    {
      "cell_type": "code",
      "metadata": {
        "colab": {
          "base_uri": "https://localhost:8080/"
        },
        "id": "8lmGVIUShPOr",
        "outputId": "5d53d2b7-e740-4867-daf6-6fa25c46096f"
      },
      "source": [
        "len(train_list)"
      ],
      "execution_count": null,
      "outputs": [
        {
          "output_type": "execute_result",
          "data": {
            "text/plain": [
              "5632"
            ]
          },
          "metadata": {
            "tags": []
          },
          "execution_count": 308
        }
      ]
    },
    {
      "cell_type": "code",
      "metadata": {
        "colab": {
          "base_uri": "https://localhost:8080/"
        },
        "id": "hGvIQaMXK1kf",
        "outputId": "b9118e3e-ee07-4054-8c7b-6f167393a7a2"
      },
      "source": [
        "# train_cnn = cnn.fit(train_images_dlib_CNN, train_images_dlib_label_CNN, batch_size=batch_size,epochs=epochs,verbose=1,validation_data=(val_images_dlib_CNN, val_images_dlib_label_CNN))\n",
        "train_cnn = model.fit(np.array(train_list) , np.array(x),epochs=epochs,verbose=1,validation_data=(val_Resizedimages_dlib, np.array(y)),validation_steps = 80 )"
      ],
      "execution_count": null,
      "outputs": [
        {
          "output_type": "stream",
          "text": [
            "Epoch 1/3\n",
            "176/176 [==============================] - 52s 199ms/step - loss: 0.9033 - accuracy: 0.5474 - val_loss: 0.9300 - val_accuracy: 0.3672\n",
            "Epoch 2/3\n",
            "176/176 [==============================] - 32s 184ms/step - loss: 0.6407 - accuracy: 0.6571 - val_loss: 1.7126 - val_accuracy: 0.2803\n",
            "Epoch 3/3\n",
            "176/176 [==============================] - 32s 183ms/step - loss: 0.4846 - accuracy: 0.7629 - val_loss: 2.7963 - val_accuracy: 0.2859\n"
          ],
          "name": "stdout"
        }
      ]
    },
    {
      "cell_type": "code",
      "metadata": {
        "colab": {
          "base_uri": "https://localhost:8080/"
        },
        "id": "crgvsRCvZmJx",
        "outputId": "b3b88cec-631d-4c9b-f162-2698ae8514aa"
      },
      "source": [
        "len(x)"
      ],
      "execution_count": null,
      "outputs": [
        {
          "output_type": "execute_result",
          "data": {
            "text/plain": [
              "5632"
            ]
          },
          "metadata": {
            "tags": []
          },
          "execution_count": 236
        }
      ]
    },
    {
      "cell_type": "code",
      "metadata": {
        "id": "v8-x_VeJK6Iu"
      },
      "source": [
        "predicted_test_CNN= model.predict(test_Resizedimages_dlib)"
      ],
      "execution_count": null,
      "outputs": []
    },
    {
      "cell_type": "code",
      "metadata": {
        "id": "s1hBfd4qK7mV",
        "colab": {
          "base_uri": "https://localhost:8080/"
        },
        "outputId": "35444443-e6af-4193-8f85-6c43845e3a62"
      },
      "source": [
        "pred_CNN_dlib = predictDeepFakeResult(predicted_test_CNN,frame_count_test_fake+frame_count_test_real)"
      ],
      "execution_count": null,
      "outputs": [
        {
          "output_type": "stream",
          "text": [
            "22 7\n",
            "29 1\n",
            "29 0\n",
            "21 8\n",
            "11 19\n",
            "28 2\n",
            "6 24\n",
            "26 3\n",
            "26 3\n",
            "1 28\n",
            "5 24\n",
            "8 22\n",
            "25 5\n",
            "9 20\n",
            "25 0\n",
            "23 0\n",
            "24 0\n",
            "23 0\n",
            "24 0\n",
            "22 0\n",
            "22 0\n",
            "24 0\n",
            "23 0\n",
            "24 0\n",
            "22 0\n",
            "20 10\n",
            "3 26\n",
            "16 14\n",
            "7 24\n",
            "7 22\n",
            "6 23\n",
            "1 28\n",
            "4 26\n",
            "0 29\n",
            "0 29\n",
            "9 21\n",
            "5 24\n",
            "20 8\n",
            "14 15\n",
            "10 19\n",
            "9 20\n",
            "11 18\n",
            "9 20\n",
            "9 21\n",
            "9 21\n",
            "26 4\n",
            "10 19\n",
            "22 7\n",
            "7 23\n",
            "0 30\n"
          ],
          "name": "stdout"
        }
      ]
    },
    {
      "cell_type": "code",
      "metadata": {
        "colab": {
          "base_uri": "https://localhost:8080/"
        },
        "id": "I4nvwLZjK9Na",
        "outputId": "609b54e1-00df-4c69-ae88-e33b0a4fa3b8"
      },
      "source": [
        "print(pred_CNN_dlib)\n",
        "print(actual_test_label)\n",
        "print(predicted_test_CNN)"
      ],
      "execution_count": null,
      "outputs": [
        {
          "output_type": "stream",
          "text": [
            "[1, 1, 1, 1, 0, 1, 0, 1, 1, 0, 0, 0, 1, 0, 1, 1, 1, 1, 1, 1, 1, 1, 1, 1, 1, 1, 0, 1, 0, 0, 0, 0, 0, 0, 0, 0, 0, 1, 0, 0, 0, 0, 0, 0, 0, 1, 0, 1, 0, 0]\n",
            "[0, 0, 0, 0, 0, 0, 0, 0, 0, 0, 0, 0, 0, 0, 0, 0, 0, 0, 0, 0, 0, 0, 0, 0, 0, 1, 1, 1, 1, 1, 1, 1, 1, 1, 1, 1, 1, 1, 1, 1, 1, 1, 1, 1, 1, 1, 1, 1, 1, 1]\n",
            "[[0.1517316 ]\n",
            " [0.8373086 ]\n",
            " [0.8915899 ]\n",
            " ...\n",
            " [0.00318196]\n",
            " [0.33768559]\n",
            " [0.94017416]]\n"
          ],
          "name": "stdout"
        }
      ]
    },
    {
      "cell_type": "code",
      "metadata": {
        "colab": {
          "base_uri": "https://localhost:8080/"
        },
        "id": "jBCXgeMgK_5P",
        "outputId": "68705db8-6fb2-46bd-9e25-5271657aff31"
      },
      "source": [
        "from sklearn.metrics import accuracy_score\n",
        "accuracy_score(actual_test_label, pred_CNN_dlib)"
      ],
      "execution_count": null,
      "outputs": [
        {
          "output_type": "execute_result",
          "data": {
            "text/plain": [
              "0.22"
            ]
          },
          "metadata": {
            "tags": []
          },
          "execution_count": 350
        }
      ]
    },
    {
      "cell_type": "code",
      "metadata": {
        "colab": {
          "base_uri": "https://localhost:8080/"
        },
        "id": "3fieyUVpLBes",
        "outputId": "5b9f0108-77fb-4cd0-d632-3a0ead36d26e"
      },
      "source": [
        "from sklearn.metrics import f1_score\n",
        "f1_score(actual_test_label, pred_CNN_dlib)"
      ],
      "execution_count": null,
      "outputs": [
        {
          "output_type": "execute_result",
          "data": {
            "text/plain": [
              "0.20408163265306126"
            ]
          },
          "metadata": {
            "tags": []
          },
          "execution_count": 351
        }
      ]
    },
    {
      "cell_type": "code",
      "metadata": {
        "colab": {
          "base_uri": "https://localhost:8080/"
        },
        "id": "c19s2FHzLDDj",
        "outputId": "b360f8ea-dfa7-4a6a-81a6-932bf3d26154"
      },
      "source": [
        "from sklearn.metrics import log_loss\n",
        "log_loss(actual_test_label, pred_CNN_dlib)"
      ],
      "execution_count": null,
      "outputs": [
        {
          "output_type": "execute_result",
          "data": {
            "text/plain": [
              "26.940549435053804"
            ]
          },
          "metadata": {
            "tags": []
          },
          "execution_count": 352
        }
      ]
    },
    {
      "cell_type": "code",
      "metadata": {
        "id": "EdtdyJ0aakCa"
      },
      "source": [
        ""
      ],
      "execution_count": null,
      "outputs": []
    }
  ]
}